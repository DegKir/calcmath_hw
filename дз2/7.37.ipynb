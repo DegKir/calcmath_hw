{
 "cells": [
  {
   "cell_type": "code",
   "execution_count": 2,
   "metadata": {},
   "outputs": [],
   "source": [
    "#всегдашний зачин\n",
    "import sympy\n",
    "from sympy.matrices import Matrix\n",
    "from sympy.abc import x,y\n",
    "from sympy import *\n",
    "init_printing( use_latex='mathjax' )\n",
    "fs=symbols(\"f\")\n",
    "f = Function(\"f\")\n",
    "a = symbols(\"a\")\n",
    "b = symbols(\"b\")"
   ]
  },
  {
   "cell_type": "markdown",
   "metadata": {},
   "source": [
    "# Найти область сходимости метода Якоби и метода Зейделя для систем с матрицами вида"
   ]
  },
  {
   "cell_type": "code",
   "execution_count": 3,
   "metadata": {},
   "outputs": [],
   "source": [
    "M = Matrix([[a,0,b],[0,a,0],[b,0,a]])"
   ]
  },
  {
   "cell_type": "code",
   "execution_count": 4,
   "metadata": {
    "scrolled": false
   },
   "outputs": [
    {
     "data": {
      "text/latex": [
       "$\\displaystyle \\left[\\begin{matrix}a & 0 & b\\\\0 & a & 0\\\\b & 0 & a\\end{matrix}\\right]$"
      ],
      "text/plain": [
       "⎡a  0  b⎤\n",
       "⎢       ⎥\n",
       "⎢0  a  0⎥\n",
       "⎢       ⎥\n",
       "⎣b  0  a⎦"
      ]
     },
     "execution_count": 4,
     "metadata": {},
     "output_type": "execute_result"
    }
   ],
   "source": [
    "M"
   ]
  },
  {
   "cell_type": "markdown",
   "metadata": {},
   "source": [
    "## Найдем собственные значения "
   ]
  },
  {
   "cell_type": "code",
   "execution_count": 10,
   "metadata": {},
   "outputs": [
    {
     "data": {
      "text/latex": [
       "$\\displaystyle \\left( \\left[\\begin{matrix}0 & -1 & 1\\\\1 & 0 & 0\\\\0 & 1 & 1\\end{matrix}\\right], \\  \\left[\\begin{matrix}a & 0 & 0\\\\0 & a - b & 0\\\\0 & 0 & a + b\\end{matrix}\\right]\\right)$"
      ],
      "text/plain": [
       "⎛⎡0  -1  1⎤  ⎡a    0      0  ⎤⎞\n",
       "⎜⎢        ⎥  ⎢               ⎥⎟\n",
       "⎜⎢1  0   0⎥, ⎢0  a - b    0  ⎥⎟\n",
       "⎜⎢        ⎥  ⎢               ⎥⎟\n",
       "⎝⎣0  1   1⎦  ⎣0    0    a + b⎦⎠"
      ]
     },
     "execution_count": 10,
     "metadata": {},
     "output_type": "execute_result"
    }
   ],
   "source": [
    "M.diagonalize()"
   ]
  },
  {
   "cell_type": "markdown",
   "metadata": {},
   "source": [
    "$\\lambda_1=a, \\lambda_2=a-b,\\lambda_3=a+b $"
   ]
  },
  {
   "cell_type": "markdown",
   "metadata": {},
   "source": [
    "Из критерия сходимости метода Якоби и критерия сходимости метода Зейделя следует, что требуемое условие это $\\max\\{|a-b|,|a+b|\\}<1$"
   ]
  }
 ],
 "metadata": {
  "kernelspec": {
   "display_name": "Python 3",
   "language": "python",
   "name": "python3"
  },
  "language_info": {
   "codemirror_mode": {
    "name": "ipython",
    "version": 3
   },
   "file_extension": ".py",
   "mimetype": "text/x-python",
   "name": "python",
   "nbconvert_exporter": "python",
   "pygments_lexer": "ipython3",
   "version": "3.6.9"
  }
 },
 "nbformat": 4,
 "nbformat_minor": 4
}
