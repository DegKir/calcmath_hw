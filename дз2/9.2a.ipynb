{
 "cells": [
  {
   "cell_type": "code",
   "execution_count": 2,
   "metadata": {},
   "outputs": [],
   "source": [
    "#всегдашний зачин\n",
    "import sympy\n",
    "from sympy.matrices import Matrix\n",
    "from sympy.abc import x,y\n",
    "from sympy import *\n",
    "init_printing( use_latex='mathjax' )\n",
    "fs=symbols(\"f\")\n",
    "f = Function(\"f\")\n",
    "er = symbols(\"er\")\n",
    "b_1=symbols(\"b_1\")\n",
    "b_2=symbols(\"b_2\")"
   ]
  },
  {
   "cell_type": "markdown",
   "metadata": {},
   "source": [
    "# Дана система алгебраических уравнений $Ax=b$. \n",
    "Оценить максимально точно относительную погрешность $m(\\Delta x)/m(x)$ в норме $m(x)=max_i|x_i|$.\n",
    "Найти вектор ошибки $\\Delta b$, на котором эта оценка достигается. При каком $\\Delta b$ относительная ошибка будет минимальной ? Найти ее."
   ]
  },
  {
   "cell_type": "markdown",
   "metadata": {},
   "source": [
    "$m(\\Delta b)/m(b) \\leq 1/100$"
   ]
  },
  {
   "cell_type": "code",
   "execution_count": 3,
   "metadata": {},
   "outputs": [],
   "source": [
    "A = Matrix([[101,110],[110,122]])\n",
    "b = Matrix([312,342])\n",
    "er = 1/100"
   ]
  },
  {
   "cell_type": "code",
   "execution_count": 4,
   "metadata": {},
   "outputs": [
    {
     "data": {
      "text/latex": [
       "$\\displaystyle 0.01$"
      ],
      "text/plain": [
       "0.01"
      ]
     },
     "execution_count": 4,
     "metadata": {},
     "output_type": "execute_result"
    }
   ],
   "source": [
    "er"
   ]
  },
  {
   "cell_type": "code",
   "execution_count": 5,
   "metadata": {},
   "outputs": [
    {
     "data": {
      "text/latex": [
       "$\\displaystyle \\left[\\begin{matrix}101 & 110\\\\110 & 122\\end{matrix}\\right]$"
      ],
      "text/plain": [
       "⎡101  110⎤\n",
       "⎢        ⎥\n",
       "⎣110  122⎦"
      ]
     },
     "execution_count": 5,
     "metadata": {},
     "output_type": "execute_result"
    }
   ],
   "source": [
    "A"
   ]
  },
  {
   "cell_type": "code",
   "execution_count": 6,
   "metadata": {
    "scrolled": true
   },
   "outputs": [
    {
     "data": {
      "text/latex": [
       "$\\displaystyle \\left[\\begin{matrix}312\\\\342\\end{matrix}\\right]$"
      ],
      "text/plain": [
       "⎡312⎤\n",
       "⎢   ⎥\n",
       "⎣342⎦"
      ]
     },
     "execution_count": 6,
     "metadata": {},
     "output_type": "execute_result"
    }
   ],
   "source": [
    "b"
   ]
  },
  {
   "cell_type": "markdown",
   "metadata": {},
   "source": [
    "Решение:"
   ]
  },
  {
   "cell_type": "markdown",
   "metadata": {},
   "source": [
    "## 1.Вычисление оценки"
   ]
  },
  {
   "cell_type": "markdown",
   "metadata": {},
   "source": [
    "$Ax=b$"
   ]
  },
  {
   "cell_type": "markdown",
   "metadata": {},
   "source": [
    "$A(x+\\Delta x)=(b+\\Delta b)$"
   ]
  },
  {
   "cell_type": "markdown",
   "metadata": {},
   "source": [
    "$A\\Delta x=\\Delta b$"
   ]
  },
  {
   "cell_type": "markdown",
   "metadata": {},
   "source": [
    "В силу того,что норма $x$ фиксирована, на размер относительной погрешнотси будет влиять только норма $\\Delta x$. В частности, норма $x$ равна"
   ]
  },
  {
   "cell_type": "code",
   "execution_count": 36,
   "metadata": {
    "scrolled": true
   },
   "outputs": [
    {
     "data": {
      "text/latex": [
       "$\\displaystyle 2$"
      ],
      "text/plain": [
       "2"
      ]
     },
     "execution_count": 36,
     "metadata": {},
     "output_type": "execute_result"
    }
   ],
   "source": [
    "(A.inv()*b).norm(oo)"
   ]
  },
  {
   "cell_type": "markdown",
   "metadata": {},
   "source": [
    "Оценить погрешность решения можно $||\\Delta x|| = ||A^{-1}\\cdot \\Delta b||\\leq ||A^{-1}||\\cdot||\\Delta b|| $"
   ]
  },
  {
   "cell_type": "code",
   "execution_count": 40,
   "metadata": {},
   "outputs": [
    {
     "data": {
      "text/latex": [
       "$\\displaystyle \\left[\\begin{matrix}\\frac{61}{111} & - \\frac{55}{111}\\\\- \\frac{55}{111} & \\frac{101}{222}\\end{matrix}\\right]$"
      ],
      "text/plain": [
       "⎡ 61   -55 ⎤\n",
       "⎢───   ────⎥\n",
       "⎢111   111 ⎥\n",
       "⎢          ⎥\n",
       "⎢-55   101 ⎥\n",
       "⎢────  ─── ⎥\n",
       "⎣111   222 ⎦"
      ]
     },
     "execution_count": 40,
     "metadata": {},
     "output_type": "execute_result"
    }
   ],
   "source": [
    "A.inv()"
   ]
  },
  {
   "cell_type": "code",
   "execution_count": 39,
   "metadata": {
    "scrolled": true
   },
   "outputs": [
    {
     "data": {
      "text/latex": [
       "$\\displaystyle \\frac{116}{111}$"
      ],
      "text/plain": [
       "116\n",
       "───\n",
       "111"
      ]
     },
     "execution_count": 39,
     "metadata": {},
     "output_type": "execute_result"
    }
   ],
   "source": [
    "(A.inv()).norm(oo)"
   ]
  },
  {
   "cell_type": "code",
   "execution_count": 41,
   "metadata": {},
   "outputs": [
    {
     "data": {
      "text/latex": [
       "$\\displaystyle \\left[\\begin{matrix}3.12\\\\3.42\\end{matrix}\\right]$"
      ],
      "text/plain": [
       "⎡3.12⎤\n",
       "⎢    ⎥\n",
       "⎣3.42⎦"
      ]
     },
     "execution_count": 41,
     "metadata": {},
     "output_type": "execute_result"
    }
   ],
   "source": [
    "(b*er)"
   ]
  },
  {
   "cell_type": "code",
   "execution_count": 42,
   "metadata": {},
   "outputs": [
    {
     "data": {
      "text/latex": [
       "$\\displaystyle 3.42$"
      ],
      "text/plain": [
       "3.42000000000000"
      ]
     },
     "execution_count": 42,
     "metadata": {},
     "output_type": "execute_result"
    }
   ],
   "source": [
    "(b*er).norm(oo)"
   ]
  },
  {
   "cell_type": "code",
   "execution_count": 43,
   "metadata": {},
   "outputs": [
    {
     "data": {
      "text/latex": [
       "$\\displaystyle 3.57405405405405$"
      ],
      "text/plain": [
       "3.57405405405405"
      ]
     },
     "execution_count": 43,
     "metadata": {},
     "output_type": "execute_result"
    }
   ],
   "source": [
    "(A.inv()).norm(oo)*(b*er).norm(oo)"
   ]
  },
  {
   "cell_type": "markdown",
   "metadata": {},
   "source": [
    "Тогда относительная погрешность будет"
   ]
  },
  {
   "cell_type": "code",
   "execution_count": 44,
   "metadata": {},
   "outputs": [
    {
     "data": {
      "text/latex": [
       "$\\displaystyle 1.78702702702703$"
      ],
      "text/plain": [
       "1.78702702702703"
      ]
     },
     "execution_count": 44,
     "metadata": {},
     "output_type": "execute_result"
    }
   ],
   "source": [
    "((A.inv()).norm(oo)*(b*er).norm(oo))/2"
   ]
  },
  {
   "cell_type": "markdown",
   "metadata": {},
   "source": [
    "## 2.Поиск вектора ошибки, доставляющего максимум погрешности"
   ]
  },
  {
   "cell_type": "markdown",
   "metadata": {},
   "source": [
    "Найдем, на каком векторе ошибка достигается равенство в оценке норм, из которой в нашей оценке с числом обусловленности будет следовать равенство"
   ]
  },
  {
   "cell_type": "markdown",
   "metadata": {},
   "source": [
    "$||A^{-1}\\Delta b||=||A^{-1}||\\cdot||\\Delta b||$"
   ]
  },
  {
   "cell_type": "markdown",
   "metadata": {},
   "source": [
    "Рассмотрим для начала, на каком единичном векторе $\\Delta b$ это будет достигаться :"
   ]
  },
  {
   "cell_type": "markdown",
   "metadata": {},
   "source": [
    "$\\Delta b = ? : ||A\\Delta b||_\\inf=max_i\\Sigma_j|A^i_j|$"
   ]
  },
  {
   "cell_type": "markdown",
   "metadata": {},
   "source": [
    "Пусть максимум нормы матрицы достигается на некотором индексе $i_0$. Тогда для вектора $\\Delta b_1=\\{sign(A^{i_0}_j),j=1,...n \\}$ оценка будет достигаться"
   ]
  },
  {
   "cell_type": "markdown",
   "metadata": {},
   "source": [
    "Соответственно на неединичном векторе с длинной $l$ максимум будет достигаться на $l\\Delta b_1$. В частности, в нашей задаче это будет $l\\Delta b_1 = \\frac{||b||}{100}\\Delta b_1=3.42 \\Delta b_1$"
   ]
  },
  {
   "cell_type": "markdown",
   "metadata": {},
   "source": [
    "Проверим этот результат : максимум в обратной матрице достигается на первой строке :"
   ]
  },
  {
   "cell_type": "code",
   "execution_count": 21,
   "metadata": {},
   "outputs": [
    {
     "data": {
      "text/latex": [
       "$\\displaystyle \\left[\\begin{matrix}\\frac{61}{111} & - \\frac{55}{111}\\\\- \\frac{55}{111} & \\frac{101}{222}\\end{matrix}\\right]$"
      ],
      "text/plain": [
       "⎡ 61   -55 ⎤\n",
       "⎢───   ────⎥\n",
       "⎢111   111 ⎥\n",
       "⎢          ⎥\n",
       "⎢-55   101 ⎥\n",
       "⎢────  ─── ⎥\n",
       "⎣111   222 ⎦"
      ]
     },
     "execution_count": 21,
     "metadata": {},
     "output_type": "execute_result"
    }
   ],
   "source": [
    "B"
   ]
  },
  {
   "cell_type": "code",
   "execution_count": 25,
   "metadata": {},
   "outputs": [
    {
     "data": {
      "text/latex": [
       "$\\displaystyle \\left[\\begin{matrix}1\\\\-1\\end{matrix}\\right]$"
      ],
      "text/plain": [
       "⎡1 ⎤\n",
       "⎢  ⎥\n",
       "⎣-1⎦"
      ]
     },
     "execution_count": 25,
     "metadata": {},
     "output_type": "execute_result"
    }
   ],
   "source": [
    "db_one = Matrix ([1,-1])\n",
    "l=3.42\n",
    "db_one"
   ]
  },
  {
   "cell_type": "code",
   "execution_count": 27,
   "metadata": {},
   "outputs": [
    {
     "data": {
      "text/latex": [
       "$\\displaystyle \\left[\\begin{matrix}3.42\\\\-3.42\\end{matrix}\\right]$"
      ],
      "text/plain": [
       "⎡3.42 ⎤\n",
       "⎢     ⎥\n",
       "⎣-3.42⎦"
      ]
     },
     "execution_count": 27,
     "metadata": {},
     "output_type": "execute_result"
    }
   ],
   "source": [
    "db=l*db_one\n",
    "db"
   ]
  },
  {
   "cell_type": "code",
   "execution_count": 31,
   "metadata": {},
   "outputs": [
    {
     "data": {
      "text/latex": [
       "$\\displaystyle \\left[\\begin{matrix}2\\\\1\\end{matrix}\\right]$"
      ],
      "text/plain": [
       "⎡2⎤\n",
       "⎢ ⎥\n",
       "⎣1⎦"
      ]
     },
     "execution_count": 31,
     "metadata": {},
     "output_type": "execute_result"
    }
   ],
   "source": [
    "x_zero=B*b\n",
    "x_zero"
   ]
  },
  {
   "cell_type": "code",
   "execution_count": 33,
   "metadata": {},
   "outputs": [
    {
     "data": {
      "text/latex": [
       "$\\displaystyle \\left[\\begin{matrix}5.5740540540541\\\\-2.25054054054053\\end{matrix}\\right]$"
      ],
      "text/plain": [
       "⎡ 5.5740540540541 ⎤\n",
       "⎢                 ⎥\n",
       "⎣-2.25054054054053⎦"
      ]
     },
     "execution_count": 33,
     "metadata": {},
     "output_type": "execute_result"
    }
   ],
   "source": [
    "x_big_error=B*(b+db)\n",
    "x_big_error"
   ]
  },
  {
   "cell_type": "code",
   "execution_count": 35,
   "metadata": {},
   "outputs": [
    {
     "data": {
      "text/latex": [
       "$\\displaystyle 1.78702702702705$"
      ],
      "text/plain": [
       "1.78702702702705"
      ]
     },
     "execution_count": 35,
     "metadata": {},
     "output_type": "execute_result"
    }
   ],
   "source": [
    "(x_big_error-x_zero).norm(oo)/(x_zero).norm(oo)"
   ]
  },
  {
   "cell_type": "markdown",
   "metadata": {},
   "source": [
    "Оценка достигнута!"
   ]
  }
 ],
 "metadata": {
  "kernelspec": {
   "display_name": "Python 3",
   "language": "python",
   "name": "python3"
  },
  "language_info": {
   "codemirror_mode": {
    "name": "ipython",
    "version": 3
   },
   "file_extension": ".py",
   "mimetype": "text/x-python",
   "name": "python",
   "nbconvert_exporter": "python",
   "pygments_lexer": "ipython3",
   "version": "3.6.9"
  }
 },
 "nbformat": 4,
 "nbformat_minor": 4
}
