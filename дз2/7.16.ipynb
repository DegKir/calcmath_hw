{
 "cells": [
  {
   "cell_type": "code",
   "execution_count": 3,
   "metadata": {},
   "outputs": [],
   "source": [
    "#всегдашний зачин\n",
    "import sympy\n",
    "from sympy.abc import x,y\n",
    "from sympy import *\n",
    "init_printing( use_latex='mathjax' )\n",
    "fs=symbols(\"f\")\n",
    "f = Function(\"f\")\n",
    "h = symbols(\"h\")\n",
    "x0=symbols(\"x0\")"
   ]
  },
  {
   "cell_type": "markdown",
   "metadata": {},
   "source": [
    "$B$ - невырожденная матрица, $\\left\\Vert{ \\cdot }\\right\\| $ - некоторая норма в простраснтве векторов размерности $N$. Доказать, что $\\left\\Vert{x}\\right\\|^* = \\left\\Vert{ Bx }\\right\\| $ так же является нормой в пространстве векторов. Какая норма в пространстве матриц порождается нормой $\\left\\Vert{x}\\right\\|^* $ в пространстве векторов ?"
   ]
  },
  {
   "cell_type": "markdown",
   "metadata": {},
   "source": [
    "Решение:"
   ]
  },
  {
   "cell_type": "markdown",
   "metadata": {},
   "source": [
    "Невырожденную матрицу $B$ рассмотрим как линейное преобразование, действующее в линейном пространстве размерности N. В силу невыржденности $B$, верно что преобразование биективно. В таком случае нормой вектора $x$ называется норма его образа. Отсюда сразу следует, что :"
   ]
  },
  {
   "cell_type": "markdown",
   "metadata": {},
   "source": [
    "а) Норма звездочка неотрицательно и достигает нуля в нулевом векторе"
   ]
  },
  {
   "cell_type": "markdown",
   "metadata": {},
   "source": [
    "б)Скаляр выносится с модулем в силу линейности $B$"
   ]
  },
  {
   "cell_type": "markdown",
   "metadata": {},
   "source": [
    "в)$m^*(x+y)=m(B(x+y))=m(Bx+By)\\leq m(Bx)+m(By)=m^*(x)+m^*(y)$, т.е. неравенство треугольника так же выполняется"
   ]
  },
  {
   "cell_type": "markdown",
   "metadata": {},
   "source": [
    "Заметим, что $\\left\\Vert{A}\\right\\|^*=\\max_{\\left\\Vert{x}\\right\\|^*=1} \\left\\Vert{Ax}\\right\\|^* = \\max_{\\left\\Vert{Bx}\\right\\|=1} \\left\\Vert{BAx}\\right\\|  $"
   ]
  }
 ],
 "metadata": {
  "kernelspec": {
   "display_name": "Python 3",
   "language": "python",
   "name": "python3"
  },
  "language_info": {
   "codemirror_mode": {
    "name": "ipython",
    "version": 3
   },
   "file_extension": ".py",
   "mimetype": "text/x-python",
   "name": "python",
   "nbconvert_exporter": "python",
   "pygments_lexer": "ipython3",
   "version": "3.6.9"
  }
 },
 "nbformat": 4,
 "nbformat_minor": 4
}
