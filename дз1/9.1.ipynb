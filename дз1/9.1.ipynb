{
 "cells": [
  {
   "cell_type": "code",
   "execution_count": 40,
   "metadata": {},
   "outputs": [],
   "source": [
    "import math\n",
    "import sympy\n",
    "from sympy.abc import x,y\n",
    "from sympy import *\n",
    "init_printing( use_latex='mathjax' )\n",
    "fs=symbols(\"f\")\n",
    "f = Function(\"f\")\n",
    "h = symbols(\"h\")\n",
    "x0=symbols(\"x0\")"
   ]
  },
  {
   "cell_type": "code",
   "execution_count": 41,
   "metadata": {},
   "outputs": [],
   "source": [
    "def exp_calc(X):\n",
    "    SUM=0\n",
    "    TERM=1\n",
    "    i=1\n",
    "    while(SUM+TERM!=SUM):\n",
    "        SUM+=TERM;\n",
    "        TERM*=X/i;\n",
    "        i+=1;\n",
    "    return(SUM)"
   ]
  },
  {
   "cell_type": "code",
   "execution_count": 42,
   "metadata": {},
   "outputs": [],
   "source": [
    "arr=[1,5,10,15,20,25,-1,-5,-10,-15,-20,-25]"
   ]
  },
  {
   "cell_type": "code",
   "execution_count": 43,
   "metadata": {},
   "outputs": [
    {
     "name": "stdout",
     "output_type": "stream",
     "text": [
      "calc_exp(1) = 2.7182818284590455\n",
      "real_exp(1) = 2.718281828459045\n",
      "\n",
      "calc_exp(5) = 148.4131591025766\n",
      "real_exp(5) = 148.4131591025766\n",
      "\n",
      "calc_exp(10) = 22026.465794806714\n",
      "real_exp(10) = 22026.465794806718\n",
      "\n",
      "calc_exp(15) = 3269017.3724721107\n",
      "real_exp(15) = 3269017.3724721107\n",
      "\n",
      "calc_exp(20) = 485165195.40979046\n",
      "real_exp(20) = 485165195.4097903\n",
      "\n",
      "calc_exp(25) = 72004899337.38591\n",
      "real_exp(25) = 72004899337.38588\n",
      "\n",
      "calc_exp(-1) = 0.36787944117144245\n",
      "real_exp(-1) = 0.36787944117144233\n",
      "\n",
      "calc_exp(-5) = 0.006737946999084638\n",
      "real_exp(-5) = 0.006737946999085467\n",
      "\n",
      "calc_exp(-10) = 4.539992967040021e-05\n",
      "real_exp(-10) = 4.5399929762484854e-05\n",
      "\n",
      "calc_exp(-15) = 3.0591000258204454e-07\n",
      "real_exp(-15) = 3.059023205018258e-07\n",
      "\n",
      "calc_exp(-20) = 6.147561828914626e-09\n",
      "real_exp(-20) = 2.061153622438558e-09\n",
      "\n",
      "calc_exp(-25) = 8.181278981020606e-07\n",
      "real_exp(-25) = 1.3887943864964021e-11\n",
      "\n"
     ]
    }
   ],
   "source": [
    "for value in arr:\n",
    "    s_res=str(exp_calc(value))\n",
    "    s_val=str(value)\n",
    "    print(\"calc_exp(\"+s_val+\") = \"+s_res+\"\\n\"+\"real_exp(\"+s_val+\") = \"+str(math.exp(value)))\n",
    "    print(\"\")"
   ]
  },
  {
   "cell_type": "markdown",
   "metadata": {},
   "source": [
    "Начиная с $val=-20$ вычисленные значения $calc_{exp}(val)$ начинают расходиться с вычисленными по библиотечным функциям в силу того, что предложенный метод останавливает вычисления когда новый вычисленный член по размеру сопоставим с машинной точностью представления числа. Когда значения экспоненты становятся меньше машинной точности, метод перестает давать достоверные результаты"
   ]
  },
  {
   "cell_type": "markdown",
   "metadata": {},
   "source": [
    "Метод можно улучшить если раскладывать не по маклорену а по тейлору в окрестности точки :"
   ]
  },
  {
   "cell_type": "code",
   "execution_count": 46,
   "metadata": {},
   "outputs": [],
   "source": [
    "fs=exp(x)"
   ]
  },
  {
   "cell_type": "code",
   "execution_count": 47,
   "metadata": {},
   "outputs": [
    {
     "data": {
      "text/latex": [
       "$\\displaystyle e^{x}$"
      ],
      "text/plain": [
       " x\n",
       "ℯ "
      ]
     },
     "execution_count": 47,
     "metadata": {},
     "output_type": "execute_result"
    }
   ],
   "source": [
    "fs"
   ]
  },
  {
   "cell_type": "code",
   "execution_count": 50,
   "metadata": {},
   "outputs": [
    {
     "data": {
      "text/latex": [
       "$\\displaystyle e^{-10} + \\frac{x + 10}{e^{10}} + \\frac{\\left(x + 10\\right)^{2}}{2 e^{10}} + \\frac{\\left(x + 10\\right)^{3}}{6 e^{10}} + O\\left(\\left(x + 10\\right)^{4}; x\\rightarrow -10\\right)$"
      ],
      "text/plain": [
       "                               2  -10           3  -10                        \n",
       " -10             -10   (x + 10) ⋅ℯ      (x + 10) ⋅ℯ       ⎛        4         ⎞\n",
       "ℯ    + (x + 10)⋅ℯ    + ────────────── + ────────────── + O⎝(x + 10) ; x → -10⎠\n",
       "                             2                6                               "
      ]
     },
     "execution_count": 50,
     "metadata": {},
     "output_type": "execute_result"
    }
   ],
   "source": [
    "series(fs,x,-10,4)"
   ]
  }
 ],
 "metadata": {
  "kernelspec": {
   "display_name": "Python 3",
   "language": "python",
   "name": "python3"
  },
  "language_info": {
   "codemirror_mode": {
    "name": "ipython",
    "version": 3
   },
   "file_extension": ".py",
   "mimetype": "text/x-python",
   "name": "python",
   "nbconvert_exporter": "python",
   "pygments_lexer": "ipython3",
   "version": "3.6.9"
  }
 },
 "nbformat": 4,
 "nbformat_minor": 4
}
