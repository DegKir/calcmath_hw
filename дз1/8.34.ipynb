{
 "cells": [
  {
   "cell_type": "code",
   "execution_count": 1,
   "metadata": {},
   "outputs": [],
   "source": [
    "import sympy\n",
    "from sympy.abc import x,y\n",
    "from sympy import *\n",
    "init_printing( use_latex='mathjax' )\n",
    "fs=symbols(\"f\")\n",
    "f = Function(\"f\")\n",
    "h = symbols(\"h\")\n",
    "x0=symbols(\"x0\")"
   ]
  },
  {
   "cell_type": "markdown",
   "metadata": {},
   "source": [
    "Рассмотрим формулу для вычисления первой производной"
   ]
  },
  {
   "cell_type": "code",
   "execution_count": 2,
   "metadata": {
    "scrolled": true
   },
   "outputs": [
    {
     "data": {
      "text/latex": [
       "$\\displaystyle \\frac{- f{\\left(- 2 h + x \\right)} + f{\\left(2 h + x \\right)}}{4 h}$"
      ],
      "text/plain": [
       "-f(-2⋅h + x) + f(2⋅h + x)\n",
       "─────────────────────────\n",
       "           4⋅h           "
      ]
     },
     "execution_count": 2,
     "metadata": {},
     "output_type": "execute_result"
    }
   ],
   "source": [
    "(f(x+2*h)-f(x-2*h))/(4*h)"
   ]
  },
  {
   "cell_type": "markdown",
   "metadata": {},
   "source": [
    "Разложим в ряд Тейлора"
   ]
  },
  {
   "cell_type": "code",
   "execution_count": 3,
   "metadata": {
    "scrolled": true
   },
   "outputs": [
    {
     "data": {
      "text/latex": [
       "$\\displaystyle \\left. \\frac{d}{d \\xi_{1}} f{\\left(\\xi_{1} \\right)} \\right|_{\\substack{ \\xi_{1}=x }} + \\frac{2 h^{2} \\left. \\frac{d^{3}}{d \\xi_{1}^{3}} f{\\left(\\xi_{1} \\right)} \\right|_{\\substack{ \\xi_{1}=x }}}{3} + O\\left(h^{4}\\right)$"
      ],
      "text/plain": [
       "                         ⎛  3        ⎞│            \n",
       "                       2 ⎜ d         ⎟│            \n",
       "                    2⋅h ⋅⎜────(f(ξ₁))⎟│            \n",
       "                         ⎜   3       ⎟│            \n",
       "⎛ d        ⎞│            ⎝dξ₁        ⎠│ξ₁=x    ⎛ 4⎞\n",
       "⎜───(f(ξ₁))⎟│     + ─────────────────────── + O⎝h ⎠\n",
       "⎝dξ₁       ⎠│ξ₁=x              3                   "
      ]
     },
     "execution_count": 3,
     "metadata": {},
     "output_type": "execute_result"
    }
   ],
   "source": [
    "series((f(x+2*h)-f(x-2*h))/(4*h),h,0,4)"
   ]
  },
  {
   "cell_type": "markdown",
   "metadata": {},
   "source": [
    "Отсюда видно: что это предложенная формула это формула второго порядка аппроксимации с погрешностью аппроксимации $E_{approx}=\\frac{2h^2M}{3}$, где $M=max_{[0;2h]}|f'''(x)|$"
   ]
  },
  {
   "cell_type": "markdown",
   "metadata": {},
   "source": [
    "Второй вклад в погрешность вычислений связан с неточностью вычислений на компьютере $E_{calculation}=O(\\frac{\\epsilon f(x)}{h})$"
   ]
  },
  {
   "cell_type": "markdown",
   "metadata": {},
   "source": [
    "Суммарная ошибка будет $\\frac{2h^2M}{3}+2\\frac{\\epsilon f(x)}{h}$. При этом погрешность будет минимальна при $h_0 \\approx (\\frac{3\\epsilon f(x)}{M})^{1/3}$"
   ]
  },
  {
   "cell_type": "markdown",
   "metadata": {},
   "source": [
    "Оценим теперь численное значение оптимального шага для функции $f(x)=\\cos(x+2\\pi/3)$ в случае использования IEEE арифметики одинарной и двойной точности"
   ]
  },
  {
   "cell_type": "markdown",
   "metadata": {},
   "source": [
    "Найдем для начала максимум третьей производной"
   ]
  },
  {
   "cell_type": "code",
   "execution_count": 4,
   "metadata": {},
   "outputs": [
    {
     "name": "stdout",
     "output_type": "stream",
     "text": [
      "-sin(x + pi/6)\n"
     ]
    }
   ],
   "source": [
    "f=cos(x+2*pi/3)\n",
    "print(f)"
   ]
  },
  {
   "cell_type": "code",
   "execution_count": 5,
   "metadata": {},
   "outputs": [
    {
     "name": "stdout",
     "output_type": "stream",
     "text": [
      "sin(x + pi/6)\n"
     ]
    }
   ],
   "source": [
    "g=diff(diff((f)))\n",
    "print(g)"
   ]
  },
  {
   "cell_type": "markdown",
   "metadata": {},
   "source": [
    "Отсюда следует что производная не принимает значения больше чем $1 \\Rightarrow M \\leq 1 \\\\$ При этом сама функция так же не принимает значение больше еденицы : $f(x)\\leq1$ "
   ]
  },
  {
   "cell_type": "markdown",
   "metadata": {},
   "source": [
    "Число одинарной точности имеет погрешность порядка 7 знаков после запятой, число двойной точности - порядка 16и знаков. Возьмем соответсвенно $\\epsilon_1=10^{-7},\\;\\epsilon_2=10^{-16}$"
   ]
  },
  {
   "cell_type": "code",
   "execution_count": 6,
   "metadata": {},
   "outputs": [],
   "source": [
    "M = symbols(\"M\")\n",
    "e = symbols(\"e\")"
   ]
  },
  {
   "cell_type": "code",
   "execution_count": 7,
   "metadata": {},
   "outputs": [
    {
     "data": {
      "text/latex": [
       "$\\displaystyle 1.44224957030741 \\left(\\frac{e f}{M}\\right)^{0.333333333333333}$"
      ],
      "text/plain": [
       "                      0.333333333333333\n",
       "                 ⎛e⋅f⎞                 \n",
       "1.44224957030741⋅⎜───⎟                 \n",
       "                 ⎝ M ⎠                 "
      ]
     },
     "execution_count": 7,
     "metadata": {},
     "output_type": "execute_result"
    }
   ],
   "source": [
    "g = (3*e*fs/M)**(1/3)\n",
    "g"
   ]
  },
  {
   "cell_type": "code",
   "execution_count": 69,
   "metadata": {},
   "outputs": [
    {
     "name": "stdout",
     "output_type": "stream",
     "text": [
      "Оценка оптимального шага при одинарной точности это h_0= 0.00669432950082170\n"
     ]
    }
   ],
   "source": [
    "r=g.subs({e:10**(-7),fs:1,M:1})\n",
    "print(\"Оценка оптимального шага при одинарной точности это h_0=\", r)"
   ]
  },
  {
   "cell_type": "code",
   "execution_count": 71,
   "metadata": {},
   "outputs": [
    {
     "name": "stdout",
     "output_type": "stream",
     "text": [
      "Оценка оптимального шага при двойной точности это h_0= 6.69432950082170e-6\n"
     ]
    }
   ],
   "source": [
    "r=g.subs({e:10**(-16),fs:1,M:1})\n",
    "print(\"Оценка оптимального шага при двойной точности это h_0=\", r)"
   ]
  }
 ],
 "metadata": {
  "kernelspec": {
   "display_name": "Python 3",
   "language": "python",
   "name": "python3"
  },
  "language_info": {
   "codemirror_mode": {
    "name": "ipython",
    "version": 3
   },
   "file_extension": ".py",
   "mimetype": "text/x-python",
   "name": "python",
   "nbconvert_exporter": "python",
   "pygments_lexer": "ipython3",
   "version": "3.6.9"
  }
 },
 "nbformat": 4,
 "nbformat_minor": 4
}
