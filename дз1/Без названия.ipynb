{
 "cells": [
  {
   "cell_type": "code",
   "execution_count": 4,
   "metadata": {},
   "outputs": [],
   "source": [
    "import sympy\n",
    "from sympy.abc import x,y\n",
    "f = Function(\"f\")\n",
    "a = symbols(\"a\")\n",
    "from sympy import *\n",
    "init_printing( use_latex='mathjax' )"
   ]
  },
  {
   "cell_type": "code",
   "execution_count": 7,
   "metadata": {},
   "outputs": [
    {
     "data": {
      "text/latex": [
       "$\\displaystyle x e^{- a x}$"
      ],
      "text/plain": [
       "   -a⋅x\n",
       "x⋅ℯ    "
      ]
     },
     "execution_count": 7,
     "metadata": {},
     "output_type": "execute_result"
    }
   ],
   "source": [
    "f=x*exp(-a*x)\n",
    "f"
   ]
  },
  {
   "cell_type": "code",
   "execution_count": 14,
   "metadata": {},
   "outputs": [
    {
     "data": {
      "text/latex": [
       "$\\displaystyle a^{2} x e^{- a x} - 2 a e^{- a x}$"
      ],
      "text/plain": [
       " 2    -a⋅x        -a⋅x\n",
       "a ⋅x⋅ℯ     - 2⋅a⋅ℯ    "
      ]
     },
     "execution_count": 14,
     "metadata": {},
     "output_type": "execute_result"
    }
   ],
   "source": [
    "g=diff(diff(f,x),x)\n",
    "g"
   ]
  },
  {
   "cell_type": "code",
   "execution_count": 17,
   "metadata": {},
   "outputs": [
    {
     "data": {
      "text/latex": [
       "$\\displaystyle \\begin{cases} -1 & \\text{for}\\: \\left|{\\arg{\\left(a \\right)}}\\right| < \\frac{\\pi}{2} \\\\\\int\\limits_{0}^{\\infty} \\left(a^{2} x e^{- a x} - 2 a e^{- a x}\\right)\\, dx & \\text{otherwise} \\end{cases}$"
      ],
      "text/plain": [
       "⎧                                              π\n",
       "⎪             -1                for │arg(a)│ < ─\n",
       "⎪                                              2\n",
       "⎪                                               \n",
       "⎪∞                                              \n",
       "⎨⌠                                              \n",
       "⎪⎮ ⎛ 2    -a⋅x        -a⋅x⎞                     \n",
       "⎪⎮ ⎝a ⋅x⋅ℯ     - 2⋅a⋅ℯ    ⎠ dx     otherwise    \n",
       "⎪⌡                                              \n",
       "⎪0                                              \n",
       "⎩                                               "
      ]
     },
     "execution_count": 17,
     "metadata": {},
     "output_type": "execute_result"
    }
   ],
   "source": [
    "integrate(g,(x,0,oo))"
   ]
  }
 ],
 "metadata": {
  "kernelspec": {
   "display_name": "Python 3",
   "language": "python",
   "name": "python3"
  },
  "language_info": {
   "codemirror_mode": {
    "name": "ipython",
    "version": 3
   },
   "file_extension": ".py",
   "mimetype": "text/x-python",
   "name": "python",
   "nbconvert_exporter": "python",
   "pygments_lexer": "ipython3",
   "version": "3.6.9"
  }
 },
 "nbformat": 4,
 "nbformat_minor": 4
}
