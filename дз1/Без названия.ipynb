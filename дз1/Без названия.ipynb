{
 "cells": [
  {
   "cell_type": "code",
   "execution_count": 61,
   "metadata": {},
   "outputs": [],
   "source": [
    "import sympy\n",
    "from sympy.abc import x,y\n",
    "from sympy import *\n",
    "init_printing( use_latex='mathjax' )"
   ]
  },
  {
   "cell_type": "code",
   "execution_count": 70,
   "metadata": {},
   "outputs": [],
   "source": [
    "f = Function(\"f\")\n",
    "h = symbols(\"h\")\n",
    "x0=symbols(\"x0\")"
   ]
  },
  {
   "cell_type": "code",
   "execution_count": 101,
   "metadata": {
    "scrolled": true
   },
   "outputs": [
    {
     "data": {
      "text/latex": [
       "$\\displaystyle f{\\left(x \\right)} + h \\left. \\frac{d}{d \\xi_{1}} f{\\left(\\xi_{1} \\right)} \\right|_{\\substack{ \\xi_{1}=x }} + \\frac{h^{2} \\left. \\frac{d^{2}}{d \\xi_{1}^{2}} f{\\left(\\xi_{1} \\right)} \\right|_{\\substack{ \\xi_{1}=x }}}{2} + \\frac{h^{3} \\left. \\frac{d^{3}}{d \\xi_{1}^{3}} f{\\left(\\xi_{1} \\right)} \\right|_{\\substack{ \\xi_{1}=x }}}{6} + \\frac{h^{4} \\left. \\frac{d^{4}}{d \\xi_{1}^{4}} f{\\left(\\xi_{1} \\right)} \\right|_{\\substack{ \\xi_{1}=x }}}{24} + \\frac{h^{5} \\left. \\frac{d^{5}}{d \\xi_{1}^{5}} f{\\left(\\xi_{1} \\right)} \\right|_{\\substack{ \\xi_{1}=x }}}{120} + O\\left(h^{6}\\right)$"
      ],
      "text/plain": [
       "                                ⎛  2        ⎞│          ⎛  3        ⎞│        \n",
       "                              2 ⎜ d         ⎟│        3 ⎜ d         ⎟│        \n",
       "                             h ⋅⎜────(f(ξ₁))⎟│       h ⋅⎜────(f(ξ₁))⎟│       h\n",
       "                                ⎜   2       ⎟│          ⎜   3       ⎟│        \n",
       "         ⎛ d        ⎞│          ⎝dξ₁        ⎠│ξ₁=x      ⎝dξ₁        ⎠│ξ₁=x    \n",
       "f(x) + h⋅⎜───(f(ξ₁))⎟│     + ───────────────────── + ───────────────────── + ─\n",
       "         ⎝dξ₁       ⎠│ξ₁=x             2                       6              \n",
       "\n",
       "  ⎛  4        ⎞│          ⎛  5        ⎞│            \n",
       "4 ⎜ d         ⎟│        5 ⎜ d         ⎟│            \n",
       " ⋅⎜────(f(ξ₁))⎟│       h ⋅⎜────(f(ξ₁))⎟│            \n",
       "  ⎜   4       ⎟│          ⎜   5       ⎟│            \n",
       "  ⎝dξ₁        ⎠│ξ₁=x      ⎝dξ₁        ⎠│ξ₁=x    ⎛ 6⎞\n",
       "──────────────────── + ───────────────────── + O⎝h ⎠\n",
       "         24                     120                 "
      ]
     },
     "execution_count": 101,
     "metadata": {},
     "output_type": "execute_result"
    }
   ],
   "source": [
    "series(f(x+h),h,0)"
   ]
  },
  {
   "cell_type": "code",
   "execution_count": 104,
   "metadata": {},
   "outputs": [
    {
     "data": {
      "text/latex": [
       "$\\displaystyle f{\\left(x \\right)}$"
      ],
      "text/plain": [
       "f(x)"
      ]
     },
     "execution_count": 104,
     "metadata": {},
     "output_type": "execute_result"
    }
   ],
   "source": [
    "series(f(x),h,0)"
   ]
  },
  {
   "cell_type": "code",
   "execution_count": 98,
   "metadata": {
    "scrolled": false
   },
   "outputs": [
    {
     "data": {
      "text/latex": [
       "$\\displaystyle \\left. \\frac{d}{d \\xi_{1}} f{\\left(\\xi_{1} \\right)} \\right|_{\\substack{ \\xi_{1}=x }} + \\frac{h \\left. \\frac{d^{2}}{d \\xi_{1}^{2}} f{\\left(\\xi_{1} \\right)} \\right|_{\\substack{ \\xi_{1}=x }}}{2} + \\frac{h^{2} \\left. \\frac{d^{3}}{d \\xi_{1}^{3}} f{\\left(\\xi_{1} \\right)} \\right|_{\\substack{ \\xi_{1}=x }}}{6} + \\frac{h^{3} \\left. \\frac{d^{4}}{d \\xi_{1}^{4}} f{\\left(\\xi_{1} \\right)} \\right|_{\\substack{ \\xi_{1}=x }}}{24} + \\frac{h^{4} \\left. \\frac{d^{5}}{d \\xi_{1}^{5}} f{\\left(\\xi_{1} \\right)} \\right|_{\\substack{ \\xi_{1}=x }}}{120} + \\frac{h^{5} \\left. \\frac{d^{6}}{d \\xi_{1}^{6}} f{\\left(\\xi_{1} \\right)} \\right|_{\\substack{ \\xi_{1}=x }}}{720} + O\\left(h^{6}\\right)$"
      ],
      "text/plain": [
       "                      ⎛  2        ⎞│          ⎛  3        ⎞│          ⎛  4    \n",
       "                      ⎜ d         ⎟│        2 ⎜ d         ⎟│        3 ⎜ d     \n",
       "                    h⋅⎜────(f(ξ₁))⎟│       h ⋅⎜────(f(ξ₁))⎟│       h ⋅⎜────(f(\n",
       "                      ⎜   2       ⎟│          ⎜   3       ⎟│          ⎜   4   \n",
       "⎛ d        ⎞│         ⎝dξ₁        ⎠│ξ₁=x      ⎝dξ₁        ⎠│ξ₁=x      ⎝dξ₁    \n",
       "⎜───(f(ξ₁))⎟│     + ──────────────────── + ───────────────────── + ───────────\n",
       "⎝dξ₁       ⎠│ξ₁=x            2                       6                       2\n",
       "\n",
       "    ⎞│          ⎛  5        ⎞│          ⎛  6        ⎞│            \n",
       "    ⎟│        4 ⎜ d         ⎟│        5 ⎜ d         ⎟│            \n",
       "ξ₁))⎟│       h ⋅⎜────(f(ξ₁))⎟│       h ⋅⎜────(f(ξ₁))⎟│            \n",
       "    ⎟│          ⎜   5       ⎟│          ⎜   6       ⎟│            \n",
       "    ⎠│ξ₁=x      ⎝dξ₁        ⎠│ξ₁=x      ⎝dξ₁        ⎠│ξ₁=x    ⎛ 6⎞\n",
       "────────── + ───────────────────── + ───────────────────── + O⎝h ⎠\n",
       "4                     120                     720                 "
      ]
     },
     "execution_count": 98,
     "metadata": {},
     "output_type": "execute_result"
    }
   ],
   "source": [
    "series((f(x+h)-f(x))/h,h,0)"
   ]
  },
  {
   "cell_type": "code",
   "execution_count": 105,
   "metadata": {},
   "outputs": [
    {
     "data": {
      "text/latex": [
       "$\\displaystyle f{\\left(x \\right)} + h \\left. \\frac{d}{d \\xi_{1}} f{\\left(\\xi_{1} \\right)} \\right|_{\\substack{ \\xi_{1}=x }} + \\frac{h^{2} \\left. \\frac{d^{2}}{d \\xi_{1}^{2}} f{\\left(\\xi_{1} \\right)} \\right|_{\\substack{ \\xi_{1}=x }}}{2} + \\frac{h^{3} \\left. \\frac{d^{3}}{d \\xi_{1}^{3}} f{\\left(\\xi_{1} \\right)} \\right|_{\\substack{ \\xi_{1}=x }}}{6} + \\frac{h^{4} \\left. \\frac{d^{4}}{d \\xi_{1}^{4}} f{\\left(\\xi_{1} \\right)} \\right|_{\\substack{ \\xi_{1}=x }}}{24} + \\frac{h^{5} \\left. \\frac{d^{5}}{d \\xi_{1}^{5}} f{\\left(\\xi_{1} \\right)} \\right|_{\\substack{ \\xi_{1}=x }}}{120} + O\\left(h^{6}\\right)$"
      ],
      "text/plain": [
       "                                ⎛  2        ⎞│          ⎛  3        ⎞│        \n",
       "                              2 ⎜ d         ⎟│        3 ⎜ d         ⎟│        \n",
       "                             h ⋅⎜────(f(ξ₁))⎟│       h ⋅⎜────(f(ξ₁))⎟│       h\n",
       "                                ⎜   2       ⎟│          ⎜   3       ⎟│        \n",
       "         ⎛ d        ⎞│          ⎝dξ₁        ⎠│ξ₁=x      ⎝dξ₁        ⎠│ξ₁=x    \n",
       "f(x) + h⋅⎜───(f(ξ₁))⎟│     + ───────────────────── + ───────────────────── + ─\n",
       "         ⎝dξ₁       ⎠│ξ₁=x             2                       6              \n",
       "\n",
       "  ⎛  4        ⎞│          ⎛  5        ⎞│            \n",
       "4 ⎜ d         ⎟│        5 ⎜ d         ⎟│            \n",
       " ⋅⎜────(f(ξ₁))⎟│       h ⋅⎜────(f(ξ₁))⎟│            \n",
       "  ⎜   4       ⎟│          ⎜   5       ⎟│            \n",
       "  ⎝dξ₁        ⎠│ξ₁=x      ⎝dξ₁        ⎠│ξ₁=x    ⎛ 6⎞\n",
       "──────────────────── + ───────────────────── + O⎝h ⎠\n",
       "         24                     120                 "
      ]
     },
     "execution_count": 105,
     "metadata": {},
     "output_type": "execute_result"
    }
   ],
   "source": [
    "series(f(x+h),h,0)"
   ]
  },
  {
   "cell_type": "code",
   "execution_count": 106,
   "metadata": {
    "scrolled": true
   },
   "outputs": [
    {
     "data": {
      "text/latex": [
       "$\\displaystyle f{\\left(x \\right)} - h \\left. \\frac{d}{d \\xi_{1}} f{\\left(\\xi_{1} \\right)} \\right|_{\\substack{ \\xi_{1}=x }} + \\frac{h^{2} \\left. \\frac{d^{2}}{d \\xi_{1}^{2}} f{\\left(\\xi_{1} \\right)} \\right|_{\\substack{ \\xi_{1}=x }}}{2} - \\frac{h^{3} \\left. \\frac{d^{3}}{d \\xi_{1}^{3}} f{\\left(\\xi_{1} \\right)} \\right|_{\\substack{ \\xi_{1}=x }}}{6} + \\frac{h^{4} \\left. \\frac{d^{4}}{d \\xi_{1}^{4}} f{\\left(\\xi_{1} \\right)} \\right|_{\\substack{ \\xi_{1}=x }}}{24} - \\frac{h^{5} \\left. \\frac{d^{5}}{d \\xi_{1}^{5}} f{\\left(\\xi_{1} \\right)} \\right|_{\\substack{ \\xi_{1}=x }}}{120} + O\\left(h^{6}\\right)$"
      ],
      "text/plain": [
       "                                ⎛  2        ⎞│          ⎛  3        ⎞│        \n",
       "                              2 ⎜ d         ⎟│        3 ⎜ d         ⎟│        \n",
       "                             h ⋅⎜────(f(ξ₁))⎟│       h ⋅⎜────(f(ξ₁))⎟│       h\n",
       "                                ⎜   2       ⎟│          ⎜   3       ⎟│        \n",
       "         ⎛ d        ⎞│          ⎝dξ₁        ⎠│ξ₁=x      ⎝dξ₁        ⎠│ξ₁=x    \n",
       "f(x) - h⋅⎜───(f(ξ₁))⎟│     + ───────────────────── - ───────────────────── + ─\n",
       "         ⎝dξ₁       ⎠│ξ₁=x             2                       6              \n",
       "\n",
       "  ⎛  4        ⎞│          ⎛  5        ⎞│            \n",
       "4 ⎜ d         ⎟│        5 ⎜ d         ⎟│            \n",
       " ⋅⎜────(f(ξ₁))⎟│       h ⋅⎜────(f(ξ₁))⎟│            \n",
       "  ⎜   4       ⎟│          ⎜   5       ⎟│            \n",
       "  ⎝dξ₁        ⎠│ξ₁=x      ⎝dξ₁        ⎠│ξ₁=x    ⎛ 6⎞\n",
       "──────────────────── - ───────────────────── + O⎝h ⎠\n",
       "         24                     120                 "
      ]
     },
     "execution_count": 106,
     "metadata": {},
     "output_type": "execute_result"
    }
   ],
   "source": [
    "series(f(x-h),h,0)"
   ]
  },
  {
   "cell_type": "code",
   "execution_count": 108,
   "metadata": {},
   "outputs": [
    {
     "data": {
      "text/latex": [
       "$\\displaystyle \\left. \\frac{d}{d \\xi_{1}} f{\\left(\\xi_{1} \\right)} \\right|_{\\substack{ \\xi_{1}=x }} + \\frac{h^{2} \\left. \\frac{d^{3}}{d \\xi_{1}^{3}} f{\\left(\\xi_{1} \\right)} \\right|_{\\substack{ \\xi_{1}=x }}}{6} + \\frac{h^{4} \\left. \\frac{d^{5}}{d \\xi_{1}^{5}} f{\\left(\\xi_{1} \\right)} \\right|_{\\substack{ \\xi_{1}=x }}}{120} + O\\left(h^{6}\\right)$"
      ],
      "text/plain": [
       "                       ⎛  3        ⎞│          ⎛  5        ⎞│            \n",
       "                     2 ⎜ d         ⎟│        4 ⎜ d         ⎟│            \n",
       "                    h ⋅⎜────(f(ξ₁))⎟│       h ⋅⎜────(f(ξ₁))⎟│            \n",
       "                       ⎜   3       ⎟│          ⎜   5       ⎟│            \n",
       "⎛ d        ⎞│          ⎝dξ₁        ⎠│ξ₁=x      ⎝dξ₁        ⎠│ξ₁=x    ⎛ 6⎞\n",
       "⎜───(f(ξ₁))⎟│     + ───────────────────── + ───────────────────── + O⎝h ⎠\n",
       "⎝dξ₁       ⎠│ξ₁=x             6                      120                 "
      ]
     },
     "execution_count": 108,
     "metadata": {},
     "output_type": "execute_result"
    }
   ],
   "source": [
    "series((f(x+h)-f(x-h))/(2*h),h,0)"
   ]
  }
 ],
 "metadata": {
  "kernelspec": {
   "display_name": "Python 3",
   "language": "python",
   "name": "python3"
  },
  "language_info": {
   "codemirror_mode": {
    "name": "ipython",
    "version": 3
   },
   "file_extension": ".py",
   "mimetype": "text/x-python",
   "name": "python",
   "nbconvert_exporter": "python",
   "pygments_lexer": "ipython3",
   "version": "3.6.9"
  }
 },
 "nbformat": 4,
 "nbformat_minor": 4
}
