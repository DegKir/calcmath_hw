{
 "cells": [
  {
   "cell_type": "markdown",
   "metadata": {},
   "source": [
    "![uslovie](./uslovie.png)"
   ]
  },
  {
   "cell_type": "markdown",
   "metadata": {},
   "source": [
    "# Формулы для метода симпсона"
   ]
  },
  {
   "cell_type": "markdown",
   "metadata": {},
   "source": [
    "# $$\\int_a^b f(x)=\\frac{h}{3}(f_0+4f_1+2f_2+4f_3+...+f_n)$$"
   ]
  },
  {
   "cell_type": "markdown",
   "metadata": {},
   "source": [
    "# $$|E|\\leq \\frac{h^4}{180}(b-a)M_4$$"
   ]
  },
  {
   "cell_type": "markdown",
   "metadata": {},
   "source": [
    "![graph](./graph.png)"
   ]
  },
  {
   "cell_type": "markdown",
   "metadata": {},
   "source": [
    "# $$M_4\\leq 5$$"
   ]
  },
  {
   "cell_type": "markdown",
   "metadata": {},
   "source": [
    "# $$h^4\\geq \\frac{180|E|}{(b-a)M_4}$$"
   ]
  },
  {
   "cell_type": "markdown",
   "metadata": {},
   "source": [
    "# $$h^4_{пор}=\\frac{180*10^{-4}}{5\\pi}=1.146\\cdot10^{-4}$$"
   ]
  },
  {
   "cell_type": "markdown",
   "metadata": {},
   "source": [
    "# $$h_{пор}=0.18$$"
   ]
  },
  {
   "cell_type": "markdown",
   "metadata": {},
   "source": [
    "# $$N=[pi/h]=[17.45]=18$$"
   ]
  },
  {
   "cell_type": "markdown",
   "metadata": {},
   "source": [
    "# Итого для получения точности нам необходимо как минимум $N=18$ интервалов"
   ]
  },
  {
   "cell_type": "markdown",
   "metadata": {},
   "source": [
    "# Разбиваем на отрезки"
   ]
  },
  {
   "cell_type": "code",
   "execution_count": 1,
   "metadata": {},
   "outputs": [],
   "source": [
    "import numpy as np"
   ]
  },
  {
   "cell_type": "code",
   "execution_count": 4,
   "metadata": {},
   "outputs": [],
   "source": [
    "point=[0]\n",
    "for i in range(0,18):\n",
    "    point.append(point[i]+np.pi/18)"
   ]
  },
  {
   "cell_type": "code",
   "execution_count": 5,
   "metadata": {
    "scrolled": true
   },
   "outputs": [
    {
     "data": {
      "text/plain": [
       "[0,\n",
       " 0.17453292519943295,\n",
       " 0.3490658503988659,\n",
       " 0.5235987755982988,\n",
       " 0.6981317007977318,\n",
       " 0.8726646259971648,\n",
       " 1.0471975511965976,\n",
       " 1.2217304763960306,\n",
       " 1.3962634015954636,\n",
       " 1.5707963267948966,\n",
       " 1.7453292519943295,\n",
       " 1.9198621771937625,\n",
       " 2.0943951023931953,\n",
       " 2.268928027592628,\n",
       " 2.4434609527920608,\n",
       " 2.6179938779914935,\n",
       " 2.7925268031909263,\n",
       " 2.967059728390359,\n",
       " 3.141592653589792]"
      ]
     },
     "execution_count": 5,
     "metadata": {},
     "output_type": "execute_result"
    }
   ],
   "source": [
    "point"
   ]
  },
  {
   "cell_type": "code",
   "execution_count": 14,
   "metadata": {},
   "outputs": [
    {
     "data": {
      "text/plain": [
       "3.141592653589792"
      ]
     },
     "execution_count": 14,
     "metadata": {},
     "output_type": "execute_result"
    }
   ],
   "source": [
    "point[18]"
   ]
  },
  {
   "cell_type": "markdown",
   "metadata": {},
   "source": [
    "# Считаем значения функции в узлах"
   ]
  },
  {
   "cell_type": "code",
   "execution_count": 6,
   "metadata": {
    "scrolled": true
   },
   "outputs": [
    {
     "data": {
      "text/latex": [
       "$\\displaystyle \\left|{\\cos{\\left(\\sin{\\left(x \\right)} \\right)} - 0.75}\\right|$"
      ],
      "text/plain": [
       "Abs(cos(sin(x)) - 0.75)"
      ]
     },
     "execution_count": 6,
     "metadata": {},
     "output_type": "execute_result"
    }
   ],
   "source": [
    "from sympy import *\n",
    "f=Function(\"F\")\n",
    "x=Symbol(\"x\")\n",
    "f=abs(cos(sin(x))-3/4)\n",
    "f"
   ]
  },
  {
   "cell_type": "code",
   "execution_count": 28,
   "metadata": {},
   "outputs": [],
   "source": [
    "value=[f.subs(x,point[0])]\n",
    "for i in range(0,18):\n",
    "    value.append(f.subs(x,point[i+1]))"
   ]
  },
  {
   "cell_type": "markdown",
   "metadata": {},
   "source": [
    "# Подставляем в формулу симпсона"
   ]
  },
  {
   "cell_type": "code",
   "execution_count": 30,
   "metadata": {},
   "outputs": [],
   "source": [
    "Integral=value[0]+value[-1]\n",
    "for i in range(1,len(point)-1):\n",
    "    if i%2==0 :\n",
    "        Integral+=2*value[i]\n",
    "    if i%2==1 :\n",
    "        Integral+=4*value[i]"
   ]
  },
  {
   "cell_type": "code",
   "execution_count": 31,
   "metadata": {},
   "outputs": [
    {
     "data": {
      "text/latex": [
       "$\\displaystyle 0.460771432729281$"
      ],
      "text/plain": [
       "0.460771432729281"
      ]
     },
     "execution_count": 31,
     "metadata": {},
     "output_type": "execute_result"
    }
   ],
   "source": [
    "Integral*(np.pi/18)/3"
   ]
  },
  {
   "cell_type": "markdown",
   "metadata": {},
   "source": [
    "Теперь соберем это все в одну большую функцию, которая будет брать в себя число отрезков $N$ и возвращать значение интеграла"
   ]
  },
  {
   "cell_type": "code",
   "execution_count": 37,
   "metadata": {},
   "outputs": [],
   "source": [
    "def Simpson(N):\n",
    "    point=[0]\n",
    "    value=[f.subs(x,point[0])]\n",
    "    for i in range(0,N):\n",
    "        point.append(point[i]+np.pi/N)\n",
    "        value.append(f.subs(x,point[i+1]))\n",
    "    Integral=value[0]+value[-1]\n",
    "    for i in range(1,len(point)-1):\n",
    "        if i%2==0 :\n",
    "            Integral+=2*value[i]\n",
    "        if i%2==1 :\n",
    "            Integral+=4*value[i]\n",
    "    return Integral*(np.pi/N)/3"
   ]
  },
  {
   "cell_type": "code",
   "execution_count": 38,
   "metadata": {},
   "outputs": [
    {
     "data": {
      "text/latex": [
       "$\\displaystyle 0.460771432729281$"
      ],
      "text/plain": [
       "0.460771432729281"
      ]
     },
     "execution_count": 38,
     "metadata": {},
     "output_type": "execute_result"
    }
   ],
   "source": [
    "Simpson(18)"
   ]
  },
  {
   "cell_type": "markdown",
   "metadata": {},
   "source": [
    "# Процесс Эйткена"
   ]
  },
  {
   "cell_type": "markdown",
   "metadata": {},
   "source": [
    "Известно, что метод Симпсона - метод четвертого порядка точности, тоесть"
   ]
  },
  {
   "cell_type": "markdown",
   "metadata": {},
   "source": [
    "## $$I=I_{h}+h^4\\cdot c$$\n",
    "## $$I=I_{2h}+(2h)^4\\cdot c$$"
   ]
  },
  {
   "cell_type": "markdown",
   "metadata": {},
   "source": [
    "## $$16\\cdot I = 16 \\cdot I_h+16h^4\\cdot c$$\n",
    "## $$I=I_{2h}+16h^4\\cdot c$$"
   ]
  },
  {
   "cell_type": "markdown",
   "metadata": {},
   "source": [
    "# $$I_{Эйткен}=\\frac{16\\cdot I_h-I_{2h}}{15}$$"
   ]
  },
  {
   "cell_type": "markdown",
   "metadata": {},
   "source": [
    "Теперь подставим в эту формулу :"
   ]
  },
  {
   "cell_type": "code",
   "execution_count": 45,
   "metadata": {},
   "outputs": [
    {
     "data": {
      "text/latex": [
       "$\\displaystyle 0.459558531634688$"
      ],
      "text/plain": [
       "0.459558531634688"
      ]
     },
     "execution_count": 45,
     "metadata": {},
     "output_type": "execute_result"
    }
   ],
   "source": [
    "(16*Simpson(18*2)-Simpson(18))/15"
   ]
  }
 ],
 "metadata": {
  "kernelspec": {
   "display_name": "Python 3",
   "language": "python",
   "name": "python3"
  },
  "language_info": {
   "codemirror_mode": {
    "name": "ipython",
    "version": 3
   },
   "file_extension": ".py",
   "mimetype": "text/x-python",
   "name": "python",
   "nbconvert_exporter": "python",
   "pygments_lexer": "ipython3",
   "version": "3.6.9"
  }
 },
 "nbformat": 4,
 "nbformat_minor": 4
}
