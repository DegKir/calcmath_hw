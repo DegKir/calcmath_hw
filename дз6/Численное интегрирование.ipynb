{
 "cells": [
  {
   "cell_type": "markdown",
   "metadata": {},
   "source": [
    "![uslovie](./uslovie.png)"
   ]
  },
  {
   "cell_type": "markdown",
   "metadata": {},
   "source": [
    "# Формуля для составного метода симпсона"
   ]
  },
  {
   "cell_type": "markdown",
   "metadata": {},
   "source": [
    "# $$\\int_a^b f(x)=\\frac{h}{3}(f_0+4f_1+2f_2+4f_3+...+f_n)$$"
   ]
  },
  {
   "cell_type": "markdown",
   "metadata": {},
   "source": [
    "## Функция не является дифференцируемой на отрезке, а значит что оценку нужно будет получить при помощи процесса Эйткена"
   ]
  },
  {
   "cell_type": "code",
   "execution_count": 6,
   "metadata": {},
   "outputs": [],
   "source": [
    "import numpy as np\n",
    "from sympy import *"
   ]
  },
  {
   "cell_type": "markdown",
   "metadata": {},
   "source": [
    "# Напишем функцию, которая принимает число отрезков и возвращает значение интеграла"
   ]
  },
  {
   "cell_type": "code",
   "execution_count": 10,
   "metadata": {},
   "outputs": [
    {
     "data": {
      "text/latex": [
       "$\\displaystyle \\left|{\\cos{\\left(\\sin{\\left(x \\right)} \\right)} - 0.75}\\right|$"
      ],
      "text/plain": [
       "Abs(cos(sin(x)) - 0.75)"
      ]
     },
     "execution_count": 10,
     "metadata": {},
     "output_type": "execute_result"
    }
   ],
   "source": [
    "f=Function(\"F\")\n",
    "x=Symbol(\"x\")\n",
    "f=abs(cos(sin(x))-3/4)\n",
    "f"
   ]
  },
  {
   "cell_type": "code",
   "execution_count": 11,
   "metadata": {},
   "outputs": [],
   "source": [
    "def Simpson(N):\n",
    "    point=[0]\n",
    "    value=[f.subs(x,point[0])]\n",
    "    for i in range(0,N):\n",
    "        point.append(point[i]+np.pi/N)\n",
    "        value.append(f.subs(x,point[i+1]))\n",
    "    Integral=value[0]+value[-1]\n",
    "    for i in range(1,len(point)-1):\n",
    "        if i%2==0 :\n",
    "            Integral+=2*value[i]\n",
    "        if i%2==1 :\n",
    "            Integral+=4*value[i]\n",
    "    return Integral*(np.pi/N)/3"
   ]
  },
  {
   "cell_type": "code",
   "execution_count": 40,
   "metadata": {},
   "outputs": [
    {
     "data": {
      "text/latex": [
       "$\\displaystyle 0.461134155624777$"
      ],
      "text/plain": [
       "0.461134155624777"
      ]
     },
     "execution_count": 40,
     "metadata": {},
     "output_type": "execute_result"
    }
   ],
   "source": [
    "Simpson(30)"
   ]
  },
  {
   "cell_type": "markdown",
   "metadata": {},
   "source": [
    "# Процесс Эйткена"
   ]
  },
  {
   "cell_type": "markdown",
   "metadata": {},
   "source": [
    "Известно, что метод Симпсона - метод четвертого порядка точности, тоесть"
   ]
  },
  {
   "cell_type": "markdown",
   "metadata": {},
   "source": [
    "## $$I=I_{h}+h^4\\cdot c$$\n",
    "## $$I=I_{2h}+(2h)^4\\cdot c$$"
   ]
  },
  {
   "cell_type": "markdown",
   "metadata": {},
   "source": [
    "## $$16\\cdot I = 16 \\cdot I_h+16h^4\\cdot c$$\n",
    "## $$I=I_{2h}+16h^4\\cdot c$$"
   ]
  },
  {
   "cell_type": "markdown",
   "metadata": {},
   "source": [
    "# $$I_{Эйткен}=\\frac{16\\cdot I_h-I_{2h}}{15}$$"
   ]
  },
  {
   "cell_type": "markdown",
   "metadata": {},
   "source": [
    "# $$c=\\frac{I_h-I_{2h}}{15h^4}$$"
   ]
  },
  {
   "cell_type": "markdown",
   "metadata": {},
   "source": [
    "Найдем контсанту для оценки ошибки"
   ]
  },
  {
   "cell_type": "code",
   "execution_count": 34,
   "metadata": {},
   "outputs": [
    {
     "name": "stdout",
     "output_type": "stream",
     "text": [
      "0.3141592653589793\n"
     ]
    },
    {
     "data": {
      "text/latex": [
       "$\\displaystyle 0.0619059185749455$"
      ],
      "text/plain": [
       "0.0619059185749455"
      ]
     },
     "execution_count": 34,
     "metadata": {},
     "output_type": "execute_result"
    }
   ],
   "source": [
    "N=10\n",
    "h=np.pi/N\n",
    "print(h)\n",
    "c=(Simpson(2*N)-Simpson(N))/(15*h*h*h*h)\n",
    "abs(c)"
   ]
  },
  {
   "cell_type": "markdown",
   "metadata": {},
   "source": [
    "# $$ |E| = h^4\\cdot0.062$$"
   ]
  },
  {
   "cell_type": "markdown",
   "metadata": {},
   "source": [
    "# $$10^{-4} = h^4\\cdot0.062 \\Rightarrow h \\leq 0.2 \\Rightarrow N \\geq 16$$"
   ]
  },
  {
   "cell_type": "markdown",
   "metadata": {},
   "source": [
    "# Итого :"
   ]
  },
  {
   "cell_type": "code",
   "execution_count": 36,
   "metadata": {},
   "outputs": [
    {
     "data": {
      "text/latex": [
       "$\\displaystyle 0.462329552043805$"
      ],
      "text/plain": [
       "0.462329552043805"
      ]
     },
     "execution_count": 36,
     "metadata": {},
     "output_type": "execute_result"
    }
   ],
   "source": [
    "Simpson(16)"
   ]
  },
  {
   "cell_type": "markdown",
   "metadata": {},
   "source": [
    "Эйткен :"
   ]
  },
  {
   "cell_type": "code",
   "execution_count": 37,
   "metadata": {},
   "outputs": [
    {
     "data": {
      "text/latex": [
       "$\\displaystyle 0.462085804177481$"
      ],
      "text/plain": [
       "0.462085804177481"
      ]
     },
     "execution_count": 37,
     "metadata": {},
     "output_type": "execute_result"
    }
   ],
   "source": [
    "(16*Simpson(16)-Simpson(8))/15"
   ]
  }
 ],
 "metadata": {
  "kernelspec": {
   "display_name": "Python 3",
   "language": "python",
   "name": "python3"
  },
  "language_info": {
   "codemirror_mode": {
    "name": "ipython",
    "version": 3
   },
   "file_extension": ".py",
   "mimetype": "text/x-python",
   "name": "python",
   "nbconvert_exporter": "python",
   "pygments_lexer": "ipython3",
   "version": "3.6.9"
  }
 },
 "nbformat": 4,
 "nbformat_minor": 4
}
