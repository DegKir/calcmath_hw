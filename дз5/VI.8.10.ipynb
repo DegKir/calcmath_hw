{
 "cells": [
  {
   "cell_type": "markdown",
   "metadata": {},
   "source": [
    "![uslovie](./8610.png)"
   ]
  },
  {
   "cell_type": "markdown",
   "metadata": {},
   "source": [
    "# $$E=E_{meth}+E_{round}\\leq 10 ^{-4}$$"
   ]
  },
  {
   "cell_type": "markdown",
   "metadata": {},
   "source": [
    "# Случай А)"
   ]
  },
  {
   "cell_type": "markdown",
   "metadata": {},
   "source": [
    "# $$E_{meth}=\\frac{M_2h^2}{8}=h^2/8$$"
   ]
  },
  {
   "cell_type": "markdown",
   "metadata": {},
   "source": [
    "В таком случае максимальная ошибка метода будет достигаться на отрезке максимальной длины $h_{max}$"
   ]
  },
  {
   "cell_type": "markdown",
   "metadata": {},
   "source": [
    "# $$E_{meth}\\leq \\frac{h_{max}^2}{8}$$"
   ]
  },
  {
   "cell_type": "markdown",
   "metadata": {},
   "source": [
    "# $$E_{round}=\\varepsilon \\cdot \\Lambda_1\\leq 16 \\varepsilon$$"
   ]
  },
  {
   "cell_type": "markdown",
   "metadata": {},
   "source": [
    "# $$E_{meth}\\leq \\frac{h_{max}^2}{8}+16\\varepsilon$$"
   ]
  },
  {
   "cell_type": "markdown",
   "metadata": {},
   "source": [
    "Как и на семинаре, пренебрежем(пока что) вкладом от $E_{round}$ :"
   ]
  },
  {
   "cell_type": "markdown",
   "metadata": {},
   "source": [
    "# $$h_{max}^2\\leq 8*10^{-4} \\Rightarrow h_{max}\\leq \\sqrt{8*10^{-4}}=0.028=2.8*10^{-2}$$"
   ]
  },
  {
   "cell_type": "markdown",
   "metadata": {},
   "source": [
    "# сразу разберемся с пунктом В)"
   ]
  },
  {
   "cell_type": "markdown",
   "metadata": {},
   "source": [
    "Найдем при каком эпсилон погрешность от округления станет равной погрешности от метода "
   ]
  },
  {
   "cell_type": "markdown",
   "metadata": {},
   "source": [
    "# $$16 \\varepsilon = 10^{-4} \\Rightarrow \\varepsilon \\leq 6.25 \\cdot 10^{-6}$$"
   ]
  },
  {
   "cell_type": "markdown",
   "metadata": {},
   "source": [
    "Это верно для равномерной сетки, т.к. данная оценка для постоянной Лебега выписывалась для равномерной сетки. Для случая неравномерной сетки погрешность можно сделать больше, т.к. постонная сетка дает \"худшую\" константу Лебега (факт с семинара)"
   ]
  },
  {
   "cell_type": "markdown",
   "metadata": {},
   "source": [
    "# Случай Б)"
   ]
  },
  {
   "cell_type": "markdown",
   "metadata": {},
   "source": [
    "# $$E_{meth}\\leq M_3\\frac{h_{max}^3}{4(3+1)}=\\frac{h_{max}^3}{16} \\leq 10^{-4} \\Rightarrow h_{max}\\leq 0.117$$"
   ]
  },
  {
   "cell_type": "markdown",
   "metadata": {},
   "source": [
    "# $$\\Lambda_2 \\leq 2^5/2=16$$"
   ]
  },
  {
   "cell_type": "markdown",
   "metadata": {},
   "source": [
    "Оценка на коснтанту Лебега та же самая, отсюда следует, что дальнейшие выкладки аналогичны случаю $А$"
   ]
  }
 ],
 "metadata": {
  "kernelspec": {
   "display_name": "Python 3",
   "language": "python",
   "name": "python3"
  },
  "language_info": {
   "codemirror_mode": {
    "name": "ipython",
    "version": 3
   },
   "file_extension": ".py",
   "mimetype": "text/x-python",
   "name": "python",
   "nbconvert_exporter": "python",
   "pygments_lexer": "ipython3",
   "version": "3.6.9"
  }
 },
 "nbformat": 4,
 "nbformat_minor": 4
}
