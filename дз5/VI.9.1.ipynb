{
 "cells": [
  {
   "cell_type": "markdown",
   "metadata": {},
   "source": [
    "![uslovie](./691(1).png)"
   ]
  },
  {
   "cell_type": "markdown",
   "metadata": {},
   "source": [
    "![uslovie2](./691(2).png)"
   ]
  },
  {
   "cell_type": "code",
   "execution_count": 2,
   "metadata": {},
   "outputs": [],
   "source": [
    "import math\n",
    "import sympy\n",
    "from sympy.abc import x,y\n",
    "from sympy import *\n",
    "init_printing( use_latex='mathjax' )\n",
    "fs=symbols(\"f\")\n",
    "f = Function(\"f\")\n",
    "h = symbols(\"h\")\n",
    "x=symbols(\"x\")"
   ]
  },
  {
   "cell_type": "code",
   "execution_count": 3,
   "metadata": {},
   "outputs": [],
   "source": [
    "f=[-0.229,-0.205,-0.077,0.159]\n",
    "point=[0.5,0.6,0.8,1]"
   ]
  },
  {
   "cell_type": "markdown",
   "metadata": {},
   "source": [
    "# Строим многочлены Лагранжа"
   ]
  },
  {
   "cell_type": "markdown",
   "metadata": {},
   "source": [
    " ## Строим первый многочлен Лагранжа"
   ]
  },
  {
   "cell_type": "markdown",
   "metadata": {},
   "source": [
    "# $$L_1(x)=\\frac{(x-f_2)(x-f_3)(x-f_4)}{(f_1-f_2)(f_1-f_3)(f_1-f_4)}$$"
   ]
  },
  {
   "cell_type": "code",
   "execution_count": 4,
   "metadata": {
    "scrolled": true
   },
   "outputs": [
    {
     "data": {
      "text/latex": [
       "$\\displaystyle - 706.502079942123 \\left(x - 0.159\\right) \\left(x + 0.077\\right) \\left(x + 0.205\\right)$"
      ],
      "text/plain": [
       "-706.502079942123⋅(x - 0.159)⋅(x + 0.077)⋅(x + 0.205)"
      ]
     },
     "execution_count": 4,
     "metadata": {},
     "output_type": "execute_result"
    }
   ],
   "source": [
    "L_1=Function(\"L_1\")\n",
    "L_1=(x-f[1])*(x-f[2])*(x-f[3])/((f[0]-f[1])*(f[0]-f[2])*(f[0]-f[3]))\n",
    "L_1"
   ]
  },
  {
   "cell_type": "markdown",
   "metadata": {},
   "source": [
    "## Проверим что это действительно многочлен Лагранжа для обратной интерполяции "
   ]
  },
  {
   "cell_type": "code",
   "execution_count": 5,
   "metadata": {
    "scrolled": true
   },
   "outputs": [
    {
     "name": "stdout",
     "output_type": "stream",
     "text": [
      "1.00000000000000\n",
      "0\n",
      "0\n",
      "0\n"
     ]
    }
   ],
   "source": [
    "for value in f:\n",
    "    print(L_1.subs(x,value))"
   ]
  },
  {
   "cell_type": "markdown",
   "metadata": {},
   "source": [
    "## Аналогично строим еще три многочлена Лагранжа"
   ]
  },
  {
   "cell_type": "code",
   "execution_count": 6,
   "metadata": {},
   "outputs": [
    {
     "data": {
      "text/latex": [
       "$\\displaystyle 894.288003663003 \\left(x - 0.159\\right) \\left(x + 0.077\\right) \\left(x + 0.229\\right)$"
      ],
      "text/plain": [
       "894.288003663003⋅(x - 0.159)⋅(x + 0.077)⋅(x + 0.229)"
      ]
     },
     "execution_count": 6,
     "metadata": {},
     "output_type": "execute_result"
    }
   ],
   "source": [
    "L_2=Function(\"L_2\")\n",
    "L_2=(x-f[0])*(x-f[2])*(x-f[3])/((f[1]-f[0])*(f[1]-f[2])*(f[1]-f[3]))\n",
    "L_2"
   ]
  },
  {
   "cell_type": "code",
   "execution_count": 7,
   "metadata": {},
   "outputs": [
    {
     "name": "stdout",
     "output_type": "stream",
     "text": [
      "0\n",
      "1.00000000000000\n",
      "0\n",
      "0\n"
     ]
    }
   ],
   "source": [
    "for value in f:\n",
    "    print(L_2.subs(x,value))"
   ]
  },
  {
   "cell_type": "code",
   "execution_count": 8,
   "metadata": {},
   "outputs": [
    {
     "data": {
      "text/latex": [
       "$\\displaystyle - 217.788247100803 \\left(x - 0.159\\right) \\left(x + 0.205\\right) \\left(x + 0.229\\right)$"
      ],
      "text/plain": [
       "-217.788247100803⋅(x - 0.159)⋅(x + 0.205)⋅(x + 0.229)"
      ]
     },
     "execution_count": 8,
     "metadata": {},
     "output_type": "execute_result"
    }
   ],
   "source": [
    "L_3=Function(\"L_3\")\n",
    "L_3=(x-f[0])*(x-f[1])*(x-f[3])/((f[2]-f[0])*(f[2]-f[1])*(f[2]-f[3]))\n",
    "L_3"
   ]
  },
  {
   "cell_type": "code",
   "execution_count": 9,
   "metadata": {},
   "outputs": [
    {
     "name": "stdout",
     "output_type": "stream",
     "text": [
      "0\n",
      "0\n",
      "1.00000000000000\n",
      "0\n"
     ]
    }
   ],
   "source": [
    "for value in f:\n",
    "    print(L_3.subs(x,value))"
   ]
  },
  {
   "cell_type": "code",
   "execution_count": 10,
   "metadata": {},
   "outputs": [
    {
     "data": {
      "text/latex": [
       "$\\displaystyle 30.0023233799225 \\left(x + 0.077\\right) \\left(x + 0.205\\right) \\left(x + 0.229\\right)$"
      ],
      "text/plain": [
       "30.0023233799225⋅(x + 0.077)⋅(x + 0.205)⋅(x + 0.229)"
      ]
     },
     "execution_count": 10,
     "metadata": {},
     "output_type": "execute_result"
    }
   ],
   "source": [
    "L_4=Function(\"L_4\")\n",
    "L_4=(x-f[0])*(x-f[1])*(x-f[2])/((f[3]-f[0])*(f[3]-f[1])*(f[3]-f[2]))\n",
    "L_4"
   ]
  },
  {
   "cell_type": "code",
   "execution_count": 11,
   "metadata": {
    "scrolled": true
   },
   "outputs": [
    {
     "name": "stdout",
     "output_type": "stream",
     "text": [
      "0\n",
      "0\n",
      "0\n",
      "1.00000000000000\n"
     ]
    }
   ],
   "source": [
    "for value in f:\n",
    "    print(L_4.subs(x,value))"
   ]
  },
  {
   "cell_type": "markdown",
   "metadata": {},
   "source": [
    "# Итого интерполяционный многочлен"
   ]
  },
  {
   "cell_type": "code",
   "execution_count": 12,
   "metadata": {},
   "outputs": [
    {
     "data": {
      "text/latex": [
       "$\\displaystyle - 353.251039971061 \\left(x - 0.159\\right) \\left(x + 0.077\\right) \\left(x + 0.205\\right) + 536.572802197802 \\left(x - 0.159\\right) \\left(x + 0.077\\right) \\left(x + 0.229\\right) - 174.230597680642 \\left(x - 0.159\\right) \\left(x + 0.205\\right) \\left(x + 0.229\\right) + 30.0023233799225 \\left(x + 0.077\\right) \\left(x + 0.205\\right) \\left(x + 0.229\\right)$"
      ],
      "text/plain": [
       "-353.251039971061⋅(x - 0.159)⋅(x + 0.077)⋅(x + 0.205) + 536.572802197802⋅(x - \n",
       "0.159)⋅(x + 0.077)⋅(x + 0.229) - 174.230597680642⋅(x - 0.159)⋅(x + 0.205)⋅(x +\n",
       " 0.229) + 30.0023233799225⋅(x + 0.077)⋅(x + 0.205)⋅(x + 0.229)"
      ]
     },
     "execution_count": 12,
     "metadata": {},
     "output_type": "execute_result"
    }
   ],
   "source": [
    "P=Function(\"P\")\n",
    "P=point[0]*L_1+point[1]*L_2+point[2]*L_3+point[3]*L_4\n",
    "P"
   ]
  },
  {
   "cell_type": "markdown",
   "metadata": {},
   "source": [
    "Найдем его значение в нуле"
   ]
  },
  {
   "cell_type": "code",
   "execution_count": 13,
   "metadata": {
    "scrolled": true
   },
   "outputs": [
    {
     "data": {
      "text/latex": [
       "$\\displaystyle 0.791186990084657$"
      ],
      "text/plain": [
       "0.791186990084657"
      ]
     },
     "execution_count": 13,
     "metadata": {},
     "output_type": "execute_result"
    }
   ],
   "source": [
    "P.subs(x,0)"
   ]
  },
  {
   "cell_type": "markdown",
   "metadata": {},
   "source": [
    "# Оценка ошибки"
   ]
  },
  {
   "cell_type": "markdown",
   "metadata": {},
   "source": [
    "# $f(x)=x^2-sin(x)$ на указанном отрезке строго монотонна и имеет неравную нулю производную в прозиовльной точке интервала, значит у обратной функции $h(x)$ существует производная $h'(x)$"
   ]
  },
  {
   "cell_type": "markdown",
   "metadata": {},
   "source": [
    "![5derivative](./5der.png)"
   ]
  },
  {
   "cell_type": "markdown",
   "metadata": {},
   "source": [
    "# $$ M_5 < 8.2$$ "
   ]
  },
  {
   "cell_type": "markdown",
   "metadata": {},
   "source": [
    "# $$|f(x)-L_n(x)|\\leq \\frac{M_5}{(n+1)!}|\\omega(x)|$$"
   ]
  },
  {
   "cell_type": "markdown",
   "metadata": {},
   "source": [
    "## $$\\omega(x)=(x-f_1)(x-f_2)(x-f_3)(x-f_4)$$"
   ]
  },
  {
   "cell_type": "markdown",
   "metadata": {},
   "source": [
    "![ocenka](./ocenka2.png)"
   ]
  },
  {
   "cell_type": "markdown",
   "metadata": {},
   "source": [
    "### $$|\\omega(x)|\\leq0.02$$"
   ]
  },
  {
   "cell_type": "markdown",
   "metadata": {},
   "source": [
    "## Итого оценка для ошибки $|E|\\leq \\frac{8.2*0.02}{4!}=0.0068(3)$"
   ]
  }
 ],
 "metadata": {
  "kernelspec": {
   "display_name": "Python 3",
   "language": "python",
   "name": "python3"
  },
  "language_info": {
   "codemirror_mode": {
    "name": "ipython",
    "version": 3
   },
   "file_extension": ".py",
   "mimetype": "text/x-python",
   "name": "python",
   "nbconvert_exporter": "python",
   "pygments_lexer": "ipython3",
   "version": "3.6.9"
  }
 },
 "nbformat": 4,
 "nbformat_minor": 4
}
