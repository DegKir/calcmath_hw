{
 "cells": [
  {
   "cell_type": "markdown",
   "metadata": {},
   "source": [
    "![uslovie](./692.png)"
   ]
  },
  {
   "cell_type": "code",
   "execution_count": 3,
   "metadata": {},
   "outputs": [],
   "source": [
    "import math\n",
    "import sympy\n",
    "from sympy.abc import x,y\n",
    "from sympy import *\n",
    "init_printing( use_latex='mathjax' )\n",
    "fs=symbols(\"f\")\n",
    "f = Function(\"f\")\n",
    "h = symbols(\"h\")\n",
    "x=symbols(\"x\")"
   ]
  },
  {
   "cell_type": "markdown",
   "metadata": {},
   "source": [
    "# Строим интерполяцию"
   ]
  },
  {
   "cell_type": "code",
   "execution_count": 15,
   "metadata": {},
   "outputs": [],
   "source": [
    "p=[0,1,3,4,5]\n",
    "v=[0.5,0.3,0.3,0.2,0.1]"
   ]
  },
  {
   "cell_type": "code",
   "execution_count": 16,
   "metadata": {},
   "outputs": [
    {
     "data": {
      "text/latex": [
       "$\\displaystyle \\frac{\\left(x - 5\\right) \\left(x - 4\\right) \\left(x - 3\\right) \\left(x - 1\\right)}{60}$"
      ],
      "text/plain": [
       "(x - 5)⋅(x - 4)⋅(x - 3)⋅(x - 1)\n",
       "───────────────────────────────\n",
       "               60              "
      ]
     },
     "execution_count": 16,
     "metadata": {},
     "output_type": "execute_result"
    }
   ],
   "source": [
    "L_1=Function(\"L_1\")\n",
    "L_1=(x-p[1])*(x-p[2])*(x-p[3])*(x-p[4])/((p[0]-p[1])*(p[0]-p[2])*(p[0]-p[3])*(p[0]-p[4]))\n",
    "L_1"
   ]
  },
  {
   "cell_type": "code",
   "execution_count": 17,
   "metadata": {},
   "outputs": [
    {
     "name": "stdout",
     "output_type": "stream",
     "text": [
      "1\n",
      "0\n",
      "0\n",
      "0\n",
      "0\n"
     ]
    }
   ],
   "source": [
    "for point in p:\n",
    "    print(L_1.subs(x,point))"
   ]
  },
  {
   "cell_type": "code",
   "execution_count": 18,
   "metadata": {},
   "outputs": [
    {
     "data": {
      "text/latex": [
       "$\\displaystyle - \\frac{x \\left(x - 5\\right) \\left(x - 4\\right) \\left(x - 3\\right)}{24}$"
      ],
      "text/plain": [
       "-x⋅(x - 5)⋅(x - 4)⋅(x - 3) \n",
       "───────────────────────────\n",
       "             24            "
      ]
     },
     "execution_count": 18,
     "metadata": {},
     "output_type": "execute_result"
    }
   ],
   "source": [
    "L_2=Function(\"L_2\")\n",
    "L_2=(x-p[0])*(x-p[2])*(x-p[3])*(x-p[4])/((p[1]-p[0])*(p[1]-p[2])*(p[1]-p[3])*(p[1]-p[4]))\n",
    "L_2"
   ]
  },
  {
   "cell_type": "code",
   "execution_count": 20,
   "metadata": {},
   "outputs": [
    {
     "name": "stdout",
     "output_type": "stream",
     "text": [
      "0\n",
      "1\n",
      "0\n",
      "0\n",
      "0\n"
     ]
    }
   ],
   "source": [
    "for point in p:\n",
    "    print(L_2.subs(x,point))"
   ]
  },
  {
   "cell_type": "code",
   "execution_count": 21,
   "metadata": {},
   "outputs": [
    {
     "data": {
      "text/latex": [
       "$\\displaystyle \\frac{x \\left(x - 5\\right) \\left(x - 4\\right) \\left(x - 1\\right)}{12}$"
      ],
      "text/plain": [
       "x⋅(x - 5)⋅(x - 4)⋅(x - 1)\n",
       "─────────────────────────\n",
       "            12           "
      ]
     },
     "execution_count": 21,
     "metadata": {},
     "output_type": "execute_result"
    }
   ],
   "source": [
    "L_3=Function(\"L_3\")\n",
    "L_3=(x-p[0])*(x-p[1])*(x-p[3])*(x-p[4])/((p[2]-p[0])*(p[2]-p[1])*(p[2]-p[3])*(p[2]-p[4]))\n",
    "L_3"
   ]
  },
  {
   "cell_type": "code",
   "execution_count": 23,
   "metadata": {},
   "outputs": [
    {
     "name": "stdout",
     "output_type": "stream",
     "text": [
      "0\n",
      "0\n",
      "1\n",
      "0\n",
      "0\n"
     ]
    }
   ],
   "source": [
    "for point in p:\n",
    "    print(L_3.subs(x,point))"
   ]
  },
  {
   "cell_type": "code",
   "execution_count": 24,
   "metadata": {},
   "outputs": [
    {
     "data": {
      "text/latex": [
       "$\\displaystyle - \\frac{x \\left(x - 5\\right) \\left(x - 3\\right) \\left(x - 1\\right)}{12}$"
      ],
      "text/plain": [
       "-x⋅(x - 5)⋅(x - 3)⋅(x - 1) \n",
       "───────────────────────────\n",
       "             12            "
      ]
     },
     "execution_count": 24,
     "metadata": {},
     "output_type": "execute_result"
    }
   ],
   "source": [
    "L_4=Function(\"L_4\")\n",
    "L_4=(x-p[0])*(x-p[1])*(x-p[2])*(x-p[4])/((p[3]-p[0])*(p[3]-p[1])*(p[3]-p[2])*(p[3]-p[4]))\n",
    "L_4"
   ]
  },
  {
   "cell_type": "code",
   "execution_count": 25,
   "metadata": {},
   "outputs": [
    {
     "name": "stdout",
     "output_type": "stream",
     "text": [
      "0\n",
      "0\n",
      "0\n",
      "1\n",
      "0\n"
     ]
    }
   ],
   "source": [
    "for point in p:\n",
    "    print(L_4.subs(x,point))"
   ]
  },
  {
   "cell_type": "code",
   "execution_count": 26,
   "metadata": {},
   "outputs": [
    {
     "data": {
      "text/latex": [
       "$\\displaystyle \\frac{x \\left(x - 4\\right) \\left(x - 3\\right) \\left(x - 1\\right)}{40}$"
      ],
      "text/plain": [
       "x⋅(x - 4)⋅(x - 3)⋅(x - 1)\n",
       "─────────────────────────\n",
       "            40           "
      ]
     },
     "execution_count": 26,
     "metadata": {},
     "output_type": "execute_result"
    }
   ],
   "source": [
    "L_5=Function(\"L_5\")\n",
    "L_5=(x-p[0])*(x-p[1])*(x-p[2])*(x-p[3])/((p[4]-p[0])*(p[4]-p[1])*(p[4]-p[2])*(p[4]-p[3]))\n",
    "L_5"
   ]
  },
  {
   "cell_type": "code",
   "execution_count": 27,
   "metadata": {},
   "outputs": [
    {
     "name": "stdout",
     "output_type": "stream",
     "text": [
      "0\n",
      "0\n",
      "0\n",
      "0\n",
      "1\n"
     ]
    }
   ],
   "source": [
    "for point in p:\n",
    "    print(L_5.subs(x,point))"
   ]
  },
  {
   "cell_type": "markdown",
   "metadata": {},
   "source": [
    "# Составляем интерполяционный многочлен"
   ]
  },
  {
   "cell_type": "code",
   "execution_count": 31,
   "metadata": {},
   "outputs": [
    {
     "data": {
      "text/latex": [
       "$\\displaystyle - 0.0125 x \\left(x - 5\\right) \\left(x - 4\\right) \\left(x - 3\\right) + 0.025 x \\left(x - 5\\right) \\left(x - 4\\right) \\left(x - 1\\right) - 0.0166666666666667 x \\left(x - 5\\right) \\left(x - 3\\right) \\left(x - 1\\right) + 0.0025 x \\left(x - 4\\right) \\left(x - 3\\right) \\left(x - 1\\right) + 0.00833333333333333 \\left(x - 5\\right) \\left(x - 4\\right) \\left(x - 3\\right) \\left(x - 1\\right)$"
      ],
      "text/plain": [
       "-0.0125⋅x⋅(x - 5)⋅(x - 4)⋅(x - 3) + 0.025⋅x⋅(x - 5)⋅(x - 4)⋅(x - 1) - 0.016666\n",
       "6666666667⋅x⋅(x - 5)⋅(x - 3)⋅(x - 1) + 0.0025⋅x⋅(x - 4)⋅(x - 3)⋅(x - 1) + 0.00\n",
       "833333333333333⋅(x - 5)⋅(x - 4)⋅(x - 3)⋅(x - 1)"
      ]
     },
     "execution_count": 31,
     "metadata": {},
     "output_type": "execute_result"
    }
   ],
   "source": [
    "P=Function(\"P\")\n",
    "P=v[0]*L_1+v[1]*L_2+v[2]*L_3+v[3]*L_4+v[4]*L_5\n",
    "P"
   ]
  },
  {
   "cell_type": "code",
   "execution_count": 32,
   "metadata": {},
   "outputs": [],
   "source": [
    "P_shtrih=P.diff(x)"
   ]
  },
  {
   "cell_type": "code",
   "execution_count": 33,
   "metadata": {},
   "outputs": [
    {
     "data": {
      "text/latex": [
       "$\\displaystyle -0.03$"
      ],
      "text/plain": [
       "-0.0300000000000000"
      ]
     },
     "execution_count": 33,
     "metadata": {},
     "output_type": "execute_result"
    }
   ],
   "source": [
    "P_shtrih.subs(x,5)"
   ]
  },
  {
   "cell_type": "markdown",
   "metadata": {},
   "source": [
    "# Метод неопределенных коэффициентов"
   ]
  },
  {
   "cell_type": "markdown",
   "metadata": {},
   "source": [
    "## Ищем коэффициенты $C_{i}$"
   ]
  },
  {
   "cell_type": "markdown",
   "metadata": {},
   "source": [
    "# $$\\Sigma C_{i} = 0$$"
   ]
  },
  {
   "cell_type": "markdown",
   "metadata": {},
   "source": [
    "# $$\\Sigma C_i x_i =1$$"
   ]
  },
  {
   "cell_type": "markdown",
   "metadata": {},
   "source": [
    "# $$\\Sigma C_i x_i^2=2\\cdot x_4$$"
   ]
  },
  {
   "cell_type": "markdown",
   "metadata": {},
   "source": [
    "# $$\\Sigma C_i x_i^3=3!\\cdot x_4^2$$"
   ]
  },
  {
   "cell_type": "markdown",
   "metadata": {},
   "source": [
    "# $$\\Sigma C_i x_i^4=4!\\cdot x_4^3$$"
   ]
  },
  {
   "cell_type": "markdown",
   "metadata": {},
   "source": [
    "Получаем линейное уравнение"
   ]
  },
  {
   "cell_type": "code",
   "execution_count": 35,
   "metadata": {},
   "outputs": [],
   "source": [
    "from sympy.matrices import Matrix"
   ]
  },
  {
   "cell_type": "code",
   "execution_count": 62,
   "metadata": {},
   "outputs": [],
   "source": [
    "M=Matrix([[1,1,1,1,1], [p[0],p[1],p[2],p[3],p[4]], [p[0]*p[0],p[1]*p[1],p[2]*p[2],p[3]*p[3],p[4]*p[4]],[p[0]*p[0]*p[0],p[1]*p[1]*p[1],p[2]*p[2]*p[2],p[3]*p[3]*p[3],p[4]*p[4]*p[4]],[p[0]*p[0]*p[0]*p[0],p[1]*p[1]*p[1]*p[1],p[2]*p[2]*p[2]*p[2],p[3]*p[3]*p[3]*p[3],p[4]*p[4]*p[4]*p[4]]])"
   ]
  },
  {
   "cell_type": "code",
   "execution_count": 63,
   "metadata": {
    "scrolled": false
   },
   "outputs": [
    {
     "data": {
      "text/latex": [
       "$\\displaystyle \\left[\\begin{matrix}1 & 1 & 1 & 1 & 1\\\\0 & 1 & 3 & 4 & 5\\\\0 & 1 & 9 & 16 & 25\\\\0 & 1 & 27 & 64 & 125\\\\0 & 1 & 81 & 256 & 625\\end{matrix}\\right]$"
      ],
      "text/plain": [
       "⎡1  1  1    1    1 ⎤\n",
       "⎢                  ⎥\n",
       "⎢0  1  3    4    5 ⎥\n",
       "⎢                  ⎥\n",
       "⎢0  1  9   16   25 ⎥\n",
       "⎢                  ⎥\n",
       "⎢0  1  27  64   125⎥\n",
       "⎢                  ⎥\n",
       "⎣0  1  81  256  625⎦"
      ]
     },
     "execution_count": 63,
     "metadata": {},
     "output_type": "execute_result"
    }
   ],
   "source": [
    "M"
   ]
  },
  {
   "cell_type": "markdown",
   "metadata": {},
   "source": [
    "Правый столбец :"
   ]
  },
  {
   "cell_type": "code",
   "execution_count": 64,
   "metadata": {},
   "outputs": [],
   "source": [
    "b = Matrix([0,1,2*p[4],3*2*p[4]*p[4],4*3*2*p[4]*p[4]*p[4]])"
   ]
  },
  {
   "cell_type": "code",
   "execution_count": 69,
   "metadata": {},
   "outputs": [
    {
     "data": {
      "text/latex": [
       "$\\displaystyle 5$"
      ],
      "text/plain": [
       "5"
      ]
     },
     "execution_count": 69,
     "metadata": {},
     "output_type": "execute_result"
    }
   ],
   "source": [
    "p[4]"
   ]
  },
  {
   "cell_type": "code",
   "execution_count": 65,
   "metadata": {
    "scrolled": true
   },
   "outputs": [
    {
     "data": {
      "text/latex": [
       "$\\displaystyle \\left[\\begin{matrix}0\\\\1\\\\10\\\\150\\\\3000\\end{matrix}\\right]$"
      ],
      "text/plain": [
       "⎡ 0  ⎤\n",
       "⎢    ⎥\n",
       "⎢ 1  ⎥\n",
       "⎢    ⎥\n",
       "⎢ 10 ⎥\n",
       "⎢    ⎥\n",
       "⎢150 ⎥\n",
       "⎢    ⎥\n",
       "⎣3000⎦"
      ]
     },
     "execution_count": 65,
     "metadata": {},
     "output_type": "execute_result"
    }
   ],
   "source": [
    "b"
   ]
  },
  {
   "cell_type": "markdown",
   "metadata": {},
   "source": [
    "Реашаем систему"
   ]
  },
  {
   "cell_type": "code",
   "execution_count": 71,
   "metadata": {
    "scrolled": true
   },
   "outputs": [
    {
     "data": {
      "text/latex": [
       "$\\displaystyle \\left[\\begin{matrix}\\frac{511}{20}\\\\- \\frac{805}{12}\\\\\\frac{295}{2}\\\\- \\frac{1865}{12}\\\\\\frac{989}{20}\\end{matrix}\\right]$"
      ],
      "text/plain": [
       "⎡ 511  ⎤\n",
       "⎢ ───  ⎥\n",
       "⎢  20  ⎥\n",
       "⎢      ⎥\n",
       "⎢-805  ⎥\n",
       "⎢───── ⎥\n",
       "⎢  12  ⎥\n",
       "⎢      ⎥\n",
       "⎢295/2 ⎥\n",
       "⎢      ⎥\n",
       "⎢-1865 ⎥\n",
       "⎢──────⎥\n",
       "⎢  12  ⎥\n",
       "⎢      ⎥\n",
       "⎢ 989  ⎥\n",
       "⎢ ───  ⎥\n",
       "⎣  20  ⎦"
      ]
     },
     "execution_count": 71,
     "metadata": {},
     "output_type": "execute_result"
    }
   ],
   "source": [
    "solution=M.inv()*b\n",
    "solution"
   ]
  },
  {
   "cell_type": "code",
   "execution_count": 67,
   "metadata": {},
   "outputs": [
    {
     "data": {
      "text/latex": [
       "$\\displaystyle \\left[\\begin{matrix}0.5 & 0.3 & 0.3 & 0.2 & 0.1\\end{matrix}\\right]$"
      ],
      "text/plain": [
       "[0.5  0.3  0.3  0.2  0.1]"
      ]
     },
     "execution_count": 67,
     "metadata": {},
     "output_type": "execute_result"
    }
   ],
   "source": [
    "values=Matrix([v[0],v[1],v[2],v[3],v[4]])\n",
    "values.T"
   ]
  },
  {
   "cell_type": "code",
   "execution_count": 72,
   "metadata": {
    "scrolled": false
   },
   "outputs": [
    {
     "data": {
      "text/latex": [
       "$\\displaystyle \\left[\\begin{matrix}10.7616666666667\\end{matrix}\\right]$"
      ],
      "text/plain": [
       "[10.7616666666667]"
      ]
     },
     "execution_count": 72,
     "metadata": {},
     "output_type": "execute_result"
    }
   ],
   "source": [
    "values.T*solution"
   ]
  }
 ],
 "metadata": {
  "kernelspec": {
   "display_name": "Python 3",
   "language": "python",
   "name": "python3"
  },
  "language_info": {
   "codemirror_mode": {
    "name": "ipython",
    "version": 3
   },
   "file_extension": ".py",
   "mimetype": "text/x-python",
   "name": "python",
   "nbconvert_exporter": "python",
   "pygments_lexer": "ipython3",
   "version": "3.6.9"
  }
 },
 "nbformat": 4,
 "nbformat_minor": 4
}
