{
 "cells": [
  {
   "cell_type": "markdown",
   "metadata": {},
   "source": [
    "# !!!!"
   ]
  },
  {
   "cell_type": "markdown",
   "metadata": {},
   "source": [
    "# ЭТУ ЗАДАЧУ Я НЕ УСПЕЛ ДОДЕЛАТЬ, ЭТУ ПОЛУНАЧАТЫЙ ЧЕРНОВИК. ЕСЛИ БУДЕТ ВОЗМОЖНОСТЬ ТО Я ДОДЕЛАЮ ЕЕ НА ЗАЧЕТКЕ"
   ]
  },
  {
   "cell_type": "markdown",
   "metadata": {},
   "source": [
    "# !!!"
   ]
  },
  {
   "cell_type": "markdown",
   "metadata": {},
   "source": [
    "Найти все точки пересечения кривых"
   ]
  },
  {
   "cell_type": "markdown",
   "metadata": {},
   "source": [
    "![usl](./3usl.png)"
   ]
  },
  {
   "cell_type": "markdown",
   "metadata": {},
   "source": [
    "Локализуем корни при помощи графика "
   ]
  },
  {
   "cell_type": "markdown",
   "metadata": {},
   "source": [
    "![graphic](./12.7gr.png)"
   ]
  },
  {
   "cell_type": "markdown",
   "metadata": {},
   "source": [
    "Локализуем первый корень : $x\\in[-0.2,0],y\\in[-0,0.5]$"
   ]
  },
  {
   "cell_type": "markdown",
   "metadata": {},
   "source": [
    "Локализуем второй корень : $x \\in [0.2,0.4], y\\in[0.2,0.4]$"
   ]
  },
  {
   "cell_type": "code",
   "execution_count": 6,
   "metadata": {},
   "outputs": [],
   "source": [
    "from sympy import *"
   ]
  },
  {
   "cell_type": "code",
   "execution_count": 18,
   "metadata": {},
   "outputs": [
    {
     "data": {
      "text/latex": [
       "$\\displaystyle \\sqrt{\\left(y - 0.6\\right)^{2} + 1} + 1.4$"
      ],
      "text/plain": [
       "sqrt((y - 0.6)**2 + 1) + 1.4"
      ]
     },
     "execution_count": 18,
     "metadata": {},
     "output_type": "execute_result"
    }
   ],
   "source": [
    "f=Function(\"f\")\n",
    "y=Symbol(\"y\")\n",
    "x=Symbol(\"x\")\n",
    "f=sqrt(1+(y-0.6)*(y-0.6))+1.4\n",
    "f"
   ]
  },
  {
   "cell_type": "code",
   "execution_count": 22,
   "metadata": {
    "scrolled": true
   },
   "outputs": [
    {
     "data": {
      "text/latex": [
       "$\\displaystyle 0.690849279707757 \\sqrt{0.338095238095238 - x^{2}}$"
      ],
      "text/plain": [
       "0.690849279707757*sqrt(0.338095238095238 - x**2)"
      ]
     },
     "execution_count": 22,
     "metadata": {},
     "output_type": "execute_result"
    }
   ],
   "source": [
    "g=Function(\"g\")\n",
    "g=sqrt((1.42-4.2*x*x)/8.8)\n",
    "g"
   ]
  },
  {
   "cell_type": "code",
   "execution_count": 24,
   "metadata": {},
   "outputs": [
    {
     "data": {
      "text/latex": [
       "$\\displaystyle \\left[\\begin{matrix}0 & \\frac{y - 0.6}{\\sqrt{\\left(y - 0.6\\right)^{2} + 1}}\\\\- \\frac{0.690849279707757 x}{\\sqrt{0.338095238095238 - x^{2}}} & 0\\end{matrix}\\right]$"
      ],
      "text/plain": [
       "Matrix([\n",
       "[                                                  0, (y - 0.6)/sqrt((y - 0.6)**2 + 1)],\n",
       "[-0.690849279707757*x/sqrt(0.338095238095238 - x**2),                                0]])"
      ]
     },
     "execution_count": 24,
     "metadata": {},
     "output_type": "execute_result"
    }
   ],
   "source": [
    "G=Matrix([[f.diff(x),f.diff(y)],[g.diff(x),g.diff(y)]])\n",
    "G"
   ]
  },
  {
   "cell_type": "code",
   "execution_count": 31,
   "metadata": {},
   "outputs": [
    {
     "data": {
      "text/latex": [
       "$\\displaystyle 0.674008077256682$"
      ],
      "text/plain": [
       "0.674008077256682"
      ]
     },
     "execution_count": 31,
     "metadata": {},
     "output_type": "execute_result"
    }
   ],
   "source": [
    "(G.norm()).subs([(x,-0.2),(y,-0.2)])"
   ]
  },
  {
   "cell_type": "code",
   "execution_count": null,
   "metadata": {},
   "outputs": [],
   "source": []
  }
 ],
 "metadata": {
  "kernelspec": {
   "display_name": "Python 3",
   "language": "python",
   "name": "python3"
  },
  "language_info": {
   "codemirror_mode": {
    "name": "ipython",
    "version": 3
   },
   "file_extension": ".py",
   "mimetype": "text/x-python",
   "name": "python",
   "nbconvert_exporter": "python",
   "pygments_lexer": "ipython3",
   "version": "3.6.9"
  }
 },
 "nbformat": 4,
 "nbformat_minor": 4
}
