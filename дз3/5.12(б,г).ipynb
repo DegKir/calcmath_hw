{
 "cells": [
  {
   "cell_type": "markdown",
   "metadata": {},
   "source": [
    "### Используя многочлены степеней N=2,3,4,5, построить аппроксимацию данных переписи населения США в смысле МНК. Аппроксимацию можно строить на основе базисных многочленов следующих видов : $f(x)=\\Sigma_{0}^Nc_nx^n; f(x)=\\Sigma_{0}^Nc_n((x-1955)/45)^n$"
   ]
  },
  {
   "cell_type": "code",
   "execution_count": 65,
   "metadata": {},
   "outputs": [],
   "source": [
    "#всегдашний зачин\n",
    "import sympy\n",
    "import math\n",
    "from sympy.matrices import Matrix\n",
    "from sympy.abc import x,y\n",
    "from sympy import *\n",
    "init_printing( use_latex='mathjax' )\n",
    "phi=symbols(\"\\p\")\n",
    "g = Function(\"g\")\n",
    "h = Function(\"h\")\n",
    "f = Function(\"f\")\n",
    "er = symbols(\"er\")\n",
    "x=symbols(\"x\")\n",
    "y=symbols(\"y\")\n",
    "a=symbols(\"a\")\n",
    "b=symbols(\"b\")"
   ]
  },
  {
   "cell_type": "code",
   "execution_count": 66,
   "metadata": {},
   "outputs": [],
   "source": [
    "xlist=[1910,1920,1930,1940,1950,1960,1970,1980,1990,2000]\n",
    "X=Matrix(xlist)\n",
    "ylist=[92228496, 106021537,123202624,132164569,151325798,179323175,203211926,226545805,248709873,281421906]\n",
    "Y=Matrix(ylist)"
   ]
  },
  {
   "cell_type": "code",
   "execution_count": 67,
   "metadata": {},
   "outputs": [
    {
     "data": {
      "text/latex": [
       "$\\displaystyle \\left[\\begin{matrix}1910 & 1920 & 1930 & 1940 & 1950 & 1960 & 1970 & 1980 & 1990 & 2000\\end{matrix}\\right]$"
      ],
      "text/plain": [
       "[1910  1920  1930  1940  1950  1960  1970  1980  1990  2000]"
      ]
     },
     "execution_count": 67,
     "metadata": {},
     "output_type": "execute_result"
    }
   ],
   "source": [
    "X.T"
   ]
  },
  {
   "cell_type": "code",
   "execution_count": 68,
   "metadata": {
    "scrolled": true
   },
   "outputs": [
    {
     "data": {
      "text/latex": [
       "$\\displaystyle \\left[\\begin{matrix}92228496 & 106021537 & 123202624 & 132164569 & 151325798 & 179323175 & 203211926 & 226545805 & 248709873 & 281421906\\end{matrix}\\right]$"
      ],
      "text/plain": [
       "[92228496  106021537  123202624  132164569  151325798  179323175  203211926  2\n",
       "26545805  248709873  281421906]"
      ]
     },
     "execution_count": 68,
     "metadata": {},
     "output_type": "execute_result"
    }
   ],
   "source": [
    "Y.T"
   ]
  },
  {
   "cell_type": "code",
   "execution_count": 69,
   "metadata": {},
   "outputs": [],
   "source": [
    "import matplotlib.pyplot as plt"
   ]
  },
  {
   "cell_type": "code",
   "execution_count": 70,
   "metadata": {
    "scrolled": true
   },
   "outputs": [
    {
     "data": {
      "image/png": "[encoded data removed]",
      "text/plain": [
       "<matplotlib.figure.Figure at 0x7f053f0ca518>"
      ]
     },
     "metadata": {
      "needs_background": "light"
     },
     "output_type": "display_data"
    }
   ],
   "source": [
    "plt.scatter(X,Y,c='black',marker='s')\n",
    "plt.grid(b=1, which='major', axis='both')"
   ]
  },
  {
   "cell_type": "markdown",
   "metadata": {},
   "source": [
    "### Многочлены первого вида $f(x)=\\Sigma_{0}^Nc_nx^n$"
   ]
  },
  {
   "cell_type": "code",
   "execution_count": 71,
   "metadata": {},
   "outputs": [
    {
     "data": {
      "text/latex": [
       "$\\displaystyle \\left[\\begin{matrix}1 & 1 & 1 & 1 & 1 & 1 & 1 & 1 & 1 & 1\\\\1910 & 1920 & 1930 & 1940 & 1950 & 1960 & 1970 & 1980 & 1990 & 2000\\\\3648100 & 3686400 & 3724900 & 3763600 & 3802500 & 3841600 & 3880900 & 3920400 & 3960100 & 4000000\\\\6967871000 & 7077888000 & 7189057000 & 7301384000 & 7414875000 & 7529536000 & 7645373000 & 7762392000 & 7880599000 & 8000000000\\\\13308633610000 & 13589544960000 & 13874880010000 & 14164684960000 & 14459006250000 & 14757890560000 & 15061384810000 & 15369536160000 & 15682392010000 & 16000000000000\\\\25419490195100000 & 26091926323200000 & 26778518419300000 & 27479488822400000 & 28195062187500000 & 28925465497600000 & 29670928075700000 & 30431681596800000 & 31207960099900000 & 32000000000000000\\end{matrix}\\right]$"
      ],
      "text/plain": [
       "⎡        1                  1                  1                  1           \n",
       "⎢                                                                             \n",
       "⎢      1910               1920               1930               1940          \n",
       "⎢                                                                             \n",
       "⎢     3648100            3686400            3724900            3763600        \n",
       "⎢                                                                             \n",
       "⎢   6967871000         7077888000         7189057000         7301384000       \n",
       "⎢                                                                             \n",
       "⎢ 13308633610000     13589544960000     13874880010000     14164684960000     \n",
       "⎢                                                                             \n",
       "⎣25419490195100000  26091926323200000  26778518419300000  27479488822400000  2\n",
       "\n",
       "       1                  1                  1                  1             \n",
       "                                                                              \n",
       "     1950               1960               1970               1980            \n",
       "                                                                              \n",
       "    3802500            3841600            3880900            3920400          \n",
       "                                                                              \n",
       "  7414875000         7529536000         7645373000         7762392000         \n",
       "                                                                              \n",
       "14459006250000     14757890560000     15061384810000     15369536160000     15\n",
       "                                                                              \n",
       "8195062187500000  28925465497600000  29670928075700000  30431681596800000  312\n",
       "\n",
       "     1                  1        ⎤\n",
       "                                 ⎥\n",
       "   1990               2000       ⎥\n",
       "                                 ⎥\n",
       "  3960100            4000000     ⎥\n",
       "                                 ⎥\n",
       "7880599000         8000000000    ⎥\n",
       "                                 ⎥\n",
       "682392010000     16000000000000  ⎥\n",
       "                                 ⎥\n",
       "07960099900000  32000000000000000⎦"
      ]
     },
     "execution_count": 71,
     "metadata": {},
     "output_type": "execute_result"
    }
   ],
   "source": [
    "p=[]\n",
    "for i in range(0,6):\n",
    "    p.append(Matrix(1,10,[pow(X[0],i),pow(X[1],i),pow(X[2],i),pow(X[3],i),pow(X[4],i),pow(X[5],i),pow(X[6],i),pow(X[7],i),pow(X[8],i),pow(X[9],i)]))\n",
    "phi=Matrix([p[0],p[1],p[2],p[3],p[4],p[5]])\n",
    "phi"
   ]
  },
  {
   "cell_type": "code",
   "execution_count": 72,
   "metadata": {
    "scrolled": true
   },
   "outputs": [
    {
     "data": {
      "text/latex": [
       "$\\displaystyle \\left[\\begin{matrix}1744155709\\\\3427121483070\\\\6735331781858100\\\\13239548302454871000\\\\26029836442175815650000\\\\51186237641422206656700000\\end{matrix}\\right]$"
      ],
      "text/plain": [
       "⎡        1744155709        ⎤\n",
       "⎢                          ⎥\n",
       "⎢      3427121483070       ⎥\n",
       "⎢                          ⎥\n",
       "⎢     6735331781858100     ⎥\n",
       "⎢                          ⎥\n",
       "⎢   13239548302454871000   ⎥\n",
       "⎢                          ⎥\n",
       "⎢ 26029836442175815650000  ⎥\n",
       "⎢                          ⎥\n",
       "⎣51186237641422206656700000⎦"
      ]
     },
     "execution_count": 72,
     "metadata": {},
     "output_type": "execute_result"
    }
   ],
   "source": [
    "b=phi*Y\n",
    "b"
   ]
  },
  {
   "cell_type": "code",
   "execution_count": 73,
   "metadata": {
    "scrolled": false
   },
   "outputs": [
    {
     "data": {
      "text/latex": [
       "$\\displaystyle \\left[\\begin{matrix}10 & 19550 & 38228500 & 74768975000 & 146267953330000 & 286200521217500000\\\\19550 & 38228500 & 74768975000 & 146267953330000 & 286200521217500000 & 560125055788405000000\\\\38228500 & 74768975000 & 146267953330000 & 286200521217500000 & 560125055788405000000 & 1096459931086865750000000\\\\74768975000 & 146267953330000 & 286200521217500000 & 560125055788405000000 & 1096459931086865750000000 & 2146809624935265133300000000\\\\146267953330000 & 286200521217500000 & 560125055788405000000 & 1096459931086865750000000 & 2146809624935265133300000000 & 4204236114213690094415000000000\\\\286200521217500000 & 560125055788405000000 & 1096459931086865750000000 & 2146809624935265133300000000 & 4204236114213690094415000000000 & 8235182532996447037719250000000000\\end{matrix}\\right]$"
      ],
      "text/plain": [
       "⎡        10                  19550                  38228500                  \n",
       "⎢                                                                             \n",
       "⎢      19550               38228500                74768975000               1\n",
       "⎢                                                                             \n",
       "⎢     38228500            74768975000            146267953330000            28\n",
       "⎢                                                                             \n",
       "⎢   74768975000         146267953330000        286200521217500000         5601\n",
       "⎢                                                                             \n",
       "⎢ 146267953330000     286200521217500000      560125055788405000000     109645\n",
       "⎢                                                                             \n",
       "⎣286200521217500000  560125055788405000000  1096459931086865750000000  2146809\n",
       "\n",
       " 74768975000                   146267953330000                  28620052121750\n",
       "                                                                              \n",
       "46267953330000               286200521217500000               5601250557884050\n",
       "                                                                              \n",
       "6200521217500000            560125055788405000000           109645993108686575\n",
       "                                                                              \n",
       "25055788405000000         1096459931086865750000000        2146809624935265133\n",
       "                                                                              \n",
       "9931086865750000000     2146809624935265133300000000     420423611421369009441\n",
       "                                                                              \n",
       "624935265133300000000  4204236114213690094415000000000  8235182532996447037719\n",
       "\n",
       "0000        ⎤\n",
       "            ⎥\n",
       "00000       ⎥\n",
       "            ⎥\n",
       "0000000     ⎥\n",
       "            ⎥\n",
       "300000000   ⎥\n",
       "            ⎥\n",
       "5000000000  ⎥\n",
       "            ⎥\n",
       "250000000000⎦"
      ]
     },
     "execution_count": 73,
     "metadata": {},
     "output_type": "execute_result"
    }
   ],
   "source": [
    "M=phi*phi.T\n",
    "M"
   ]
  },
  {
   "cell_type": "code",
   "execution_count": 74,
   "metadata": {
    "scrolled": true
   },
   "outputs": [
    {
     "data": {
      "text/latex": [
       "$\\displaystyle \\left[\\begin{matrix}- \\frac{14970410032728032876}{2145}\\\\\\frac{1276104847001696447}{71500}\\\\- \\frac{3132561455835173}{171600}\\\\\\frac{7281438406871}{780000}\\\\- \\frac{68260166193}{28600000}\\\\\\frac{95186063}{390000000}\\end{matrix}\\right]$"
      ],
      "text/plain": [
       "⎡-14970410032728032876 ⎤\n",
       "⎢──────────────────────⎥\n",
       "⎢         2145         ⎥\n",
       "⎢                      ⎥\n",
       "⎢ 1276104847001696447  ⎥\n",
       "⎢ ───────────────────  ⎥\n",
       "⎢        71500         ⎥\n",
       "⎢                      ⎥\n",
       "⎢  -3132561455835173   ⎥\n",
       "⎢  ──────────────────  ⎥\n",
       "⎢        171600        ⎥\n",
       "⎢                      ⎥\n",
       "⎢    7281438406871     ⎥\n",
       "⎢    ─────────────     ⎥\n",
       "⎢        780000        ⎥\n",
       "⎢                      ⎥\n",
       "⎢    -68260166193      ⎥\n",
       "⎢    ─────────────     ⎥\n",
       "⎢       28600000       ⎥\n",
       "⎢                      ⎥\n",
       "⎢       95186063       ⎥\n",
       "⎢      ─────────       ⎥\n",
       "⎣      390000000       ⎦"
      ]
     },
     "execution_count": 74,
     "metadata": {},
     "output_type": "execute_result"
    }
   ],
   "source": [
    "sol=M.inv()*b\n",
    "sol"
   ]
  },
  {
   "cell_type": "code",
   "execution_count": 75,
   "metadata": {},
   "outputs": [
    {
     "data": {
      "text/latex": [
       "$\\displaystyle \\left[\\begin{matrix}1 & x & x^{2} & x^{3} & x^{4} & x^{5}\\end{matrix}\\right]$"
      ],
      "text/plain": [
       "⎡       2   3   4   5⎤\n",
       "⎣1  x  x   x   x   x ⎦"
      ]
     },
     "execution_count": 75,
     "metadata": {},
     "output_type": "execute_result"
    }
   ],
   "source": [
    "polynom=Matrix(1,6,[pow(x,0),pow(x,1),pow(x,2),pow(x,3),pow(x,4),pow(x,5)])\n",
    "polynom"
   ]
  },
  {
   "cell_type": "code",
   "execution_count": 76,
   "metadata": {},
   "outputs": [
    {
     "data": {
      "text/latex": [
       "$\\displaystyle \\frac{95186063 x^{5}}{390000000} - \\frac{68260166193 x^{4}}{28600000} + \\frac{7281438406871 x^{3}}{780000} - \\frac{3132561455835173 x^{2}}{171600} + \\frac{1276104847001696447 x}{71500} - \\frac{14970410032728032876}{2145}$"
      ],
      "text/plain": [
       "          5                4                  3                     2         \n",
       "95186063⋅x    68260166193⋅x    7281438406871⋅x    3132561455835173⋅x    127610\n",
       "─────────── - ────────────── + ──────────────── - ─────────────────── + ──────\n",
       " 390000000       28600000           780000               171600               \n",
       "\n",
       "                                      \n",
       "4847001696447⋅x   14970410032728032876\n",
       "─────────────── - ────────────────────\n",
       "  71500                   2145        "
      ]
     },
     "execution_count": 76,
     "metadata": {},
     "output_type": "execute_result"
    }
   ],
   "source": [
    "h=polynom*sol\n",
    "h[0]"
   ]
  },
  {
   "cell_type": "code",
   "execution_count": 77,
   "metadata": {
    "scrolled": false
   },
   "outputs": [
    {
     "data": {
      "text/latex": [
       "$\\displaystyle \\left[\\begin{matrix}\\frac{95186063 x^{5}}{390000000} - \\frac{68260166193 x^{4}}{28600000} + \\frac{7281438406871 x^{3}}{780000} - \\frac{3132561455835173 x^{2}}{171600} + \\frac{1276104847001696447 x}{71500} - \\frac{14970410032728032876}{2145}\\end{matrix}\\right]$"
      ],
      "text/plain": [
       "⎡          5                4                  3                     2        \n",
       "⎢95186063⋅x    68260166193⋅x    7281438406871⋅x    3132561455835173⋅x    12761\n",
       "⎢─────────── - ────────────── + ──────────────── - ─────────────────── + ─────\n",
       "⎣ 390000000       28600000           780000               171600              \n",
       "\n",
       "                                       ⎤\n",
       "04847001696447⋅x   14970410032728032876⎥\n",
       "──────────────── - ────────────────────⎥\n",
       "   71500                   2145        ⎦"
      ]
     },
     "execution_count": 77,
     "metadata": {},
     "output_type": "execute_result"
    }
   ],
   "source": [
    "h=polynom*sol\n",
    "func1=h\n",
    "h"
   ]
  },
  {
   "cell_type": "code",
   "execution_count": 78,
   "metadata": {},
   "outputs": [],
   "source": [
    "import numpy as np\n",
    "from sympy import lambdify\n",
    "\n",
    "lam_x = lambdify(x, h, modules=['numpy'])\n",
    "\n",
    "x_vals = np.linspace(1900, 2010, 100)\n",
    "y_vals = lam_x(x_vals)"
   ]
  },
  {
   "cell_type": "code",
   "execution_count": 79,
   "metadata": {
    "scrolled": true
   },
   "outputs": [
    {
     "data": {
      "text/plain": [
       "[<matplotlib.lines.Line2D at 0x7f053ea7e668>]"
      ]
     },
     "execution_count": 79,
     "metadata": {},
     "output_type": "execute_result"
    },
    {
     "data": {
      "image/png": "[encoded data removed]",
      "text/plain": [
       "<matplotlib.figure.Figure at 0x7f053ea7e438>"
      ]
     },
     "metadata": {
      "needs_background": "light"
     },
     "output_type": "display_data"
    }
   ],
   "source": [
    "plt.scatter(X,Y,c='black',marker='s')\n",
    "plt.grid(b=1, which='major', axis='both')\n",
    "plt.plot(x_vals, y_vals[0][0],c='r')"
   ]
  },
  {
   "cell_type": "markdown",
   "metadata": {},
   "source": [
    "Итого население составит"
   ]
  },
  {
   "cell_type": "code",
   "execution_count": 80,
   "metadata": {
    "scrolled": true
   },
   "outputs": [
    {
     "data": {
      "text/latex": [
       "$\\displaystyle 340607747.0$"
      ],
      "text/plain": [
       "340607747.0"
      ]
     },
     "execution_count": 80,
     "metadata": {},
     "output_type": "execute_result"
    }
   ],
   "source": [
    "res_1=lam_x(2010)[0][0]\n",
    "res_1"
   ]
  },
  {
   "cell_type": "markdown",
   "metadata": {},
   "source": [
    "Теперь то же самое, но для другого набора функций"
   ]
  },
  {
   "cell_type": "markdown",
   "metadata": {},
   "source": [
    "### Многочлены второго вида $f(x)=\\Sigma_{0}^Nc_n((x-1955)/45)^n$"
   ]
  },
  {
   "cell_type": "code",
   "execution_count": 81,
   "metadata": {
    "scrolled": true
   },
   "outputs": [
    {
     "data": {
      "text/latex": [
       "$\\displaystyle \\left[\\begin{matrix}1 & 1 & 1 & 1 & 1 & 1 & 1 & 1 & 1 & 1\\\\-1 & - \\frac{7}{9} & - \\frac{5}{9} & - \\frac{1}{3} & - \\frac{1}{9} & \\frac{1}{9} & \\frac{1}{3} & \\frac{5}{9} & \\frac{7}{9} & 1\\\\1 & \\frac{49}{81} & \\frac{25}{81} & \\frac{1}{9} & \\frac{1}{81} & \\frac{1}{81} & \\frac{1}{9} & \\frac{25}{81} & \\frac{49}{81} & 1\\\\-1 & - \\frac{343}{729} & - \\frac{125}{729} & - \\frac{1}{27} & - \\frac{1}{729} & \\frac{1}{729} & \\frac{1}{27} & \\frac{125}{729} & \\frac{343}{729} & 1\\\\1 & \\frac{2401}{6561} & \\frac{625}{6561} & \\frac{1}{81} & \\frac{1}{6561} & \\frac{1}{6561} & \\frac{1}{81} & \\frac{625}{6561} & \\frac{2401}{6561} & 1\\\\-1 & - \\frac{16807}{59049} & - \\frac{3125}{59049} & - \\frac{1}{243} & - \\frac{1}{59049} & \\frac{1}{59049} & \\frac{1}{243} & \\frac{3125}{59049} & \\frac{16807}{59049} & 1\\end{matrix}\\right]$"
      ],
      "text/plain": [
       "⎡1      1       1       1        1         1       1      1      1    1⎤\n",
       "⎢                                                                      ⎥\n",
       "⎢-1   -7/9     -5/9    -1/3     -1/9      1/9     1/3    5/9    7/9   1⎥\n",
       "⎢                                                                      ⎥\n",
       "⎢      49       25                                       25     49     ⎥\n",
       "⎢1     ──       ──     1/9      1/81     1/81     1/9    ──     ──    1⎥\n",
       "⎢      81       81                                       81     81     ⎥\n",
       "⎢                                                                      ⎥\n",
       "⎢     -343    -125                                       125    343    ⎥\n",
       "⎢-1   ─────   ─────   -1/27    -1/729    1/729   1/27    ───    ───   1⎥\n",
       "⎢      729     729                                       729    729    ⎥\n",
       "⎢                                                                      ⎥\n",
       "⎢     2401     625                                      625    2401    ⎥\n",
       "⎢1    ────     ────    1/81    1/6561   1/6561   1/81   ────   ────   1⎥\n",
       "⎢     6561     6561                                     6561   6561    ⎥\n",
       "⎢                                                                      ⎥\n",
       "⎢    -16807   -3125                                      3125  16807   ⎥\n",
       "⎢-1  ───────  ──────  -1/243  -1/59049  1/59049  1/243  ─────  ─────  1⎥\n",
       "⎣     59049   59049                                     59049  59049   ⎦"
      ]
     },
     "execution_count": 81,
     "metadata": {},
     "output_type": "execute_result"
    }
   ],
   "source": [
    "p=[]\n",
    "def mn(j,i):\n",
    "    return pow((X[j]-1955)/45,i)\n",
    "for i in range(0,6):\n",
    "    p.append(Matrix(1,10,[mn(0,i),mn(1,i),mn(2,i),mn(3,i),mn(4,i),mn(5,i),mn(6,i),mn(7,i),mn(8,i),mn(9,i)]))\n",
    "phi=Matrix([p[0],p[1],p[2],p[3],p[4],p[5]])\n",
    "phi"
   ]
  },
  {
   "cell_type": "code",
   "execution_count": 82,
   "metadata": {
    "scrolled": true
   },
   "outputs": [
    {
     "data": {
      "text/latex": [
       "$\\displaystyle \\left[\\begin{matrix}1744155709\\\\\\frac{3459414395}{9}\\\\\\frac{59740269805}{81}\\\\\\frac{201728268779}{729}\\\\\\frac{3549319316125}{6561}\\\\\\frac{13910084475995}{59049}\\end{matrix}\\right]$"
      ],
      "text/plain": [
       "⎡  1744155709  ⎤\n",
       "⎢              ⎥\n",
       "⎢ 3459414395/9 ⎥\n",
       "⎢              ⎥\n",
       "⎢ 59740269805  ⎥\n",
       "⎢ ───────────  ⎥\n",
       "⎢      81      ⎥\n",
       "⎢              ⎥\n",
       "⎢ 201728268779 ⎥\n",
       "⎢ ──────────── ⎥\n",
       "⎢     729      ⎥\n",
       "⎢              ⎥\n",
       "⎢3549319316125 ⎥\n",
       "⎢───────────── ⎥\n",
       "⎢     6561     ⎥\n",
       "⎢              ⎥\n",
       "⎢13910084475995⎥\n",
       "⎢──────────────⎥\n",
       "⎣    59049     ⎦"
      ]
     },
     "execution_count": 82,
     "metadata": {},
     "output_type": "execute_result"
    }
   ],
   "source": [
    "b=phi*Y\n",
    "b"
   ]
  },
  {
   "cell_type": "code",
   "execution_count": 83,
   "metadata": {
    "scrolled": true
   },
   "outputs": [
    {
     "data": {
      "text/latex": [
       "$\\displaystyle \\left[\\begin{matrix}10 & 0 & \\frac{110}{27} & 0 & \\frac{6446}{2187} & 0\\\\0 & \\frac{110}{27} & 0 & \\frac{6446}{2187} & 0 & \\frac{443630}{177147}\\\\\\frac{110}{27} & 0 & \\frac{6446}{2187} & 0 & \\frac{443630}{177147} & 0\\\\0 & \\frac{6446}{2187} & 0 & \\frac{443630}{177147} & 0 & \\frac{32805806}{14348907}\\\\\\frac{6446}{2187} & 0 & \\frac{443630}{177147} & 0 & \\frac{32805806}{14348907} & 0\\\\0 & \\frac{443630}{177147} & 0 & \\frac{32805806}{14348907} & 0 & \\frac{2519389550}{1162261467}\\end{matrix}\\right]$"
      ],
      "text/plain": [
       "⎡               110                6446              ⎤\n",
       "⎢ 10     0      ───       0        ────        0     ⎥\n",
       "⎢                27                2187              ⎥\n",
       "⎢                                                    ⎥\n",
       "⎢       110              6446                443630  ⎥\n",
       "⎢ 0     ───      0       ────       0        ──────  ⎥\n",
       "⎢        27              2187                177147  ⎥\n",
       "⎢                                                    ⎥\n",
       "⎢110            6446              443630             ⎥\n",
       "⎢───     0      ────      0       ──────       0     ⎥\n",
       "⎢ 27            2187              177147             ⎥\n",
       "⎢                                                    ⎥\n",
       "⎢       6446            443630              32805806 ⎥\n",
       "⎢ 0     ────     0      ──────      0       ──────── ⎥\n",
       "⎢       2187            177147              14348907 ⎥\n",
       "⎢                                                    ⎥\n",
       "⎢6446          443630            32805806            ⎥\n",
       "⎢────    0     ──────     0      ────────      0     ⎥\n",
       "⎢2187          177147            14348907            ⎥\n",
       "⎢                                                    ⎥\n",
       "⎢      443630          32805806            2519389550⎥\n",
       "⎢ 0    ──────    0     ────────     0      ──────────⎥\n",
       "⎣      177147          14348907            1162261467⎦"
      ]
     },
     "execution_count": 83,
     "metadata": {},
     "output_type": "execute_result"
    }
   ],
   "source": [
    "M=phi*phi.T\n",
    "M"
   ]
  },
  {
   "cell_type": "code",
   "execution_count": 84,
   "metadata": {},
   "outputs": [
    {
     "data": {
      "text/latex": [
       "$\\displaystyle \\left[\\begin{matrix}\\frac{21173960901}{128}\\\\\\frac{50738717798631}{457600}\\\\\\frac{228264660225}{9152}\\\\- \\frac{2796772988223}{45760}\\\\- \\frac{72494761293}{18304}\\\\\\frac{1873547278029}{41600}\\end{matrix}\\right]$"
      ],
      "text/plain": [
       "⎡  21173960901  ⎤\n",
       "⎢  ───────────  ⎥\n",
       "⎢      128      ⎥\n",
       "⎢               ⎥\n",
       "⎢50738717798631 ⎥\n",
       "⎢────────────── ⎥\n",
       "⎢    457600     ⎥\n",
       "⎢               ⎥\n",
       "⎢ 228264660225  ⎥\n",
       "⎢ ────────────  ⎥\n",
       "⎢     9152      ⎥\n",
       "⎢               ⎥\n",
       "⎢-2796772988223 ⎥\n",
       "⎢───────────────⎥\n",
       "⎢     45760     ⎥\n",
       "⎢               ⎥\n",
       "⎢ -72494761293  ⎥\n",
       "⎢ ───────────── ⎥\n",
       "⎢     18304     ⎥\n",
       "⎢               ⎥\n",
       "⎢ 1873547278029 ⎥\n",
       "⎢ ───────────── ⎥\n",
       "⎣     41600     ⎦"
      ]
     },
     "execution_count": 84,
     "metadata": {},
     "output_type": "execute_result"
    }
   ],
   "source": [
    "sol=M.inv()*b\n",
    "sol"
   ]
  },
  {
   "cell_type": "code",
   "execution_count": 85,
   "metadata": {},
   "outputs": [
    {
     "data": {
      "text/latex": [
       "$\\displaystyle \\left[\\begin{matrix}1 & \\frac{x}{45} - \\frac{391}{9} & \\left(\\frac{x}{45} - \\frac{391}{9}\\right)^{2} & \\left(\\frac{x}{45} - \\frac{391}{9}\\right)^{3} & \\left(\\frac{x}{45} - \\frac{391}{9}\\right)^{4} & \\left(\\frac{x}{45} - \\frac{391}{9}\\right)^{5}\\end{matrix}\\right]$"
      ],
      "text/plain": [
       "⎡                       2            3            4            5⎤\n",
       "⎢   x    391  ⎛x    391⎞   ⎛x    391⎞   ⎛x    391⎞   ⎛x    391⎞ ⎥\n",
       "⎢1  ── - ───  ⎜── - ───⎟   ⎜── - ───⎟   ⎜── - ───⎟   ⎜── - ───⎟ ⎥\n",
       "⎣   45    9   ⎝45    9 ⎠   ⎝45    9 ⎠   ⎝45    9 ⎠   ⎝45    9 ⎠ ⎦"
      ]
     },
     "execution_count": 85,
     "metadata": {},
     "output_type": "execute_result"
    }
   ],
   "source": [
    "polynom=Matrix(1,6,[pow((x-1955)/45,0),pow((x-1955)/45,1),pow((x-1955)/45,2),pow((x-1955)/45,3),pow((x-1955)/45,4),pow((x-1955)/45,5)])\n",
    "polynom"
   ]
  },
  {
   "cell_type": "code",
   "execution_count": 86,
   "metadata": {
    "scrolled": false
   },
   "outputs": [
    {
     "data": {
      "text/latex": [
       "$\\displaystyle \\frac{5637635310959 x}{2288000} + \\frac{1873547278029 \\left(\\frac{x}{45} - \\frac{391}{9}\\right)^{5}}{41600} - \\frac{72494761293 \\left(\\frac{x}{45} - \\frac{391}{9}\\right)^{4}}{18304} - \\frac{2796772988223 \\left(\\frac{x}{45} - \\frac{391}{9}\\right)^{3}}{45760} + \\frac{228264660225 \\left(\\frac{x}{45} - \\frac{391}{9}\\right)^{2}}{9152} - \\frac{1064309248181947}{228800}$"
      ],
      "text/plain": [
       "                                          5                         4         \n",
       "                                ⎛x    391⎞                ⎛x    391⎞          \n",
       "                  1873547278029⋅⎜── - ───⎟    72494761293⋅⎜── - ───⎟    279677\n",
       "5637635310959⋅x                 ⎝45    9 ⎠                ⎝45    9 ⎠          \n",
       "─────────────── + ───────────────────────── - ─────────────────────── - ──────\n",
       "    2288000                 41600                      18304                  \n",
       "\n",
       "                  3                          2                   \n",
       "        ⎛x    391⎞                 ⎛x    391⎞                    \n",
       "2988223⋅⎜── - ───⎟    228264660225⋅⎜── - ───⎟                    \n",
       "        ⎝45    9 ⎠                 ⎝45    9 ⎠    1064309248181947\n",
       "─────────────────── + ──────────────────────── - ────────────────\n",
       "    45760                       9152                  228800     "
      ]
     },
     "execution_count": 86,
     "metadata": {},
     "output_type": "execute_result"
    }
   ],
   "source": [
    "h=polynom*sol\n",
    "h[0]"
   ]
  },
  {
   "cell_type": "code",
   "execution_count": 87,
   "metadata": {
    "scrolled": false
   },
   "outputs": [
    {
     "data": {
      "text/latex": [
       "$\\displaystyle \\left[\\begin{matrix}\\frac{5637635310959 x}{2288000} + \\frac{1873547278029 \\left(\\frac{x}{45} - \\frac{391}{9}\\right)^{5}}{41600} - \\frac{72494761293 \\left(\\frac{x}{45} - \\frac{391}{9}\\right)^{4}}{18304} - \\frac{2796772988223 \\left(\\frac{x}{45} - \\frac{391}{9}\\right)^{3}}{45760} + \\frac{228264660225 \\left(\\frac{x}{45} - \\frac{391}{9}\\right)^{2}}{9152} - \\frac{1064309248181947}{228800}\\end{matrix}\\right]$"
      ],
      "text/plain": [
       "⎡                                          5                         4        \n",
       "⎢                                ⎛x    391⎞                ⎛x    391⎞         \n",
       "⎢                  1873547278029⋅⎜── - ───⎟    72494761293⋅⎜── - ───⎟    27967\n",
       "⎢5637635310959⋅x                 ⎝45    9 ⎠                ⎝45    9 ⎠         \n",
       "⎢─────────────── + ───────────────────────── - ─────────────────────── - ─────\n",
       "⎣    2288000                 41600                      18304                 \n",
       "\n",
       "                   3                          2                   ⎤\n",
       "         ⎛x    391⎞                 ⎛x    391⎞                    ⎥\n",
       "72988223⋅⎜── - ───⎟    228264660225⋅⎜── - ───⎟                    ⎥\n",
       "         ⎝45    9 ⎠                 ⎝45    9 ⎠    1064309248181947⎥\n",
       "──────────────────── + ──────────────────────── - ────────────────⎥\n",
       "     45760                       9152                  228800     ⎦"
      ]
     },
     "execution_count": 87,
     "metadata": {},
     "output_type": "execute_result"
    }
   ],
   "source": [
    "h=polynom*sol\n",
    "func2=h\n",
    "h"
   ]
  },
  {
   "cell_type": "code",
   "execution_count": 88,
   "metadata": {},
   "outputs": [],
   "source": [
    "import numpy as np\n",
    "from sympy import lambdify\n",
    "\n",
    "lam_x = lambdify(x, h, modules=['numpy'])\n",
    "\n",
    "x_vals = np.linspace(1900, 2010, 100)\n",
    "y_vals = lam_x(x_vals)"
   ]
  },
  {
   "cell_type": "code",
   "execution_count": 89,
   "metadata": {
    "scrolled": true
   },
   "outputs": [
    {
     "data": {
      "text/plain": [
       "[<matplotlib.lines.Line2D at 0x7f053e9e5f98>]"
      ]
     },
     "execution_count": 89,
     "metadata": {},
     "output_type": "execute_result"
    },
    {
     "data": {
      "image/png": "[encoded data removed]",
      "text/plain": [
       "<matplotlib.figure.Figure at 0x7f053ea247b8>"
      ]
     },
     "metadata": {
      "needs_background": "light"
     },
     "output_type": "display_data"
    }
   ],
   "source": [
    "plt.scatter(X,Y,c='black',marker='s')\n",
    "plt.grid(b=1, which='major', axis='both')\n",
    "plt.plot(x_vals, y_vals[0][0],c='r')"
   ]
  },
  {
   "cell_type": "code",
   "execution_count": 90,
   "metadata": {
    "scrolled": false
   },
   "outputs": [
    {
     "data": {
      "text/latex": [
       "$\\displaystyle 340607731.933334$"
      ],
      "text/plain": [
       "340607731.93333435"
      ]
     },
     "execution_count": 90,
     "metadata": {},
     "output_type": "execute_result"
    }
   ],
   "source": [
    "res_2=lam_x(2010)[0][0]\n",
    "res_2"
   ]
  },
  {
   "cell_type": "markdown",
   "metadata": {},
   "source": [
    "### Итоги"
   ]
  },
  {
   "cell_type": "markdown",
   "metadata": {},
   "source": [
    "Первая модель дает полином :"
   ]
  },
  {
   "cell_type": "code",
   "execution_count": 94,
   "metadata": {},
   "outputs": [
    {
     "data": {
      "text/latex": [
       "$\\displaystyle \\frac{95186063 x^{5}}{390000000} - \\frac{68260166193 x^{4}}{28600000} + \\frac{7281438406871 x^{3}}{780000} - \\frac{3132561455835173 x^{2}}{171600} + \\frac{1276104847001696447 x}{71500} - \\frac{14970410032728032876}{2145}$"
      ],
      "text/plain": [
       "          5                4                  3                     2         \n",
       "95186063⋅x    68260166193⋅x    7281438406871⋅x    3132561455835173⋅x    127610\n",
       "─────────── - ────────────── + ──────────────── - ─────────────────── + ──────\n",
       " 390000000       28600000           780000               171600               \n",
       "\n",
       "                                      \n",
       "4847001696447⋅x   14970410032728032876\n",
       "─────────────── - ────────────────────\n",
       "  71500                   2145        "
      ]
     },
     "execution_count": 94,
     "metadata": {},
     "output_type": "execute_result"
    }
   ],
   "source": [
    "func1[0]"
   ]
  },
  {
   "cell_type": "markdown",
   "metadata": {},
   "source": [
    "Вторая модель дает полином"
   ]
  },
  {
   "cell_type": "code",
   "execution_count": 95,
   "metadata": {},
   "outputs": [
    {
     "data": {
      "text/latex": [
       "$\\displaystyle \\frac{5637635310959 x}{2288000} + \\frac{1873547278029 \\left(\\frac{x}{45} - \\frac{391}{9}\\right)^{5}}{41600} - \\frac{72494761293 \\left(\\frac{x}{45} - \\frac{391}{9}\\right)^{4}}{18304} - \\frac{2796772988223 \\left(\\frac{x}{45} - \\frac{391}{9}\\right)^{3}}{45760} + \\frac{228264660225 \\left(\\frac{x}{45} - \\frac{391}{9}\\right)^{2}}{9152} - \\frac{1064309248181947}{228800}$"
      ],
      "text/plain": [
       "                                          5                         4         \n",
       "                                ⎛x    391⎞                ⎛x    391⎞          \n",
       "                  1873547278029⋅⎜── - ───⎟    72494761293⋅⎜── - ───⎟    279677\n",
       "5637635310959⋅x                 ⎝45    9 ⎠                ⎝45    9 ⎠          \n",
       "─────────────── + ───────────────────────── - ─────────────────────── - ──────\n",
       "    2288000                 41600                      18304                  \n",
       "\n",
       "                  3                          2                   \n",
       "        ⎛x    391⎞                 ⎛x    391⎞                    \n",
       "2988223⋅⎜── - ───⎟    228264660225⋅⎜── - ───⎟                    \n",
       "        ⎝45    9 ⎠                 ⎝45    9 ⎠    1064309248181947\n",
       "─────────────────── + ──────────────────────── - ────────────────\n",
       "    45760                       9152                  228800     "
      ]
     },
     "execution_count": 95,
     "metadata": {},
     "output_type": "execute_result"
    }
   ],
   "source": [
    "func2[0]"
   ]
  },
  {
   "cell_type": "code",
   "execution_count": 91,
   "metadata": {
    "scrolled": true
   },
   "outputs": [
    {
     "name": "stdout",
     "output_type": "stream",
     "text": [
      "first model prediction is 340607747.0\n",
      "second model prediction is 340607731.93333435\n"
     ]
    }
   ],
   "source": [
    "print(\"first model prediction is \"+str(res_1)+\"\\n\"+\"second model prediction is \"+ str(res_2))"
   ]
  },
  {
   "cell_type": "markdown",
   "metadata": {},
   "source": [
    "Население США в 2010 году составило 309.3 миллиона"
   ]
  },
  {
   "cell_type": "markdown",
   "metadata": {},
   "source": [
    "Обе модели дали ошибку в 30 миллионов человек"
   ]
  }
 ],
 "metadata": {
  "kernelspec": {
   "display_name": "Python 3",
   "language": "python",
   "name": "python3"
  },
  "language_info": {
   "codemirror_mode": {
    "name": "ipython",
    "version": 3
   },
   "file_extension": ".py",
   "mimetype": "text/x-python",
   "name": "python",
   "nbconvert_exporter": "python",
   "pygments_lexer": "ipython3",
   "version": "3.6.9"
  }
 },
 "nbformat": 4,
 "nbformat_minor": 4
}
