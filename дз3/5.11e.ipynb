{
 "cells": [
  {
   "cell_type": "markdown",
   "metadata": {},
   "source": [
    "# Построить наилучшую среднеквадратичную линейную аппроксимацию для функции $f(x)=e^x, x \\in [0;1]$"
   ]
  },
  {
   "cell_type": "code",
   "execution_count": 15,
   "metadata": {},
   "outputs": [],
   "source": [
    "#всегдашний зачин\n",
    "import sympy\n",
    "import math\n",
    "from sympy.matrices import Matrix\n",
    "from sympy.abc import x,y\n",
    "from sympy import *\n",
    "init_printing( use_latex='mathjax' )\n",
    "phi=symbols(\"\\p\")\n",
    "g = Function(\"g\")\n",
    "h = Function(\"h\")\n",
    "f = Function(\"f\")\n",
    "er = symbols(\"er\")\n",
    "y=symbols(\"y\")\n",
    "x=symbols(\"x\")\n",
    "a=symbols(\"a\")\n",
    "b=symbols(\"b\")"
   ]
  },
  {
   "cell_type": "markdown",
   "metadata": {},
   "source": [
    "будем минимизировать величину $\\varepsilon = \\sqrt{\\int_{a}^b[f(x)-g(x)]^2dx}$"
   ]
  },
  {
   "cell_type": "code",
   "execution_count": 30,
   "metadata": {},
   "outputs": [
    {
     "data": {
      "text/latex": [
       "$\\displaystyle e^{x}$"
      ],
      "text/plain": [
       " x\n",
       "ℯ "
      ]
     },
     "execution_count": 30,
     "metadata": {},
     "output_type": "execute_result"
    }
   ],
   "source": [
    "f=exp(x)\n",
    "f"
   ]
  },
  {
   "cell_type": "code",
   "execution_count": 31,
   "metadata": {
    "scrolled": false
   },
   "outputs": [
    {
     "data": {
      "text/latex": [
       "$\\displaystyle a x + b$"
      ],
      "text/plain": [
       "a⋅x + b"
      ]
     },
     "execution_count": 31,
     "metadata": {},
     "output_type": "execute_result"
    }
   ],
   "source": [
    "g=a*x+b\n",
    "g"
   ]
  },
  {
   "cell_type": "code",
   "execution_count": 32,
   "metadata": {},
   "outputs": [
    {
     "data": {
      "text/latex": [
       "$\\displaystyle - a x - b + e^{x}$"
      ],
      "text/plain": [
       "            x\n",
       "-a⋅x - b + ℯ "
      ]
     },
     "execution_count": 32,
     "metadata": {},
     "output_type": "execute_result"
    }
   ],
   "source": [
    "h=f-g\n",
    "h"
   ]
  },
  {
   "cell_type": "code",
   "execution_count": 33,
   "metadata": {},
   "outputs": [
    {
     "data": {
      "text/latex": [
       "$\\displaystyle \\left(- a x - b + e^{x}\\right)^{2}$"
      ],
      "text/plain": [
       "               2\n",
       "⎛            x⎞ \n",
       "⎝-a⋅x - b + ℯ ⎠ "
      ]
     },
     "execution_count": 33,
     "metadata": {},
     "output_type": "execute_result"
    }
   ],
   "source": [
    "h=h*h\n",
    "h"
   ]
  },
  {
   "cell_type": "code",
   "execution_count": 34,
   "metadata": {},
   "outputs": [
    {
     "data": {
      "text/latex": [
       "$\\displaystyle \\frac{a^{2}}{3} + a b - 2 a + b^{2} - 2 e b + 2 b - \\frac{1}{2} + \\frac{e^{2}}{2}$"
      ],
      "text/plain": [
       " 2                                       2\n",
       "a                 2                 1   ℯ \n",
       "── + a⋅b - 2⋅a + b  - 2⋅ℯ⋅b + 2⋅b - ─ + ──\n",
       "3                                   2   2 "
      ]
     },
     "execution_count": 34,
     "metadata": {},
     "output_type": "execute_result"
    }
   ],
   "source": [
    "h=integrate (h,(x,0,1))\n",
    "h"
   ]
  },
  {
   "cell_type": "code",
   "execution_count": 35,
   "metadata": {},
   "outputs": [
    {
     "data": {
      "text/latex": [
       "$\\displaystyle \\sqrt{\\frac{a^{2}}{3} + a b - 2 a + b^{2} - 2 e b + 2 b - \\frac{1}{2} + \\frac{e^{2}}{2}}$"
      ],
      "text/plain": [
       "     ____________________________________________\n",
       "    ╱  2                                       2 \n",
       "   ╱  a                 2                 1   ℯ  \n",
       "  ╱   ── + a⋅b - 2⋅a + b  - 2⋅ℯ⋅b + 2⋅b - ─ + ── \n",
       "╲╱    3                                   2   2  "
      ]
     },
     "execution_count": 35,
     "metadata": {},
     "output_type": "execute_result"
    }
   ],
   "source": [
    "h=sqrt(h)\n",
    "h"
   ]
  },
  {
   "cell_type": "code",
   "execution_count": 46,
   "metadata": {
    "scrolled": false
   },
   "outputs": [
    {
     "data": {
      "text/latex": [
       "$\\displaystyle \\left[\\begin{matrix}\\frac{\\frac{a}{3} + \\frac{b}{2} - 1}{\\sqrt{\\frac{a^{2}}{3} + a b - 2 a + b^{2} - 2 e b + 2 b - \\frac{1}{2} + \\frac{e^{2}}{2}}}\\\\\\frac{\\frac{a}{2} + b - e + 1}{\\sqrt{\\frac{a^{2}}{3} + a b - 2 a + b^{2} - 2 e b + 2 b - \\frac{1}{2} + \\frac{e^{2}}{2}}}\\end{matrix}\\right]$"
      ],
      "text/plain": [
       "⎡                    a   b                        ⎤\n",
       "⎢                    ─ + ─ - 1                    ⎥\n",
       "⎢                    3   2                        ⎥\n",
       "⎢─────────────────────────────────────────────────⎥\n",
       "⎢     ____________________________________________⎥\n",
       "⎢    ╱  2                                       2 ⎥\n",
       "⎢   ╱  a                 2                 1   ℯ  ⎥\n",
       "⎢  ╱   ── + a⋅b - 2⋅a + b  - 2⋅ℯ⋅b + 2⋅b - ─ + ── ⎥\n",
       "⎢╲╱    3                                   2   2  ⎥\n",
       "⎢                                                 ⎥\n",
       "⎢                  a                              ⎥\n",
       "⎢                  ─ + b - ℯ + 1                  ⎥\n",
       "⎢                  2                              ⎥\n",
       "⎢─────────────────────────────────────────────────⎥\n",
       "⎢     ____________________________________________⎥\n",
       "⎢    ╱  2                                       2 ⎥\n",
       "⎢   ╱  a                 2                 1   ℯ  ⎥\n",
       "⎢  ╱   ── + a⋅b - 2⋅a + b  - 2⋅ℯ⋅b + 2⋅b - ─ + ── ⎥\n",
       "⎣╲╱    3                                   2   2  ⎦"
      ]
     },
     "execution_count": 46,
     "metadata": {},
     "output_type": "execute_result"
    }
   ],
   "source": [
    "grad=Matrix([diff(h,a),diff(h,b)])\n",
    "grad"
   ]
  },
  {
   "cell_type": "code",
   "execution_count": 73,
   "metadata": {},
   "outputs": [
    {
     "data": {
      "text/latex": [
       "$\\displaystyle \\left\\{ a : 18 - 6 e, \\  b : -10 + 4 e\\right\\}$"
      ],
      "text/plain": [
       "{a: 18 - 6⋅ℯ, b: -10 + 4⋅ℯ}"
      ]
     },
     "execution_count": 73,
     "metadata": {},
     "output_type": "execute_result"
    }
   ],
   "source": [
    "solution = solve(grad)\n",
    "solution"
   ]
  },
  {
   "cell_type": "code",
   "execution_count": 48,
   "metadata": {
    "scrolled": false
   },
   "outputs": [
    {
     "data": {
      "text/latex": [
       "$\\displaystyle \\left[\\begin{matrix}\\frac{\\left(- \\frac{a}{3} - \\frac{b}{2} + 1\\right) \\left(\\frac{a}{3} + \\frac{b}{2} - 1\\right)}{\\left(\\frac{a^{2}}{3} + a b - 2 a + b^{2} - 2 e b + 2 b - \\frac{1}{2} + \\frac{e^{2}}{2}\\right)^{\\frac{3}{2}}} + \\frac{1}{3 \\sqrt{\\frac{a^{2}}{3} + a b - 2 a + b^{2} - 2 e b + 2 b - \\frac{1}{2} + \\frac{e^{2}}{2}}} & \\frac{\\left(\\frac{a}{3} + \\frac{b}{2} - 1\\right) \\left(- \\frac{a}{2} - b - 1 + e\\right)}{\\left(\\frac{a^{2}}{3} + a b - 2 a + b^{2} - 2 e b + 2 b - \\frac{1}{2} + \\frac{e^{2}}{2}\\right)^{\\frac{3}{2}}} + \\frac{1}{2 \\sqrt{\\frac{a^{2}}{3} + a b - 2 a + b^{2} - 2 e b + 2 b - \\frac{1}{2} + \\frac{e^{2}}{2}}}\\\\\\frac{\\left(- \\frac{a}{3} - \\frac{b}{2} + 1\\right) \\left(\\frac{a}{2} + b - e + 1\\right)}{\\left(\\frac{a^{2}}{3} + a b - 2 a + b^{2} - 2 e b + 2 b - \\frac{1}{2} + \\frac{e^{2}}{2}\\right)^{\\frac{3}{2}}} + \\frac{1}{2 \\sqrt{\\frac{a^{2}}{3} + a b - 2 a + b^{2} - 2 e b + 2 b - \\frac{1}{2} + \\frac{e^{2}}{2}}} & \\frac{\\left(- \\frac{a}{2} - b - 1 + e\\right) \\left(\\frac{a}{2} + b - e + 1\\right)}{\\left(\\frac{a^{2}}{3} + a b - 2 a + b^{2} - 2 e b + 2 b - \\frac{1}{2} + \\frac{e^{2}}{2}\\right)^{\\frac{3}{2}}} + \\frac{1}{\\sqrt{\\frac{a^{2}}{3} + a b - 2 a + b^{2} - 2 e b + 2 b - \\frac{1}{2} + \\frac{e^{2}}{2}}}\\end{matrix}\\right]$"
      ],
      "text/plain": [
       "⎡           ⎛  a   b    ⎞ ⎛a   b    ⎞                                         \n",
       "⎢           ⎜- ─ - ─ + 1⎟⋅⎜─ + ─ - 1⎟                                         \n",
       "⎢           ⎝  3   2    ⎠ ⎝3   2    ⎠                                       1 \n",
       "⎢─────────────────────────────────────────────── + ───────────────────────────\n",
       "⎢                                            3/2          ____________________\n",
       "⎢⎛ 2                                       2⎞            ╱  2                 \n",
       "⎢⎜a                 2                 1   ℯ ⎟           ╱  a                 2\n",
       "⎢⎜── + a⋅b - 2⋅a + b  - 2⋅ℯ⋅b + 2⋅b - ─ + ──⎟      3⋅  ╱   ── + a⋅b - 2⋅a + b \n",
       "⎢⎝3                                   2   2 ⎠        ╲╱    3                  \n",
       "⎢                                                                             \n",
       "⎢         ⎛  a   b    ⎞ ⎛a            ⎞                                       \n",
       "⎢         ⎜- ─ - ─ + 1⎟⋅⎜─ + b - ℯ + 1⎟                                       \n",
       "⎢         ⎝  3   2    ⎠ ⎝2            ⎠                                     1 \n",
       "⎢─────────────────────────────────────────────── + ───────────────────────────\n",
       "⎢                                            3/2          ____________________\n",
       "⎢⎛ 2                                       2⎞            ╱  2                 \n",
       "⎢⎜a                 2                 1   ℯ ⎟           ╱  a                 2\n",
       "⎢⎜── + a⋅b - 2⋅a + b  - 2⋅ℯ⋅b + 2⋅b - ─ + ──⎟      2⋅  ╱   ── + a⋅b - 2⋅a + b \n",
       "⎣⎝3                                   2   2 ⎠        ╲╱    3                  \n",
       "\n",
       "                                   ⎛a   b    ⎞ ⎛  a            ⎞              \n",
       "                                   ⎜─ + ─ - 1⎟⋅⎜- ─ - b - 1 + ℯ⎟              \n",
       "                                   ⎝3   2    ⎠ ⎝  2            ⎠              \n",
       "────────────────────────  ─────────────────────────────────────────────── + ──\n",
       "________________________                                              3/2     \n",
       "                      2   ⎛ 2                                       2⎞        \n",
       "                 1   ℯ    ⎜a                 2                 1   ℯ ⎟        \n",
       " - 2⋅ℯ⋅b + 2⋅b - ─ + ──   ⎜── + a⋅b - 2⋅a + b  - 2⋅ℯ⋅b + 2⋅b - ─ + ──⎟      2⋅\n",
       "                 2   2    ⎝3                                   2   2 ⎠        \n",
       "                                                                              \n",
       "                                  ⎛  a            ⎞ ⎛a            ⎞           \n",
       "                                  ⎜- ─ - b - 1 + ℯ⎟⋅⎜─ + b - ℯ + 1⎟           \n",
       "                                  ⎝  2            ⎠ ⎝2            ⎠           \n",
       "────────────────────────   ─────────────────────────────────────────────── + ─\n",
       "________________________                                               3/2    \n",
       "                      2    ⎛ 2                                       2⎞       \n",
       "                 1   ℯ     ⎜a                 2                 1   ℯ ⎟       \n",
       " - 2⋅ℯ⋅b + 2⋅b - ─ + ──    ⎜── + a⋅b - 2⋅a + b  - 2⋅ℯ⋅b + 2⋅b - ─ + ──⎟       \n",
       "                 2   2     ⎝3                                   2   2 ⎠      ╲\n",
       "\n",
       "                                                 ⎤\n",
       "                                                 ⎥\n",
       "                       1                         ⎥\n",
       "─────────────────────────────────────────────────⎥\n",
       "     ____________________________________________⎥\n",
       "    ╱  2                                       2 ⎥\n",
       "   ╱  a                 2                 1   ℯ  ⎥\n",
       "  ╱   ── + a⋅b - 2⋅a + b  - 2⋅ℯ⋅b + 2⋅b - ─ + ── ⎥\n",
       "╲╱    3                                   2   2  ⎥\n",
       "                                                 ⎥\n",
       "                                                 ⎥\n",
       "                                                 ⎥\n",
       "                       1                         ⎥\n",
       "──────────────────────────────────────────────── ⎥\n",
       "    ____________________________________________ ⎥\n",
       "   ╱  2                                       2  ⎥\n",
       "  ╱  a                 2                 1   ℯ   ⎥\n",
       " ╱   ── + a⋅b - 2⋅a + b  - 2⋅ℯ⋅b + 2⋅b - ─ + ──  ⎥\n",
       "╱    3                                   2   2   ⎦"
      ]
     },
     "execution_count": 48,
     "metadata": {},
     "output_type": "execute_result"
    }
   ],
   "source": [
    "Hessian=Matrix([[diff(diff(h,a),a),diff(diff(h,a),b)],[diff(diff(h,b),a),diff(diff(h,b),b)]])\n",
    "Hessian"
   ]
  },
  {
   "cell_type": "code",
   "execution_count": 65,
   "metadata": {
    "scrolled": false
   },
   "outputs": [
    {
     "data": {
      "text/latex": [
       "$\\displaystyle \\left[\\begin{matrix}\\frac{1}{3 \\sqrt{- \\frac{113}{2} - 2 e \\left(-10 + 4 e\\right) + \\left(-10 + 4 e\\right)^{2} + \\frac{\\left(18 - 6 e\\right)^{2}}{3} + \\left(-10 + 4 e\\right) \\left(18 - 6 e\\right) + \\frac{e^{2}}{2} + 20 e}} & \\frac{1}{2 \\sqrt{- \\frac{113}{2} - 2 e \\left(-10 + 4 e\\right) + \\left(-10 + 4 e\\right)^{2} + \\frac{\\left(18 - 6 e\\right)^{2}}{3} + \\left(-10 + 4 e\\right) \\left(18 - 6 e\\right) + \\frac{e^{2}}{2} + 20 e}}\\\\\\frac{1}{2 \\sqrt{- \\frac{113}{2} - 2 e \\left(-10 + 4 e\\right) + \\left(-10 + 4 e\\right)^{2} + \\frac{\\left(18 - 6 e\\right)^{2}}{3} + \\left(-10 + 4 e\\right) \\left(18 - 6 e\\right) + \\frac{e^{2}}{2} + 20 e}} & \\frac{1}{\\sqrt{- \\frac{113}{2} - 2 e \\left(-10 + 4 e\\right) + \\left(-10 + 4 e\\right)^{2} + \\frac{\\left(18 - 6 e\\right)^{2}}{3} + \\left(-10 + 4 e\\right) \\left(18 - 6 e\\right) + \\frac{e^{2}}{2} + 20 e}}\\end{matrix}\\right]$"
      ],
      "text/plain": [
       "⎡                                                1                            \n",
       "⎢─────────────────────────────────────────────────────────────────────────────\n",
       "⎢       ______________________________________________________________________\n",
       "⎢      ╱                                                    2                 \n",
       "⎢     ╱    113                                2   (18 - 6⋅ℯ)                  \n",
       "⎢3⋅  ╱   - ─── - 2⋅ℯ⋅(-10 + 4⋅ℯ) + (-10 + 4⋅ℯ)  + ─────────── + (-10 + 4⋅ℯ)⋅(1\n",
       "⎢  ╲╱       2                                          3                      \n",
       "⎢                                                                             \n",
       "⎢                                                1                            \n",
       "⎢─────────────────────────────────────────────────────────────────────────────\n",
       "⎢       ______________________________________________________________________\n",
       "⎢      ╱                                                    2                 \n",
       "⎢     ╱    113                                2   (18 - 6⋅ℯ)                  \n",
       "⎢2⋅  ╱   - ─── - 2⋅ℯ⋅(-10 + 4⋅ℯ) + (-10 + 4⋅ℯ)  + ─────────── + (-10 + 4⋅ℯ)⋅(1\n",
       "⎣  ╲╱       2                                          3                      \n",
       "\n",
       "                                                                       1      \n",
       "─────────────────────  ───────────────────────────────────────────────────────\n",
       "_____________________         ________________________________________________\n",
       "            2                ╱                                                \n",
       "           ℯ                ╱    113                                2   (18 - \n",
       "8 - 6⋅ℯ) + ── + 20⋅ℯ   2⋅  ╱   - ─── - 2⋅ℯ⋅(-10 + 4⋅ℯ) + (-10 + 4⋅ℯ)  + ──────\n",
       "           2             ╲╱       2                                          3\n",
       "                                                                              \n",
       "                                                                       1      \n",
       "─────────────────────   ──────────────────────────────────────────────────────\n",
       "_____________________        _________________________________________________\n",
       "            2               ╱                                                 \n",
       "           ℯ               ╱    113                                2   (18 - 6\n",
       "8 - 6⋅ℯ) + ── + 20⋅ℯ      ╱   - ─── - 2⋅ℯ⋅(-10 + 4⋅ℯ) + (-10 + 4⋅ℯ)  + ───────\n",
       "           2            ╲╱       2                                          3 \n",
       "\n",
       "                                           ⎤\n",
       "───────────────────────────────────────────⎥\n",
       "___________________________________________⎥\n",
       "    2                             2        ⎥\n",
       "6⋅ℯ)                             ℯ         ⎥\n",
       "───── + (-10 + 4⋅ℯ)⋅(18 - 6⋅ℯ) + ── + 20⋅ℯ ⎥\n",
       "                                 2         ⎥\n",
       "                                           ⎥\n",
       "                                           ⎥\n",
       "────────────────────────────────────────── ⎥\n",
       "__________________________________________ ⎥\n",
       "   2                             2         ⎥\n",
       "⋅ℯ)                             ℯ          ⎥\n",
       "──── + (-10 + 4⋅ℯ)⋅(18 - 6⋅ℯ) + ── + 20⋅ℯ  ⎥\n",
       "                                2          ⎦"
      ]
     },
     "execution_count": 65,
     "metadata": {},
     "output_type": "execute_result"
    }
   ],
   "source": [
    "Hessian_at_point=Hessian.subs(solve(grad))\n",
    "Hessian_at_point"
   ]
  },
  {
   "cell_type": "code",
   "execution_count": 69,
   "metadata": {},
   "outputs": [
    {
     "data": {
      "text/latex": [
       "$\\displaystyle \\text{True}$"
      ],
      "text/plain": [
       "True"
      ]
     },
     "execution_count": 69,
     "metadata": {},
     "output_type": "execute_result"
    }
   ],
   "source": [
    "Hessian_at_point[0] > 0"
   ]
  },
  {
   "cell_type": "code",
   "execution_count": 67,
   "metadata": {
    "scrolled": true
   },
   "outputs": [
    {
     "data": {
      "text/latex": [
       "$\\displaystyle \\text{True}$"
      ],
      "text/plain": [
       "True"
      ]
     },
     "execution_count": 67,
     "metadata": {},
     "output_type": "execute_result"
    }
   ],
   "source": [
    "det(Hessian_at_point) > 0"
   ]
  },
  {
   "cell_type": "markdown",
   "metadata": {},
   "source": [
    "По Критерию Сильвестра матрица положительно определна, а значит что на значениях"
   ]
  },
  {
   "cell_type": "code",
   "execution_count": 74,
   "metadata": {},
   "outputs": [
    {
     "data": {
      "text/latex": [
       "$\\displaystyle \\left\\{ a : 18 - 6 e, \\  b : -10 + 4 e\\right\\}$"
      ],
      "text/plain": [
       "{a: 18 - 6⋅ℯ, b: -10 + 4⋅ℯ}"
      ]
     },
     "execution_count": 74,
     "metadata": {},
     "output_type": "execute_result"
    }
   ],
   "source": [
    "solution"
   ]
  },
  {
   "cell_type": "markdown",
   "metadata": {},
   "source": [
    "$\\varepsilon$ достигает соего минимума"
   ]
  },
  {
   "cell_type": "markdown",
   "metadata": {},
   "source": [
    "### Ответ : $g(x)=(18-6e)x+(-10+4e)$"
   ]
  }
 ],
 "metadata": {
  "kernelspec": {
   "display_name": "Python 3",
   "language": "python",
   "name": "python3"
  },
  "language_info": {
   "codemirror_mode": {
    "name": "ipython",
    "version": 3
   },
   "file_extension": ".py",
   "mimetype": "text/x-python",
   "name": "python",
   "nbconvert_exporter": "python",
   "pygments_lexer": "ipython3",
   "version": "3.6.9"
  }
 },
 "nbformat": 4,
 "nbformat_minor": 4
}
