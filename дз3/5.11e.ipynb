{
 "cells": [
  {
   "cell_type": "markdown",
   "metadata": {},
   "source": [
    "# Построить наилучшую среднеквадратичную линейную аппроксимацию для функции $f(x)=e^x, x \\in [0;1]$"
   ]
  },
  {
   "cell_type": "code",
   "execution_count": 12,
   "metadata": {},
   "outputs": [],
   "source": [
    "#всегдашний зачин\n",
    "import sympy\n",
    "import math\n",
    "from sympy.matrices import Matrix\n",
    "from sympy.abc import x,y\n",
    "from sympy import *\n",
    "init_printing( use_latex='mathjax' )\n",
    "phi=symbols(\"\\p\")\n",
    "g = Function(\"g\")\n",
    "h = Function(\"h\")\n",
    "f = Function(\"f\")\n",
    "er = symbols(\"er\")\n",
    "y=symbols(\"y\")\n",
    "x=symbols(\"x\")\n",
    "a=symbols(\"a\")\n",
    "b=symbols(\"b\")"
   ]
  },
  {
   "cell_type": "markdown",
   "metadata": {},
   "source": [
    "будем минимизировать величину $\\varepsilon = \\sqrt{\\int_{a}^b[f(x)-g(x)]^2dx}$"
   ]
  },
  {
   "cell_type": "code",
   "execution_count": 13,
   "metadata": {},
   "outputs": [
    {
     "data": {
      "text/latex": [
       "$\\displaystyle e^{x}$"
      ],
      "text/plain": [
       " x\n",
       "ℯ "
      ]
     },
     "execution_count": 13,
     "metadata": {},
     "output_type": "execute_result"
    }
   ],
   "source": [
    "f=exp(x)\n",
    "f"
   ]
  },
  {
   "cell_type": "code",
   "execution_count": 14,
   "metadata": {
    "scrolled": false
   },
   "outputs": [
    {
     "data": {
      "text/latex": [
       "$\\displaystyle a x + b$"
      ],
      "text/plain": [
       "a⋅x + b"
      ]
     },
     "execution_count": 14,
     "metadata": {},
     "output_type": "execute_result"
    }
   ],
   "source": [
    "g=a*x+b\n",
    "g"
   ]
  },
  {
   "cell_type": "code",
   "execution_count": 15,
   "metadata": {},
   "outputs": [
    {
     "data": {
      "text/latex": [
       "$\\displaystyle - a x - b + e^{x}$"
      ],
      "text/plain": [
       "            x\n",
       "-a⋅x - b + ℯ "
      ]
     },
     "execution_count": 15,
     "metadata": {},
     "output_type": "execute_result"
    }
   ],
   "source": [
    "h=f-g\n",
    "h"
   ]
  },
  {
   "cell_type": "code",
   "execution_count": 16,
   "metadata": {},
   "outputs": [
    {
     "data": {
      "text/latex": [
       "$\\displaystyle \\left(- a x - b + e^{x}\\right)^{2}$"
      ],
      "text/plain": [
       "               2\n",
       "⎛            x⎞ \n",
       "⎝-a⋅x - b + ℯ ⎠ "
      ]
     },
     "execution_count": 16,
     "metadata": {},
     "output_type": "execute_result"
    }
   ],
   "source": [
    "h=h*h\n",
    "h"
   ]
  },
  {
   "cell_type": "code",
   "execution_count": 17,
   "metadata": {},
   "outputs": [
    {
     "data": {
      "text/latex": [
       "$\\displaystyle \\frac{a^{2}}{3} + a b - 2 a + b^{2} - 2 e b + 2 b - \\frac{1}{2} + \\frac{e^{2}}{2}$"
      ],
      "text/plain": [
       " 2                                       2\n",
       "a                 2                 1   ℯ \n",
       "── + a⋅b - 2⋅a + b  - 2⋅ℯ⋅b + 2⋅b - ─ + ──\n",
       "3                                   2   2 "
      ]
     },
     "execution_count": 17,
     "metadata": {},
     "output_type": "execute_result"
    }
   ],
   "source": [
    "h=integrate (h,(x,0,1))\n",
    "h"
   ]
  },
  {
   "cell_type": "code",
   "execution_count": 18,
   "metadata": {},
   "outputs": [
    {
     "data": {
      "text/latex": [
       "$\\displaystyle \\sqrt{\\frac{a^{2}}{3} + a b - 2 a + b^{2} - 2 e b + 2 b - \\frac{1}{2} + \\frac{e^{2}}{2}}$"
      ],
      "text/plain": [
       "     ____________________________________________\n",
       "    ╱  2                                       2 \n",
       "   ╱  a                 2                 1   ℯ  \n",
       "  ╱   ── + a⋅b - 2⋅a + b  - 2⋅ℯ⋅b + 2⋅b - ─ + ── \n",
       "╲╱    3                                   2   2  "
      ]
     },
     "execution_count": 18,
     "metadata": {},
     "output_type": "execute_result"
    }
   ],
   "source": [
    "h=sqrt(h)\n",
    "h"
   ]
  },
  {
   "cell_type": "code",
   "execution_count": 19,
   "metadata": {
    "scrolled": false
   },
   "outputs": [
    {
     "data": {
      "text/latex": [
       "$\\displaystyle \\left[\\begin{matrix}\\frac{\\frac{a}{3} + \\frac{b}{2} - 1}{\\sqrt{\\frac{a^{2}}{3} + a b - 2 a + b^{2} - 2 e b + 2 b - \\frac{1}{2} + \\frac{e^{2}}{2}}}\\\\\\frac{\\frac{a}{2} + b - e + 1}{\\sqrt{\\frac{a^{2}}{3} + a b - 2 a + b^{2} - 2 e b + 2 b - \\frac{1}{2} + \\frac{e^{2}}{2}}}\\end{matrix}\\right]$"
      ],
      "text/plain": [
       "⎡                    a   b                        ⎤\n",
       "⎢                    ─ + ─ - 1                    ⎥\n",
       "⎢                    3   2                        ⎥\n",
       "⎢─────────────────────────────────────────────────⎥\n",
       "⎢     ____________________________________________⎥\n",
       "⎢    ╱  2                                       2 ⎥\n",
       "⎢   ╱  a                 2                 1   ℯ  ⎥\n",
       "⎢  ╱   ── + a⋅b - 2⋅a + b  - 2⋅ℯ⋅b + 2⋅b - ─ + ── ⎥\n",
       "⎢╲╱    3                                   2   2  ⎥\n",
       "⎢                                                 ⎥\n",
       "⎢                  a                              ⎥\n",
       "⎢                  ─ + b - ℯ + 1                  ⎥\n",
       "⎢                  2                              ⎥\n",
       "⎢─────────────────────────────────────────────────⎥\n",
       "⎢     ____________________________________________⎥\n",
       "⎢    ╱  2                                       2 ⎥\n",
       "⎢   ╱  a                 2                 1   ℯ  ⎥\n",
       "⎢  ╱   ── + a⋅b - 2⋅a + b  - 2⋅ℯ⋅b + 2⋅b - ─ + ── ⎥\n",
       "⎣╲╱    3                                   2   2  ⎦"
      ]
     },
     "execution_count": 19,
     "metadata": {},
     "output_type": "execute_result"
    }
   ],
   "source": [
    "grad=Matrix([diff(h,a),diff(h,b)])\n",
    "grad"
   ]
  },
  {
   "cell_type": "code",
   "execution_count": 20,
   "metadata": {},
   "outputs": [
    {
     "data": {
      "text/latex": [
       "$\\displaystyle \\left\\{ a : 18 - 6 e, \\  b : -10 + 4 e\\right\\}$"
      ],
      "text/plain": [
       "{a: 18 - 6⋅ℯ, b: -10 + 4⋅ℯ}"
      ]
     },
     "execution_count": 20,
     "metadata": {},
     "output_type": "execute_result"
    }
   ],
   "source": [
    "solution = solve(grad)\n",
    "solution"
   ]
  },
  {
   "cell_type": "code",
   "execution_count": 21,
   "metadata": {
    "scrolled": false
   },
   "outputs": [
    {
     "data": {
      "text/latex": [
       "$\\displaystyle \\left[\\begin{matrix}\\frac{\\left(- \\frac{a}{3} - \\frac{b}{2} + 1\\right) \\left(\\frac{a}{3} + \\frac{b}{2} - 1\\right)}{\\left(\\frac{a^{2}}{3} + a b - 2 a + b^{2} - 2 e b + 2 b - \\frac{1}{2} + \\frac{e^{2}}{2}\\right)^{\\frac{3}{2}}} + \\frac{1}{3 \\sqrt{\\frac{a^{2}}{3} + a b - 2 a + b^{2} - 2 e b + 2 b - \\frac{1}{2} + \\frac{e^{2}}{2}}} & \\frac{\\left(\\frac{a}{3} + \\frac{b}{2} - 1\\right) \\left(- \\frac{a}{2} - b - 1 + e\\right)}{\\left(\\frac{a^{2}}{3} + a b - 2 a + b^{2} - 2 e b + 2 b - \\frac{1}{2} + \\frac{e^{2}}{2}\\right)^{\\frac{3}{2}}} + \\frac{1}{2 \\sqrt{\\frac{a^{2}}{3} + a b - 2 a + b^{2} - 2 e b + 2 b - \\frac{1}{2} + \\frac{e^{2}}{2}}}\\\\\\frac{\\left(- \\frac{a}{3} - \\frac{b}{2} + 1\\right) \\left(\\frac{a}{2} + b - e + 1\\right)}{\\left(\\frac{a^{2}}{3} + a b - 2 a + b^{2} - 2 e b + 2 b - \\frac{1}{2} + \\frac{e^{2}}{2}\\right)^{\\frac{3}{2}}} + \\frac{1}{2 \\sqrt{\\frac{a^{2}}{3} + a b - 2 a + b^{2} - 2 e b + 2 b - \\frac{1}{2} + \\frac{e^{2}}{2}}} & \\frac{\\left(- \\frac{a}{2} - b - 1 + e\\right) \\left(\\frac{a}{2} + b - e + 1\\right)}{\\left(\\frac{a^{2}}{3} + a b - 2 a + b^{2} - 2 e b + 2 b - \\frac{1}{2} + \\frac{e^{2}}{2}\\right)^{\\frac{3}{2}}} + \\frac{1}{\\sqrt{\\frac{a^{2}}{3} + a b - 2 a + b^{2} - 2 e b + 2 b - \\frac{1}{2} + \\frac{e^{2}}{2}}}\\end{matrix}\\right]$"
      ],
      "text/plain": [
       "⎡           ⎛  a   b    ⎞ ⎛a   b    ⎞                                         \n",
       "⎢           ⎜- ─ - ─ + 1⎟⋅⎜─ + ─ - 1⎟                                         \n",
       "⎢           ⎝  3   2    ⎠ ⎝3   2    ⎠                                       1 \n",
       "⎢─────────────────────────────────────────────── + ───────────────────────────\n",
       "⎢                                            3/2          ____________________\n",
       "⎢⎛ 2                                       2⎞            ╱  2                 \n",
       "⎢⎜a                 2                 1   ℯ ⎟           ╱  a                 2\n",
       "⎢⎜── + a⋅b - 2⋅a + b  - 2⋅ℯ⋅b + 2⋅b - ─ + ──⎟      3⋅  ╱   ── + a⋅b - 2⋅a + b \n",
       "⎢⎝3                                   2   2 ⎠        ╲╱    3                  \n",
       "⎢                                                                             \n",
       "⎢         ⎛  a   b    ⎞ ⎛a            ⎞                                       \n",
       "⎢         ⎜- ─ - ─ + 1⎟⋅⎜─ + b - ℯ + 1⎟                                       \n",
       "⎢         ⎝  3   2    ⎠ ⎝2            ⎠                                     1 \n",
       "⎢─────────────────────────────────────────────── + ───────────────────────────\n",
       "⎢                                            3/2          ____________________\n",
       "⎢⎛ 2                                       2⎞            ╱  2                 \n",
       "⎢⎜a                 2                 1   ℯ ⎟           ╱  a                 2\n",
       "⎢⎜── + a⋅b - 2⋅a + b  - 2⋅ℯ⋅b + 2⋅b - ─ + ──⎟      2⋅  ╱   ── + a⋅b - 2⋅a + b \n",
       "⎣⎝3                                   2   2 ⎠        ╲╱    3                  \n",
       "\n",
       "                                   ⎛a   b    ⎞ ⎛  a            ⎞              \n",
       "                                   ⎜─ + ─ - 1⎟⋅⎜- ─ - b - 1 + ℯ⎟              \n",
       "                                   ⎝3   2    ⎠ ⎝  2            ⎠              \n",
       "────────────────────────  ─────────────────────────────────────────────── + ──\n",
       "________________________                                              3/2     \n",
       "                      2   ⎛ 2                                       2⎞        \n",
       "                 1   ℯ    ⎜a                 2                 1   ℯ ⎟        \n",
       " - 2⋅ℯ⋅b + 2⋅b - ─ + ──   ⎜── + a⋅b - 2⋅a + b  - 2⋅ℯ⋅b + 2⋅b - ─ + ──⎟      2⋅\n",
       "                 2   2    ⎝3                                   2   2 ⎠        \n",
       "                                                                              \n",
       "                                  ⎛  a            ⎞ ⎛a            ⎞           \n",
       "                                  ⎜- ─ - b - 1 + ℯ⎟⋅⎜─ + b - ℯ + 1⎟           \n",
       "                                  ⎝  2            ⎠ ⎝2            ⎠           \n",
       "────────────────────────   ─────────────────────────────────────────────── + ─\n",
       "________________________                                               3/2    \n",
       "                      2    ⎛ 2                                       2⎞       \n",
       "                 1   ℯ     ⎜a                 2                 1   ℯ ⎟       \n",
       " - 2⋅ℯ⋅b + 2⋅b - ─ + ──    ⎜── + a⋅b - 2⋅a + b  - 2⋅ℯ⋅b + 2⋅b - ─ + ──⎟       \n",
       "                 2   2     ⎝3                                   2   2 ⎠      ╲\n",
       "\n",
       "                                                 ⎤\n",
       "                                                 ⎥\n",
       "                       1                         ⎥\n",
       "─────────────────────────────────────────────────⎥\n",
       "     ____________________________________________⎥\n",
       "    ╱  2                                       2 ⎥\n",
       "   ╱  a                 2                 1   ℯ  ⎥\n",
       "  ╱   ── + a⋅b - 2⋅a + b  - 2⋅ℯ⋅b + 2⋅b - ─ + ── ⎥\n",
       "╲╱    3                                   2   2  ⎥\n",
       "                                                 ⎥\n",
       "                                                 ⎥\n",
       "                                                 ⎥\n",
       "                       1                         ⎥\n",
       "──────────────────────────────────────────────── ⎥\n",
       "    ____________________________________________ ⎥\n",
       "   ╱  2                                       2  ⎥\n",
       "  ╱  a                 2                 1   ℯ   ⎥\n",
       " ╱   ── + a⋅b - 2⋅a + b  - 2⋅ℯ⋅b + 2⋅b - ─ + ──  ⎥\n",
       "╱    3                                   2   2   ⎦"
      ]
     },
     "execution_count": 21,
     "metadata": {},
     "output_type": "execute_result"
    }
   ],
   "source": [
    "Hessian=Matrix([[diff(diff(h,a),a),diff(diff(h,a),b)],[diff(diff(h,b),a),diff(diff(h,b),b)]])\n",
    "Hessian"
   ]
  },
  {
   "cell_type": "code",
   "execution_count": 22,
   "metadata": {
    "scrolled": false
   },
   "outputs": [
    {
     "data": {
      "text/latex": [
       "$\\displaystyle \\left[\\begin{matrix}\\frac{1}{3 \\sqrt{- \\frac{113}{2} - 2 e \\left(-10 + 4 e\\right) + \\left(-10 + 4 e\\right)^{2} + \\frac{\\left(18 - 6 e\\right)^{2}}{3} + \\left(-10 + 4 e\\right) \\left(18 - 6 e\\right) + \\frac{e^{2}}{2} + 20 e}} & \\frac{1}{2 \\sqrt{- \\frac{113}{2} - 2 e \\left(-10 + 4 e\\right) + \\left(-10 + 4 e\\right)^{2} + \\frac{\\left(18 - 6 e\\right)^{2}}{3} + \\left(-10 + 4 e\\right) \\left(18 - 6 e\\right) + \\frac{e^{2}}{2} + 20 e}}\\\\\\frac{1}{2 \\sqrt{- \\frac{113}{2} - 2 e \\left(-10 + 4 e\\right) + \\left(-10 + 4 e\\right)^{2} + \\frac{\\left(18 - 6 e\\right)^{2}}{3} + \\left(-10 + 4 e\\right) \\left(18 - 6 e\\right) + \\frac{e^{2}}{2} + 20 e}} & \\frac{1}{\\sqrt{- \\frac{113}{2} - 2 e \\left(-10 + 4 e\\right) + \\left(-10 + 4 e\\right)^{2} + \\frac{\\left(18 - 6 e\\right)^{2}}{3} + \\left(-10 + 4 e\\right) \\left(18 - 6 e\\right) + \\frac{e^{2}}{2} + 20 e}}\\end{matrix}\\right]$"
      ],
      "text/plain": [
       "⎡                                                1                            \n",
       "⎢─────────────────────────────────────────────────────────────────────────────\n",
       "⎢       ______________________________________________________________________\n",
       "⎢      ╱                                                    2                 \n",
       "⎢     ╱    113                                2   (18 - 6⋅ℯ)                  \n",
       "⎢3⋅  ╱   - ─── - 2⋅ℯ⋅(-10 + 4⋅ℯ) + (-10 + 4⋅ℯ)  + ─────────── + (-10 + 4⋅ℯ)⋅(1\n",
       "⎢  ╲╱       2                                          3                      \n",
       "⎢                                                                             \n",
       "⎢                                                1                            \n",
       "⎢─────────────────────────────────────────────────────────────────────────────\n",
       "⎢       ______________________________________________________________________\n",
       "⎢      ╱                                                    2                 \n",
       "⎢     ╱    113                                2   (18 - 6⋅ℯ)                  \n",
       "⎢2⋅  ╱   - ─── - 2⋅ℯ⋅(-10 + 4⋅ℯ) + (-10 + 4⋅ℯ)  + ─────────── + (-10 + 4⋅ℯ)⋅(1\n",
       "⎣  ╲╱       2                                          3                      \n",
       "\n",
       "                                                                       1      \n",
       "─────────────────────  ───────────────────────────────────────────────────────\n",
       "_____________________         ________________________________________________\n",
       "            2                ╱                                                \n",
       "           ℯ                ╱    113                                2   (18 - \n",
       "8 - 6⋅ℯ) + ── + 20⋅ℯ   2⋅  ╱   - ─── - 2⋅ℯ⋅(-10 + 4⋅ℯ) + (-10 + 4⋅ℯ)  + ──────\n",
       "           2             ╲╱       2                                          3\n",
       "                                                                              \n",
       "                                                                       1      \n",
       "─────────────────────   ──────────────────────────────────────────────────────\n",
       "_____________________        _________________________________________________\n",
       "            2               ╱                                                 \n",
       "           ℯ               ╱    113                                2   (18 - 6\n",
       "8 - 6⋅ℯ) + ── + 20⋅ℯ      ╱   - ─── - 2⋅ℯ⋅(-10 + 4⋅ℯ) + (-10 + 4⋅ℯ)  + ───────\n",
       "           2            ╲╱       2                                          3 \n",
       "\n",
       "                                           ⎤\n",
       "───────────────────────────────────────────⎥\n",
       "___________________________________________⎥\n",
       "    2                             2        ⎥\n",
       "6⋅ℯ)                             ℯ         ⎥\n",
       "───── + (-10 + 4⋅ℯ)⋅(18 - 6⋅ℯ) + ── + 20⋅ℯ ⎥\n",
       "                                 2         ⎥\n",
       "                                           ⎥\n",
       "                                           ⎥\n",
       "────────────────────────────────────────── ⎥\n",
       "__________________________________________ ⎥\n",
       "   2                             2         ⎥\n",
       "⋅ℯ)                             ℯ          ⎥\n",
       "──── + (-10 + 4⋅ℯ)⋅(18 - 6⋅ℯ) + ── + 20⋅ℯ  ⎥\n",
       "                                2          ⎦"
      ]
     },
     "execution_count": 22,
     "metadata": {},
     "output_type": "execute_result"
    }
   ],
   "source": [
    "Hessian_at_point=Hessian.subs(solve(grad))\n",
    "Hessian_at_point"
   ]
  },
  {
   "cell_type": "code",
   "execution_count": 23,
   "metadata": {},
   "outputs": [
    {
     "data": {
      "text/latex": [
       "$\\displaystyle \\text{True}$"
      ],
      "text/plain": [
       "True"
      ]
     },
     "execution_count": 23,
     "metadata": {},
     "output_type": "execute_result"
    }
   ],
   "source": [
    "Hessian_at_point[0] > 0"
   ]
  },
  {
   "cell_type": "code",
   "execution_count": 24,
   "metadata": {
    "scrolled": true
   },
   "outputs": [
    {
     "data": {
      "text/latex": [
       "$\\displaystyle \\text{True}$"
      ],
      "text/plain": [
       "True"
      ]
     },
     "execution_count": 24,
     "metadata": {},
     "output_type": "execute_result"
    }
   ],
   "source": [
    "det(Hessian_at_point) > 0"
   ]
  },
  {
   "cell_type": "markdown",
   "metadata": {},
   "source": [
    "По Критерию Сильвестра матрица положительно определна, а значит что на значениях"
   ]
  },
  {
   "cell_type": "code",
   "execution_count": 25,
   "metadata": {
    "scrolled": true
   },
   "outputs": [
    {
     "data": {
      "text/latex": [
       "$\\displaystyle \\left\\{ a : 18 - 6 e, \\  b : -10 + 4 e\\right\\}$"
      ],
      "text/plain": [
       "{a: 18 - 6⋅ℯ, b: -10 + 4⋅ℯ}"
      ]
     },
     "execution_count": 25,
     "metadata": {},
     "output_type": "execute_result"
    }
   ],
   "source": [
    "solution"
   ]
  },
  {
   "cell_type": "code",
   "execution_count": 31,
   "metadata": {},
   "outputs": [],
   "source": [
    "f=solution[a]*x+solution[b]"
   ]
  },
  {
   "cell_type": "markdown",
   "metadata": {},
   "source": [
    "$\\varepsilon$ достигает соего минимума"
   ]
  },
  {
   "cell_type": "markdown",
   "metadata": {},
   "source": [
    "### Ответ : $g(x)=(18-6e)x+(-10+4e)$"
   ]
  },
  {
   "cell_type": "markdown",
   "metadata": {},
   "source": [
    "### График"
   ]
  },
  {
   "cell_type": "code",
   "execution_count": 42,
   "metadata": {},
   "outputs": [],
   "source": [
    "from sympy import lambdify\n",
    "\n",
    "lam_x = lambdify(x, f, modules=['numpy'])\n",
    "\n",
    "x_vals = np.linspace(0, 1, 10)\n",
    "y_vals = lam_x(x_vals)"
   ]
  },
  {
   "cell_type": "code",
   "execution_count": 50,
   "metadata": {},
   "outputs": [
    {
     "data": {
      "text/plain": [
       "<matplotlib.legend.Legend at 0x7efe196415c0>"
      ]
     },
     "execution_count": 50,
     "metadata": {},
     "output_type": "execute_result"
    },
    {
     "data": {
      "image/png": "[encoded data removed]",
      "text/plain": [
       "<matplotlib.figure.Figure at 0x7efe196952e8>"
      ]
     },
     "metadata": {
      "needs_background": "light"
     },
     "output_type": "display_data"
    }
   ],
   "source": [
    "import numpy as np\n",
    "import matplotlib.pyplot as plt\n",
    "Xes = np.linspace(0, 1, 10)\n",
    "Ys = np.exp(Xes)\n",
    "plt.plot(Xes,Ys,c='b',label='exp')\n",
    "plt.plot(x_vals,y_vals, c='r',label='line')\n",
    "plt.grid(b=1, which='major', axis='both')\n",
    "plt.legend()"
   ]
  }
 ],
 "metadata": {
  "kernelspec": {
   "display_name": "Python 3",
   "language": "python",
   "name": "python3"
  },
  "language_info": {
   "codemirror_mode": {
    "name": "ipython",
    "version": 3
   },
   "file_extension": ".py",
   "mimetype": "text/x-python",
   "name": "python",
   "nbconvert_exporter": "python",
   "pygments_lexer": "ipython3",
   "version": "3.6.9"
  }
 },
 "nbformat": 4,
 "nbformat_minor": 4
}
