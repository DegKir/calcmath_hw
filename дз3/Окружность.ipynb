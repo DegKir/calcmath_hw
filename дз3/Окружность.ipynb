{
 "cells": [
  {
   "cell_type": "code",
   "execution_count": 34,
   "metadata": {},
   "outputs": [],
   "source": [
    "#всегдашний зачин\n",
    "import sympy\n",
    "import math\n",
    "import numpy as np\n",
    "import matplotlib.pyplot as plt\n",
    "from sympy.matrices import Matrix\n",
    "from sympy.abc import x,y\n",
    "from sympy import *\n",
    "init_printing( use_latex='mathjax' )\n",
    "phi=symbols(\"\\p\")\n",
    "g = Function(\"g\")\n",
    "h = Function(\"h\")\n",
    "f = Function(\"f\")\n",
    "er = symbols(\"er\")\n",
    "x=symbols(\"x\")\n",
    "y=symbols(\"y\")\n",
    "a=symbols(\"a\")\n",
    "b=symbols(\"b\")"
   ]
  },
  {
   "cell_type": "markdown",
   "metadata": {},
   "source": [
    "Уравнение окружности $x^2+y^2=R^2$"
   ]
  },
  {
   "cell_type": "markdown",
   "metadata": {},
   "source": [
    "Пусть нам дается n точек "
   ]
  },
  {
   "cell_type": "markdown",
   "metadata": {},
   "source": [
    "## 0.Подготовка : cоздание случайного набора точек, принадлежащих случайной окружности, небольшая возня с графиками"
   ]
  },
  {
   "cell_type": "markdown",
   "metadata": {},
   "source": [
    "Пусть существует некоторая окружность со случайным центром $c$ и радиусом $r$"
   ]
  },
  {
   "cell_type": "markdown",
   "metadata": {},
   "source": [
    "Пусть координаты центра - случайные от 0 до 100"
   ]
  },
  {
   "cell_type": "code",
   "execution_count": 24,
   "metadata": {},
   "outputs": [
    {
     "data": {
      "text/latex": [
       "$\\displaystyle \\left[\\begin{matrix}60.5337503243274\\\\23.733145021089\\end{matrix}\\right]$"
      ],
      "text/plain": [
       "⎡60.5337503243274⎤\n",
       "⎢                ⎥\n",
       "⎣23.733145021089 ⎦"
      ]
     },
     "execution_count": 24,
     "metadata": {},
     "output_type": "execute_result"
    }
   ],
   "source": [
    "c=np.random.uniform(low=0,high=100,size=2)\n",
    "center = Matrix(c)\n",
    "center"
   ]
  },
  {
   "cell_type": "markdown",
   "metadata": {},
   "source": [
    "Пусть радиус случайный от 0 до 100"
   ]
  },
  {
   "cell_type": "code",
   "execution_count": 25,
   "metadata": {},
   "outputs": [
    {
     "data": {
      "text/latex": [
       "$\\displaystyle 70.2271430352767$"
      ],
      "text/plain": [
       "70.22714303527674"
      ]
     },
     "execution_count": 25,
     "metadata": {},
     "output_type": "execute_result"
    }
   ],
   "source": [
    "r=np.random.uniform(low=0,high=100)\n",
    "r"
   ]
  },
  {
   "cell_type": "markdown",
   "metadata": {},
   "source": [
    "Таким образом получаем окружность $(x-x_c)^2+(y-y_c)^2=r^2$"
   ]
  },
  {
   "cell_type": "markdown",
   "metadata": {},
   "source": [
    "Нарисуем ее :"
   ]
  },
  {
   "cell_type": "code",
   "execution_count": 26,
   "metadata": {
    "scrolled": true
   },
   "outputs": [
    {
     "data": {
      "text/latex": [
       "$\\displaystyle \\left( -56.4939980141878, \\  103.960288056366\\right)$"
      ],
      "text/plain": [
       "(-56.49399801418775, 103.96028805636573)"
      ]
     },
     "execution_count": 26,
     "metadata": {},
     "output_type": "execute_result"
    },
    {
     "data": {
      "image/png": "[encoded data removed]",
      "text/plain": [
       "<matplotlib.figure.Figure at 0x7f683026cc18>"
      ]
     },
     "metadata": {
      "needs_background": "light"
     },
     "output_type": "display_data"
    }
   ],
   "source": [
    "ax=plt.gca()\n",
    "circle1 = plt.Circle((c[0], c[1]), r, color='r', fill=false)\n",
    "ax.add_patch(circle1)\n",
    "plt.grid()\n",
    "plt.xlim(c[0]-10-r,c[0]+r+10)\n",
    "plt.ylim(c[1]-10-r,c[1]+r+10)"
   ]
  },
  {
   "cell_type": "markdown",
   "metadata": {},
   "source": [
    "Теперь выберем n точек на окружности случайным выбором угла"
   ]
  },
  {
   "cell_type": "code",
   "execution_count": 27,
   "metadata": {},
   "outputs": [],
   "source": [
    "n=10"
   ]
  },
  {
   "cell_type": "code",
   "execution_count": 28,
   "metadata": {},
   "outputs": [
    {
     "data": {
      "text/plain": [
       "array([0.2743951 , 0.10693047, 4.5804119 , 2.782778  , 5.27931733,\n",
       "       4.30238845, 3.51437149, 0.76727543, 2.14686602, 5.58215574])"
      ]
     },
     "execution_count": 28,
     "metadata": {},
     "output_type": "execute_result"
    }
   ],
   "source": [
    "angels_of_random_points=np.random.uniform(0,2*np.pi,size=n)\n",
    "angels_of_random_points"
   ]
  },
  {
   "cell_type": "code",
   "execution_count": 29,
   "metadata": {},
   "outputs": [],
   "source": [
    "X=[]\n",
    "Y=[]\n",
    "for i in range(0,10):\n",
    "    X.append(r*np.cos(angels_of_random_points[i])+c[0])\n",
    "    Y.append(r*np.sin(angels_of_random_points[i])+c[1])"
   ]
  },
  {
   "cell_type": "code",
   "execution_count": 30,
   "metadata": {
    "scrolled": true
   },
   "outputs": [
    {
     "data": {
      "text/latex": [
       "$\\displaystyle \\left( \\left[ 128.133645466374, \\  130.359782793712, \\  51.2922594607606, \\  -5.22088814099796, \\  98.2487799718143, \\  32.5405216008519, \\  -4.87011361170334, \\  111.083576088997, \\  22.2787674470288, \\  114.199824116808\\right], \\  \\left[ 42.7622226572097, \\  31.2282639982394, \\  -45.8832787991262, \\  48.3944332922148, \\  -35.5072816956929, \\  -40.6736152182865, \\  -1.84391894517558, \\  72.4831884473131, \\  82.6263356627481, \\  -21.563699710054\\right]\\right)$"
      ],
      "text/plain": [
       "([128.13364546637416, 130.35978279371224, 51.29225946076062, -5.22088814099796\n",
       "4, 98.24877997181434, 32.54052160085192, -4.870113611703339, 111.0835760889973\n",
       "2, 22.278767447028848, 114.19982411680778], [42.762222657209655, 31.2282639982\n",
       "39385, -45.88327879912623, 48.39443329221476, -35.50728169569288, -40.67361521\n",
       "828653, -1.8439189451755844, 72.4831884473131, 82.62633566274815, -21.56369971\n",
       "0053996])"
      ]
     },
     "execution_count": 30,
     "metadata": {},
     "output_type": "execute_result"
    }
   ],
   "source": [
    "X,Y"
   ]
  },
  {
   "cell_type": "markdown",
   "metadata": {},
   "source": [
    "Отобразим теперь все это хозяйство на графике"
   ]
  },
  {
   "cell_type": "code",
   "execution_count": 31,
   "metadata": {
    "scrolled": false
   },
   "outputs": [
    {
     "data": {
      "text/plain": [
       "<matplotlib.collections.PathCollection at 0x7f683035d470>"
      ]
     },
     "execution_count": 31,
     "metadata": {},
     "output_type": "execute_result"
    },
    {
     "data": {
      "image/png": "[encoded data removed]",
      "text/plain": [
       "<matplotlib.figure.Figure at 0x7f6830369be0>"
      ]
     },
     "metadata": {
      "needs_background": "light"
     },
     "output_type": "display_data"
    }
   ],
   "source": [
    "ax=plt.gca()\n",
    "circle1 = plt.Circle((c[0], c[1]), r, color='r', fill=false)\n",
    "ax.add_patch(circle1)\n",
    "plt.grid()\n",
    "plt.xlim(c[0]-10-r,c[0]+r+10)\n",
    "plt.ylim(c[1]-10-r,c[1]+r+10)\n",
    "plt.scatter(X,Y,c='b')"
   ]
  },
  {
   "cell_type": "markdown",
   "metadata": {},
   "source": [
    "Пошевелим немного точки - каждая получит погрешность в пределах er по $x$ и $y$"
   ]
  },
  {
   "cell_type": "code",
   "execution_count": 37,
   "metadata": {},
   "outputs": [],
   "source": [
    "er=10"
   ]
  },
  {
   "cell_type": "code",
   "execution_count": 38,
   "metadata": {},
   "outputs": [],
   "source": [
    "X=np.array(X)\n",
    "Y=np.array(Y)"
   ]
  },
  {
   "cell_type": "code",
   "execution_count": 39,
   "metadata": {},
   "outputs": [],
   "source": [
    "X_er=np.random.uniform(0,er,size=n)\n",
    "Y_er=np.random.uniform(0,er,size=n)\n",
    "X=X+X_er\n",
    "Y=Y+Y_er"
   ]
  },
  {
   "cell_type": "code",
   "execution_count": 40,
   "metadata": {
    "scrolled": true
   },
   "outputs": [
    {
     "data": {
      "text/plain": [
       "<matplotlib.collections.PathCollection at 0x7f683028f400>"
      ]
     },
     "execution_count": 40,
     "metadata": {},
     "output_type": "execute_result"
    },
    {
     "data": {
      "image/png": "[encoded data removed]",
      "text/plain": [
       "<matplotlib.figure.Figure at 0x7f68302a99e8>"
      ]
     },
     "metadata": {
      "needs_background": "light"
     },
     "output_type": "display_data"
    }
   ],
   "source": [
    "ax=plt.gca()\n",
    "circle1 = plt.Circle((c[0], c[1]), r, color='r', fill=false)\n",
    "ax.add_patch(circle1)\n",
    "plt.grid()\n",
    "plt.xlim(c[0]-10-r,c[0]+r+10)\n",
    "plt.ylim(c[1]-10-r,c[1]+r+10)\n",
    "plt.scatter(X,Y,c='b')"
   ]
  },
  {
   "cell_type": "markdown",
   "metadata": {},
   "source": [
    "## 1.Построение окружности по точкам при помощи МНК"
   ]
  },
  {
   "cell_type": "markdown",
   "metadata": {},
   "source": [
    "### 1.1 Поиск центра"
   ]
  },
  {
   "cell_type": "markdown",
   "metadata": {},
   "source": [
    "Нам дан набор абсцисс и ординта случайных точек :"
   ]
  },
  {
   "cell_type": "code",
   "execution_count": 41,
   "metadata": {},
   "outputs": [
    {
     "data": {
      "text/plain": [
       "array([135.23927809, 131.23881037,  59.82641732,  -3.89758959,\n",
       "        99.23232691,  33.44399435,   2.13163768, 111.76771778,\n",
       "        30.02938478, 114.28258957])"
      ]
     },
     "execution_count": 41,
     "metadata": {},
     "output_type": "execute_result"
    }
   ],
   "source": [
    "X=np.array(X)\n",
    "X"
   ]
  },
  {
   "cell_type": "code",
   "execution_count": 42,
   "metadata": {},
   "outputs": [
    {
     "data": {
      "text/plain": [
       "array([ 49.12076644,  31.48953301, -45.87676686,  58.02817297,\n",
       "       -29.93735032, -31.12086218,   7.75139564,  81.71823413,\n",
       "        83.9608241 , -19.31091667])"
      ]
     },
     "execution_count": 42,
     "metadata": {},
     "output_type": "execute_result"
    }
   ],
   "source": [
    "Y=np.array(Y)\n",
    "Y"
   ]
  },
  {
   "cell_type": "code",
   "execution_count": 43,
   "metadata": {
    "scrolled": true
   },
   "outputs": [
    {
     "data": {
      "text/plain": [
       "<matplotlib.collections.PathCollection at 0x7f68302f8cc0>"
      ]
     },
     "execution_count": 43,
     "metadata": {},
     "output_type": "execute_result"
    },
    {
     "data": {
      "image/png": "[encoded data removed]",
      "text/plain": [
       "<matplotlib.figure.Figure at 0x7f68300634a8>"
      ]
     },
     "metadata": {
      "needs_background": "light"
     },
     "output_type": "display_data"
    }
   ],
   "source": [
    "ax=plt.gca()\n",
    "plt.grid()\n",
    "plt.xlim(-200,200)\n",
    "plt.ylim(-200,200)\n",
    "plt.scatter(X,Y,c='b')"
   ]
  },
  {
   "cell_type": "markdown",
   "metadata": {},
   "source": [
    "Постараемся найти окружность, описывающую нашу точку"
   ]
  },
  {
   "cell_type": "markdown",
   "metadata": {},
   "source": [
    "Центр будем искать минимизируя среднеквадратичное расстояние"
   ]
  },
  {
   "cell_type": "markdown",
   "metadata": {},
   "source": [
    "Нам нужно найти вектор $X$, минимизирующий следующее выражение :"
   ]
  },
  {
   "cell_type": "markdown",
   "metadata": {},
   "source": [
    "$\\sqrt{(x-x_1)^2+(x-x_2)^2+..+(x-x_n)^2}$, где $x_i -i$-я точка нашего набора"
   ]
  },
  {
   "cell_type": "markdown",
   "metadata": {},
   "source": [
    "Для этого достаточно минимизировать подкоренное выражение :"
   ]
  },
  {
   "cell_type": "markdown",
   "metadata": {},
   "source": [
    "$(x-x_1)^2+(x-x_2)^2+..+(x-x_n)^2$"
   ]
  },
  {
   "cell_type": "markdown",
   "metadata": {},
   "source": [
    "данное выражение минимизируется покоординатным средневзвешенным :"
   ]
  },
  {
   "cell_type": "markdown",
   "metadata": {},
   "source": [
    "$2(z-z_1)+2(z-z_2)+...2(z-z_n)=0\\\\2(y-y_1)+2(y-y_2)+...2(y-y_n)=0$"
   ]
  },
  {
   "cell_type": "markdown",
   "metadata": {},
   "source": [
    "$nz=z_1+...+z_n$"
   ]
  },
  {
   "cell_type": "markdown",
   "metadata": {},
   "source": [
    "Значит решение это средневзвешенное всех координат :"
   ]
  },
  {
   "cell_type": "code",
   "execution_count": 44,
   "metadata": {},
   "outputs": [
    {
     "data": {
      "text/latex": [
       "$\\displaystyle 71.3294567265783$"
      ],
      "text/plain": [
       "71.3294567265783"
      ]
     },
     "execution_count": 44,
     "metadata": {},
     "output_type": "execute_result"
    }
   ],
   "source": [
    "X.mean()"
   ]
  },
  {
   "cell_type": "code",
   "execution_count": 45,
   "metadata": {},
   "outputs": [
    {
     "data": {
      "text/latex": [
       "$\\displaystyle 18.5823030276866$"
      ],
      "text/plain": [
       "18.582303027686585"
      ]
     },
     "execution_count": 45,
     "metadata": {},
     "output_type": "execute_result"
    }
   ],
   "source": [
    "Y.mean()"
   ]
  },
  {
   "cell_type": "markdown",
   "metadata": {},
   "source": [
    "Исходный центр :"
   ]
  },
  {
   "cell_type": "code",
   "execution_count": 46,
   "metadata": {
    "scrolled": true
   },
   "outputs": [
    {
     "data": {
      "text/latex": [
       "$\\displaystyle \\left[\\begin{matrix}60.5337503243274\\\\23.733145021089\\end{matrix}\\right]$"
      ],
      "text/plain": [
       "⎡60.5337503243274⎤\n",
       "⎢                ⎥\n",
       "⎣23.733145021089 ⎦"
      ]
     },
     "execution_count": 46,
     "metadata": {},
     "output_type": "execute_result"
    }
   ],
   "source": [
    "center"
   ]
  },
  {
   "cell_type": "markdown",
   "metadata": {},
   "source": [
    "### 1.2 Поиск радиуса"
   ]
  },
  {
   "cell_type": "markdown",
   "metadata": {},
   "source": [
    "Радиус найдем как средневзвешенное расстояний точек от центра"
   ]
  },
  {
   "cell_type": "markdown",
   "metadata": {},
   "source": [
    "Рассмотрим набор чисел $d_i$, где $d_i$ - расстояние от $i$-й точки до нашего центра"
   ]
  },
  {
   "cell_type": "markdown",
   "metadata": {},
   "source": [
    "Наши точки :"
   ]
  },
  {
   "cell_type": "code",
   "execution_count": 47,
   "metadata": {},
   "outputs": [
    {
     "data": {
      "text/plain": [
       "array([135.23927809, 131.23881037,  59.82641732,  -3.89758959,\n",
       "        99.23232691,  33.44399435,   2.13163768, 111.76771778,\n",
       "        30.02938478, 114.28258957])"
      ]
     },
     "execution_count": 47,
     "metadata": {},
     "output_type": "execute_result"
    }
   ],
   "source": [
    "X"
   ]
  },
  {
   "cell_type": "code",
   "execution_count": 49,
   "metadata": {},
   "outputs": [],
   "source": [
    "l=[]\n",
    "for i in range(0,n):\n",
    "    l.append(((X[i]-center[0])**2+(Y[i]-center[1])**2)**(1/2))"
   ]
  },
  {
   "cell_type": "code",
   "execution_count": 50,
   "metadata": {},
   "outputs": [
    {
     "data": {
      "text/latex": [
       "$\\displaystyle \\left[ 78.9015031587294, \\  71.1292279631252, \\  69.6135055243523, \\  72.9900438789535, \\  66.1672267801186, \\  61.1785663800624, \\  60.5493441268156, \\  77.3769344254995, \\  67.5121444282548, \\  68.8602132419303\\right]$"
      ],
      "text/plain": [
       "[78.9015031587294, 71.1292279631252, 69.6135055243523, 72.9900438789535, 66.16\n",
       "72267801186, 61.1785663800624, 60.5493441268156, 77.3769344254995, 67.51214442\n",
       "82548, 68.8602132419303]"
      ]
     },
     "execution_count": 50,
     "metadata": {},
     "output_type": "execute_result"
    }
   ],
   "source": [
    "l"
   ]
  },
  {
   "cell_type": "markdown",
   "metadata": {},
   "source": [
    "Теперь найдем среднее квадратичное :"
   ]
  },
  {
   "cell_type": "markdown",
   "metadata": {},
   "source": [
    "$s=\\sqrt{\\frac{l_1^2+l_2^2+...+l_n^2}{n}}$"
   ]
  },
  {
   "cell_type": "code",
   "execution_count": 55,
   "metadata": {},
   "outputs": [],
   "source": [
    "summ = 0\n",
    "for i in range(0,n):\n",
    "    summ+=l[i]**2\n",
    "s=(summ/n)**(1/2)"
   ]
  },
  {
   "cell_type": "markdown",
   "metadata": {},
   "source": [
    "Наш итог это число"
   ]
  },
  {
   "cell_type": "code",
   "execution_count": 56,
   "metadata": {},
   "outputs": [
    {
     "data": {
      "text/latex": [
       "$\\displaystyle 69.6651645232898$"
      ],
      "text/plain": [
       "69.6651645232898"
      ]
     },
     "execution_count": 56,
     "metadata": {},
     "output_type": "execute_result"
    }
   ],
   "source": [
    "s"
   ]
  },
  {
   "cell_type": "markdown",
   "metadata": {},
   "source": [
    "Исходный радиус был"
   ]
  },
  {
   "cell_type": "code",
   "execution_count": 57,
   "metadata": {},
   "outputs": [
    {
     "data": {
      "text/latex": [
       "$\\displaystyle 70.2271430352767$"
      ],
      "text/plain": [
       "70.22714303527674"
      ]
     },
     "execution_count": 57,
     "metadata": {},
     "output_type": "execute_result"
    }
   ],
   "source": [
    "r"
   ]
  },
  {
   "cell_type": "markdown",
   "metadata": {},
   "source": [
    "Рассмотрим получившуюся окружность"
   ]
  },
  {
   "cell_type": "code",
   "execution_count": 58,
   "metadata": {
    "scrolled": false
   },
   "outputs": [
    {
     "data": {
      "text/plain": [
       "<function matplotlib.pyplot.show(*args, **kw)>"
      ]
     },
     "execution_count": 58,
     "metadata": {},
     "output_type": "execute_result"
    },
    {
     "data": {
      "image/png": "[encoded data removed]",
      "text/plain": [
       "<matplotlib.figure.Figure at 0x7f682fee4ef0>"
      ]
     },
     "metadata": {
      "needs_background": "light"
     },
     "output_type": "display_data"
    }
   ],
   "source": [
    "ax=plt.gca()\n",
    "circle1 = plt.Circle((c[0], c[1]), r, color='r', fill=false)\n",
    "circle2 = plt.Circle((center[0],center[1]),s, color ='g', fill=false)\n",
    "ax.add_patch(circle1)\n",
    "ax.add_patch(circle2)\n",
    "plt.grid()\n",
    "plt.xlim(c[0]-10-r,c[0]+r+10)\n",
    "plt.ylim(c[1]-10-r,c[1]+r+10)\n",
    "plt.scatter(X,Y,c='b')\n",
    "plt.show"
   ]
  },
  {
   "cell_type": "markdown",
   "metadata": {},
   "source": [
    "Вариант оптимизации из головы : \n",
    "Когда мало точек, может сложиться ситуация когда в одной четверти/полуплоскости собирается подавляющее число точек. Тогда нужно более умно выбирать центр : если мы видим что точки скапливаются в верхней полуплоскости, то можно попытаться приблизить их верхней крышкой окружности.\n",
    "\n",
    "Это можно сделать следующий образом : сделать перенос координат и поворот плоскости так, чтобы все точки которые находятся в одной полуплоскости встали в положительную полуплоскость. Затем их приблизить функцией $y=\\sqrt{x^2-r^2}$"
   ]
  },
  {
   "cell_type": "code",
   "execution_count": null,
   "metadata": {},
   "outputs": [],
   "source": []
  }
 ],
 "metadata": {
  "kernelspec": {
   "display_name": "Python 3",
   "language": "python",
   "name": "python3"
  },
  "language_info": {
   "codemirror_mode": {
    "name": "ipython",
    "version": 3
   },
   "file_extension": ".py",
   "mimetype": "text/x-python",
   "name": "python",
   "nbconvert_exporter": "python",
   "pygments_lexer": "ipython3",
   "version": "3.6.9"
  }
 },
 "nbformat": 4,
 "nbformat_minor": 4
}
