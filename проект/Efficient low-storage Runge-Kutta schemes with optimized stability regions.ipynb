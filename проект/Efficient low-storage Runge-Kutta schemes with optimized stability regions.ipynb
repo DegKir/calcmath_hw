{
 "cells": [
  {
   "cell_type": "markdown",
   "metadata": {},
   "source": [
    "# Low-storage Runke-Kutta schemes"
   ]
  },
  {
   "cell_type": "markdown",
   "metadata": {},
   "source": [
    "По мотив статьи https://www.sciencedirect.com/science/article/pii/S0021999111005213 [1]"
   ]
  },
  {
   "cell_type": "markdown",
   "metadata": {},
   "source": [
    "# 1. Общие сведения"
   ]
  },
  {
   "cell_type": "markdown",
   "metadata": {},
   "source": [
    "В проекте рассматривается реализация low-storage методов Рунге-Кутты с 12ю,13ю и 14ю стадиями соответственно, предлолженными в работе [1] (надо проставить нормальное цитирование)"
   ]
  },
  {
   "cell_type": "markdown",
   "metadata": {},
   "source": [
    "Один шаг LSRK можно записать в виде"
   ]
  },
  {
   "cell_type": "markdown",
   "metadata": {},
   "source": [
    "$K_1=y_n \\\\ \\text{for i = 1...s}\\\\\\;\\;\\;K_2=A_iK_2+\\Delta t F(t_n+c_i\\Delta t,K_1)\\\\\\;\\;\\;K_1=K_1+B_iK_2 \\\\ y_{n+1}=K_1$"
   ]
  },
  {
   "cell_type": "markdown",
   "metadata": {},
   "source": [
    "Коэффициенты для методов, представленных в статье имеют вид :"
   ]
  },
  {
   "cell_type": "markdown",
   "metadata": {},
   "source": [
    "## 1.1 Inviscid "
   ]
  },
  {
   "cell_type": "markdown",
   "metadata": {},
   "source": [
    "![inviscid](inviscid.png)"
   ]
  },
  {
   "cell_type": "markdown",
   "metadata": {},
   "source": [
    "## 1.2 Elliptical"
   ]
  },
  {
   "cell_type": "markdown",
   "metadata": {},
   "source": [
    "![elliptical](elliptical.png)"
   ]
  },
  {
   "cell_type": "markdown",
   "metadata": {},
   "source": [
    "## 1.3 Circular"
   ]
  },
  {
   "cell_type": "markdown",
   "metadata": {},
   "source": [
    "![circular](circular.png)"
   ]
  },
  {
   "cell_type": "markdown",
   "metadata": {},
   "source": [
    "## 1.4 Реализация в виде класса"
   ]
  },
  {
   "cell_type": "code",
   "execution_count": 44,
   "metadata": {},
   "outputs": [],
   "source": [
    "class Runge_Kutta_LSRK:\n",
    "    def __init__(self,F,y0,start,end,LSRK_TYPE):\n",
    "        self.F=F\n",
    "        self.start=start\n",
    "        self.end=end\n",
    "        self.y=[y0]\n",
    "        self.t=[start]\n",
    "        if LSRK_TYPE == \"inviscid\":\n",
    "            self.A=[0.0000000000000000,\n",
    "                -0.0923311242368072,\n",
    "                -0.9441056581158819,\n",
    "                -4.3271273247576394,\n",
    "                -2.1557771329026072,\n",
    "                -0.9770727190189062,\n",
    "                -0.7581835342571139,\n",
    "                -1.7977525470825499,\n",
    "                -2.6915667972700770,\n",
    "                -4.6466798960268143,\n",
    "                -0.1539613783825189,\n",
    "                -0.5943293901830616]\n",
    "            self.B=[0.0650008435125904,\n",
    "                0.0161459902249842,\n",
    "                0.5758627178358159,\n",
    "                0.1649758848361671,\n",
    "                0.3934619494248182,\n",
    "                0.0443509641602719,\n",
    "                0.2074504268408778,\n",
    "                0.6914247433015102,\n",
    "                0.3766646883450449,\n",
    "                0.0757190350155483,\n",
    "                0.2027862031054088,\n",
    "                0.2167029365631842]\n",
    "            self.c=[0.0000000000000000,\n",
    "                0.0650008435125904,\n",
    "                0.0796560563081853,\n",
    "                0.1620416710085376,\n",
    "                0.2248877362907778,\n",
    "                0.2952293985641261,\n",
    "                0.3318332506149405,\n",
    "                0.4094724050198658,\n",
    "                0.6356954475753369,\n",
    "                0.6806551557645497,\n",
    "                0.7143773712418350,\n",
    "                0.9032588871651854]\n",
    "            self.gamma=[1,\n",
    "                    1/2,\n",
    "                    1/6,\n",
    "                    1/24,\n",
    "                    7.7793114345018587*10**(-3),\n",
    "                    1.2973631162180358*10**(-3),\n",
    "                    1.4820214027731423*10**(-4),\n",
    "                    1.8551101042762935*10**(-5),\n",
    "                    1.2351886928579280*10**(-6),\n",
    "                    1.2377768810554030*10**(-7),\n",
    "                    3.7434529900414887*10**(-9),\n",
    "                    3.1278890521988389*10**(-10)]\n",
    "        elif LSRK_TYPE == \"elliptical\":\n",
    "            self.A=[0.0000000000000000,\n",
    "                    -0.6160178650170565,\n",
    "                    -0.4449487060774118,\n",
    "                    -1.0952033345276178,\n",
    "                    -1.2256030785959187,\n",
    "                    -0.2740182222332805,\n",
    "                    -0.0411952089052647,\n",
    "                    -0.1797084899153560,\n",
    "                    -1.1771530652064288,\n",
    "                    -0.4078831463120878,\n",
    "                    -0.8295636426191777,\n",
    "                    -4.7895970584252288,\n",
    "                    -0.6606671432964504]\n",
    "            self.B=[0.0650008435125904,\n",
    "                    0.0161459902249842,\n",
    "                    0.5758627178358159,\n",
    "                    0.1649758848361671,\n",
    "                    0.3934619494248182,\n",
    "                    0.0443509641602719,\n",
    "                    0.2074504268408778,\n",
    "                    0.6914247433015102,\n",
    "                    0.3766646883450449,\n",
    "                    0.0757190350155483,\n",
    "                    0.2027862031054088,\n",
    "                    0.2167029365631842]\n",
    "            self.c=[0.0000000000000000,\n",
    "                    0.0650008435125904,\n",
    "                    0.0796560563081853,\n",
    "                    0.1620416710085376,\n",
    "                    0.2248877362907778,\n",
    "                    0.2952293985641261,\n",
    "                    0.3318332506149405,\n",
    "                    0.4094724050198658,\n",
    "                    0.6356954475753369,\n",
    "                    0.6806551557645497,\n",
    "                    0.7143773712418350,\n",
    "                    0.9032588871651854]\n",
    "        elif LSRK_TYPE == \"circular\":\n",
    "            self.A=[]\n",
    "            self.B=[]\n",
    "            self.c=[]\n",
    "        \n",
    "    def compute(self,iterations):\n",
    "        step=(self.end-self.start)/iterations\n",
    "        s=len(self.A)\n",
    "        for j in range(iterations):\n",
    "            K1=self.y[-1]\n",
    "            K2=0\n",
    "            for i in range(s):\n",
    "                K2=self.A[i]*K2+step*self.F(self.t[-1]+self.c[i]*step,K1)\n",
    "                K1=K1+self.B[i]*K2\n",
    "            self.y.append(K1)\n",
    "            self.t.append(self.t[-1]+step)\n",
    "        return self.t,self.y"
   ]
  },
  {
   "cell_type": "markdown",
   "metadata": {},
   "source": [
    "# 2.Примеры решений"
   ]
  },
  {
   "cell_type": "markdown",
   "metadata": {},
   "source": [
    "## 2.1 ОДУ из второй задачи 7дз (физический смысл - ?)"
   ]
  },
  {
   "cell_type": "markdown",
   "metadata": {},
   "source": [
    "$$u'(t)=v(t) \\\\ v'(t)=-u^3(t),t\\in[0,T]\\\\u(0)=1,v(0)=0$$"
   ]
  },
  {
   "cell_type": "code",
   "execution_count": 45,
   "metadata": {},
   "outputs": [],
   "source": [
    "import numpy as np\n",
    "def f(t,x):\n",
    "    answer=np.zeros(2)\n",
    "    answer[0],answer[1]=x[1],x[0]\n",
    "    answer[1]=-answer[1]*answer[1]*answer[1]\n",
    "    return answer"
   ]
  },
  {
   "cell_type": "code",
   "execution_count": 47,
   "metadata": {
    "scrolled": true
   },
   "outputs": [
    {
     "data": {
      "image/png": "[encoded data removed]",
      "text/plain": [
       "<matplotlib.figure.Figure at 0x7fcc480a3898>"
      ]
     },
     "metadata": {
      "needs_background": "light"
     },
     "output_type": "display_data"
    }
   ],
   "source": [
    "import matplotlib.pyplot as plt\n",
    "import math\n",
    "LSRK=Runge_Kutta_LSRK(F=f,y0=np.array([1,0]),start=0,end=8,LSRK_TYPE='inviscid')\n",
    "t_values,y_values=LSRK.compute(1000)\n",
    "\n",
    "plt.plot(t_values, y_values)\n",
    "\n",
    "plt.xlabel('t')\n",
    "plt.ylabel('y')\n",
    "\n",
    "plt.figure\n",
    "plt.show()"
   ]
  },
  {
   "cell_type": "code",
   "execution_count": 51,
   "metadata": {},
   "outputs": [],
   "source": [
    "def get_delta(iterations):\n",
    "\n",
    "    LSRK=Runge_Kutta_LSRK(F=f,y0=np.array([1,0]),start=0,end=7.416298709205487,LSRK_TYPE='inviscid')\n",
    "    t_values,y_values=LSRK.compute(iterations)\n",
    "    \n",
    "    return 7.416298709205487/iterations, np.linalg.norm(y_values[-1]-y_values[0])"
   ]
  },
  {
   "cell_type": "code",
   "execution_count": 52,
   "metadata": {
    "scrolled": true
   },
   "outputs": [
    {
     "data": {
      "image/png": "[encoded data removed]",
      "text/plain": [
       "<matplotlib.figure.Figure at 0x7fcc486dca58>"
      ]
     },
     "metadata": {
      "needs_background": "light"
     },
     "output_type": "display_data"
    }
   ],
   "source": [
    "Deltas=[]\n",
    "steps=[]\n",
    "for i in range(2000,4000,100):\n",
    "    Deltas.append(get_delta(i)[1])\n",
    "    steps.append(get_delta(i)[0])\n",
    "Par=[]\n",
    "for i in range(len(steps)):\n",
    "    Par.append(steps[i]**2)\n",
    "\n",
    "plt.plot(steps, steps, color='g',label='line')\n",
    "plt.plot(steps, Deltas,color='r',linestyle='--',label='error')\n",
    "plt.plot(steps, Par,color='b',linestyle='-.',label='x^2')\n",
    "plt.legend()\n",
    "plt.xlabel(\"Delta h\")\n",
    "plt.ylabel(\"Delta y\")\n",
    "plt.show()"
   ]
  },
  {
   "cell_type": "code",
   "execution_count": 53,
   "metadata": {},
   "outputs": [
    {
     "data": {
      "image/png": "[encoded data removed]",
      "text/plain": [
       "<matplotlib.figure.Figure at 0x7fcc4850aeb8>"
      ]
     },
     "metadata": {
      "needs_background": "light"
     },
     "output_type": "display_data"
    }
   ],
   "source": [
    "plt.plot(steps, steps, color='g',label='line')\n",
    "plt.plot(steps, Deltas,color='r',linestyle='--',label='error')\n",
    "plt.plot(steps, Par,color='b',linestyle='-.',label='x^2')\n",
    "plt.legend()\n",
    "plt.yscale('log')\n",
    "plt.xscale('log')\n",
    "plt.show()"
   ]
  },
  {
   "cell_type": "code",
   "execution_count": 54,
   "metadata": {
    "scrolled": true
   },
   "outputs": [
    {
     "name": "stdout",
     "output_type": "stream",
     "text": [
      "k_log_error = 3.8223957698579802\n"
     ]
    }
   ],
   "source": [
    "Deltas=np.log(Deltas)\n",
    "steps=np.log(steps)\n",
    "print(\"k_log_error = {}\".format(np.polyfit(steps, Deltas, 1)[0]))"
   ]
  },
  {
   "cell_type": "markdown",
   "metadata": {},
   "source": [
    "## 2.2 Маятник из первой задачи"
   ]
  },
  {
   "cell_type": "markdown",
   "metadata": {},
   "source": [
    "$$\\alpha'(t)=\\theta(t)\\\\ \\theta'(t)=-\\sin \\alpha(t),t\\in[0,T]\\\\\\alpha(0)=\\pi/2,\\theta(0)=0$$"
   ]
  },
  {
   "cell_type": "code",
   "execution_count": 56,
   "metadata": {},
   "outputs": [],
   "source": [
    "y0=np.array([np.pi/2,0])"
   ]
  },
  {
   "cell_type": "code",
   "execution_count": 59,
   "metadata": {},
   "outputs": [],
   "source": [
    "T=4*1.854074677301372"
   ]
  },
  {
   "cell_type": "code",
   "execution_count": 62,
   "metadata": {},
   "outputs": [],
   "source": [
    "def pendulum(t,y):\n",
    "    answer=np.zeros(2)\n",
    "    answer[0]=y[1]\n",
    "    answer[1]=-np.sin(y[0])\n",
    "    return answer"
   ]
  },
  {
   "cell_type": "code",
   "execution_count": 63,
   "metadata": {
    "scrolled": true
   },
   "outputs": [
    {
     "data": {
      "image/png": "[encoded data removed]",
      "text/plain": [
       "<matplotlib.figure.Figure at 0x7fcc484ee710>"
      ]
     },
     "metadata": {
      "needs_background": "light"
     },
     "output_type": "display_data"
    }
   ],
   "source": [
    "LSRK=Runge_Kutta_LSRK(F=pendulum,y0=y0,start=0,end=T,LSRK_TYPE='inviscid')\n",
    "t_values,y_values=LSRK.compute(1000)\n",
    "\n",
    "plt.plot(t_values, y_values)\n",
    "\n",
    "plt.xlabel('t')\n",
    "plt.ylabel('y')\n",
    "\n",
    "plt.figure\n",
    "plt.show()"
   ]
  },
  {
   "cell_type": "markdown",
   "metadata": {},
   "source": [
    "_Дальше : заготовка на питоне для уравнения переноса. Аппроксимация уравнения переноса - там уже визуализация, тест кейс, проверка по времени_"
   ]
  }
 ],
 "metadata": {
  "kernelspec": {
   "display_name": "Python 3",
   "language": "python",
   "name": "python3"
  },
  "language_info": {
   "codemirror_mode": {
    "name": "ipython",
    "version": 3
   },
   "file_extension": ".py",
   "mimetype": "text/x-python",
   "name": "python",
   "nbconvert_exporter": "python",
   "pygments_lexer": "ipython3",
   "version": "3.6.9"
  }
 },
 "nbformat": 4,
 "nbformat_minor": 4
}
